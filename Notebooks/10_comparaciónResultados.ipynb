{
  "nbformat": 4,
  "nbformat_minor": 0,
  "metadata": {
    "colab": {
      "name": "9_comparaciónResultados.ipynb",
      "provenance": [],
      "collapsed_sections": [],
      "toc_visible": true
    },
    "kernelspec": {
      "name": "python3",
      "display_name": "Python 3"
    }
  },
  "cells": [
    {
      "cell_type": "code",
      "metadata": {
        "id": "pb9CpFO8PPSa"
      },
      "source": [
        "import pandas as pd\n",
        "import numpy as np\n",
        "import matplotlib.pyplot as plt\n",
        "import seaborn as sns\n",
        "from numpy import asarray\n",
        "from sklearn.preprocessing import MinMaxScaler, StandardScaler\n",
        "from sklearn.metrics import accuracy_score, recall_score, f1_score, mean_squared_error\n",
        "from nltk import ngrams"
      ],
      "execution_count": 34,
      "outputs": []
    },
    {
      "cell_type": "code",
      "metadata": {
        "colab": {
          "base_uri": "https://localhost:8080/"
        },
        "id": "b3kbEm_2PmTR",
        "outputId": "d51c079b-1958-436b-dc2c-4849830f1fa0"
      },
      "source": [
        "from google.colab import drive\n",
        "drive.mount('/content/drive')"
      ],
      "execution_count": 1,
      "outputs": [
        {
          "output_type": "stream",
          "text": [
            "Mounted at /content/drive\n"
          ],
          "name": "stdout"
        }
      ]
    },
    {
      "cell_type": "code",
      "metadata": {
        "id": "tjSgmjgqP4Vd"
      },
      "source": [
        "results_dir = '/content/drive/MyDrive/0AccTeam/results/'"
      ],
      "execution_count": 2,
      "outputs": []
    },
    {
      "cell_type": "code",
      "metadata": {
        "id": "EAB2jFQ_PmZe"
      },
      "source": [
        "results = pd.read_csv(results_dir+\"results.csv\", nrows=1000)\n",
        "scaler = MinMaxScaler()\n",
        "results[\"food_score\"] = scaler.fit_transform(results[[\"food_score\"]])\n",
        "results[\"service_score\"] = scaler.fit_transform(results[[\"service_score\"]])"
      ],
      "execution_count": 5,
      "outputs": []
    },
    {
      "cell_type": "code",
      "metadata": {
        "id": "Zie6iNoCTaIO"
      },
      "source": [
        "results_fb = pd.read_csv(results_dir+\"results_facebook.csv\")\n",
        "testing_results = results_fb[[\"food_label\", \"service_label\"]]\n",
        "del results_fb[\"food_label\"]\n",
        "del results_fb[\"service_label\"]"
      ],
      "execution_count": 6,
      "outputs": []
    },
    {
      "cell_type": "code",
      "metadata": {
        "colab": {
          "base_uri": "https://localhost:8080/",
          "height": 282
        },
        "id": "yvjKAA_YVzMC",
        "outputId": "e6ff8883-25d2-4634-939c-2507384f6329"
      },
      "source": [
        "results_fb.food_score.hist(bins = np.arange(0,1.05, 0.05), density=True)"
      ],
      "execution_count": 7,
      "outputs": [
        {
          "output_type": "execute_result",
          "data": {
            "text/plain": [
              "<matplotlib.axes._subplots.AxesSubplot at 0x7fcc589d2b50>"
            ]
          },
          "metadata": {
            "tags": []
          },
          "execution_count": 7
        },
        {
          "output_type": "display_data",
          "data": {
            "image/png": "[encoded data removed]",
            "text/plain": [
              "<Figure size 432x288 with 1 Axes>"
            ]
          },
          "metadata": {
            "tags": [],
            "needs_background": "light"
          }
        }
      ]
    },
    {
      "cell_type": "code",
      "metadata": {
        "colab": {
          "base_uri": "https://localhost:8080/",
          "height": 282
        },
        "id": "MDFnOyVRaB_l",
        "outputId": "a3e383f8-6051-4570-9842-693840589a28"
      },
      "source": [
        "results_fb.service_score.hist(bins = np.arange(0,1.05, 0.05), density=True)"
      ],
      "execution_count": 8,
      "outputs": [
        {
          "output_type": "execute_result",
          "data": {
            "text/plain": [
              "<matplotlib.axes._subplots.AxesSubplot at 0x7fcc58902a90>"
            ]
          },
          "metadata": {
            "tags": []
          },
          "execution_count": 8
        },
        {
          "output_type": "display_data",
          "data": {
            "image/png": "[encoded data removed]",
            "text/plain": [
              "<Figure size 432x288 with 1 Axes>"
            ]
          },
          "metadata": {
            "tags": [],
            "needs_background": "light"
          }
        }
      ]
    },
    {
      "cell_type": "code",
      "metadata": {
        "id": "JlYPZ0DpaCG7"
      },
      "source": [
        "results_fb[\"food_label\"] = results_fb[\"food_score\"]>=0.95\n",
        "results_fb[\"service_label\"] = results_fb[\"service_score\"]>=0.85\n",
        "\n",
        "#print(\"Food reviews: \", results_fb[\"food_label\"].sum())\n",
        "#print(\"Service reviews: \", results_fb[\"service_label\"].sum())"
      ],
      "execution_count": 9,
      "outputs": []
    },
    {
      "cell_type": "code",
      "metadata": {
        "id": "YDmjOtrOWhpw"
      },
      "source": [
        ""
      ],
      "execution_count": null,
      "outputs": []
    },
    {
      "cell_type": "code",
      "metadata": {
        "colab": {
          "base_uri": "https://localhost:8080/"
        },
        "id": "kEw2UxOMWUzb",
        "outputId": "94943589-99a7-4002-8826-915611b96de3"
      },
      "source": [
        "print(\"Food reviews: \", testing_results[\"food_label\"].sum())\n",
        "print(\"Service reviews: \", testing_results[\"service_label\"].sum())"
      ],
      "execution_count": 10,
      "outputs": [
        {
          "output_type": "stream",
          "text": [
            "Food reviews:  508\n",
            "Service reviews:  643\n"
          ],
          "name": "stdout"
        }
      ]
    },
    {
      "cell_type": "code",
      "metadata": {
        "colab": {
          "base_uri": "https://localhost:8080/",
          "height": 386
        },
        "id": "3Jk14pXCWUAx",
        "outputId": "a5c14837-95d7-4ac5-a874-c848c57b4c45"
      },
      "source": [
        "#Displot de food score\n",
        "sns.displot(results_fb[\"food_score\"], kind=\"ecdf\")"
      ],
      "execution_count": 11,
      "outputs": [
        {
          "output_type": "execute_result",
          "data": {
            "text/plain": [
              "<seaborn.axisgrid.FacetGrid at 0x7fcc5846e450>"
            ]
          },
          "metadata": {
            "tags": []
          },
          "execution_count": 11
        },
        {
          "output_type": "display_data",
          "data": {
            "image/png": "[encoded data removed]",
            "text/plain": [
              "<Figure size 360x360 with 1 Axes>"
            ]
          },
          "metadata": {
            "tags": [],
            "needs_background": "light"
          }
        }
      ]
    },
    {
      "cell_type": "code",
      "metadata": {
        "colab": {
          "base_uri": "https://localhost:8080/",
          "height": 386
        },
        "id": "GlXIieWnazGv",
        "outputId": "86513208-129c-4be0-d363-1fa6ae1c28db"
      },
      "source": [
        "#Displot de service score\n",
        "sns.displot(results_fb[\"service_score\"], kind=\"ecdf\")"
      ],
      "execution_count": 12,
      "outputs": [
        {
          "output_type": "execute_result",
          "data": {
            "text/plain": [
              "<seaborn.axisgrid.FacetGrid at 0x7fcc583a66d0>"
            ]
          },
          "metadata": {
            "tags": []
          },
          "execution_count": 12
        },
        {
          "output_type": "display_data",
          "data": {
            "image/png": "[encoded data removed]",
            "text/plain": [
              "<Figure size 360x360 with 1 Axes>"
            ]
          },
          "metadata": {
            "tags": [],
            "needs_background": "light"
          }
        }
      ]
    },
    {
      "cell_type": "code",
      "metadata": {
        "id": "ymaNgbILWvSI"
      },
      "source": [
        "np.random.seed(42)\n",
        "random_array = np.random.rand(1000,1)"
      ],
      "execution_count": 13,
      "outputs": []
    },
    {
      "cell_type": "code",
      "metadata": {
        "colab": {
          "base_uri": "https://localhost:8080/"
        },
        "id": "es-bxmvlTaQY",
        "outputId": "3b94ae11-e603-466b-eab9-b760b91cf0d7"
      },
      "source": [
        "print(\"Recall Food:\", recall_score(results[\"food_label\"],testing_results[\"food_label\"]))\n",
        "print(\"Recall Service:\", recall_score(results[\"service_label\"],testing_results[\"service_label\"]))"
      ],
      "execution_count": 14,
      "outputs": [
        {
          "output_type": "stream",
          "text": [
            "Recall Food: 0.8843416370106761\n",
            "Recall Service: 0.9342301943198804\n"
          ],
          "name": "stdout"
        }
      ]
    },
    {
      "cell_type": "code",
      "metadata": {
        "id": "7yBbzyuMZQmm"
      },
      "source": [
        "food_th = 0\n",
        "service_th = 0\n",
        "list_food_recall = []\n",
        "list_service_recall = []\n",
        "list_threshold = []\n",
        "\n",
        "for i in range(0,100,1):\n",
        "  print(\"threshold\",(100 - i)/100 )\n",
        "  \n",
        "  results_fb[\"food_label\"] = results_fb[\"food_score\"]>=(100 - i)/100\n",
        "  results_fb[\"service_label\"] = results_fb[\"service_score\"]>=(100 - i)/100\n",
        "  recall_food = recall_score(results_fb[\"food_label\"],testing_results[\"food_label\"])\n",
        "  #print(\"Recall Food:\", recall_food)\n",
        "  recall_service = recall_score(results_fb[\"service_label\"],testing_results[\"service_label\"])\n",
        "  #print(\"Recall Service:\", recall_service)\n",
        "\n",
        "  list_threshold.append((100 - i)/100 )\n",
        "  list_service_recall.append(recall_service)\n",
        "  list_food_recall.append(recall_food)\n",
        "  \n",
        "  print(\" \")"
      ],
      "execution_count": null,
      "outputs": []
    },
    {
      "cell_type": "code",
      "metadata": {
        "id": "c-oBJk35eBvc"
      },
      "source": [
        "list_food_recall = np.array(list_food_recall)\n",
        "list_service_recall = np.array(list_service_recall)\n",
        "list_threshold = np.array(list_threshold)"
      ],
      "execution_count": 16,
      "outputs": []
    },
    {
      "cell_type": "code",
      "metadata": {
        "colab": {
          "base_uri": "https://localhost:8080/"
        },
        "id": "aNqmrSE5eZSO",
        "outputId": "bea99e83-0f36-469e-f79f-c7b7d6079bdb"
      },
      "source": [
        "list_threshold[list_service_recall.argmax()]"
      ],
      "execution_count": 17,
      "outputs": [
        {
          "output_type": "execute_result",
          "data": {
            "text/plain": [
              "0.98"
            ]
          },
          "metadata": {
            "tags": []
          },
          "execution_count": 17
        }
      ]
    },
    {
      "cell_type": "code",
      "metadata": {
        "colab": {
          "base_uri": "https://localhost:8080/"
        },
        "id": "BELlfaU1ewrY",
        "outputId": "83e9c73f-91be-4b32-93fe-62fc364a06e3"
      },
      "source": [
        "list_threshold[list_food_recall.argmax()]"
      ],
      "execution_count": 18,
      "outputs": [
        {
          "output_type": "execute_result",
          "data": {
            "text/plain": [
              "0.98"
            ]
          },
          "metadata": {
            "tags": []
          },
          "execution_count": 18
        }
      ]
    },
    {
      "cell_type": "code",
      "metadata": {
        "colab": {
          "base_uri": "https://localhost:8080/"
        },
        "id": "YhsGO4iBchDP",
        "outputId": "59fbf440-c591-4030-9ef7-e25d6cbc4c2c"
      },
      "source": [
        "list_food_recall.argmax()"
      ],
      "execution_count": 19,
      "outputs": [
        {
          "output_type": "execute_result",
          "data": {
            "text/plain": [
              "2"
            ]
          },
          "metadata": {
            "tags": []
          },
          "execution_count": 19
        }
      ]
    },
    {
      "cell_type": "code",
      "metadata": {
        "id": "CqlOdrUAbhD-"
      },
      "source": [
        "results_fb[\"food_label\"] = results_fb[\"food_score\"]>= 0.98\n",
        "results_fb[\"service_label\"] = results_fb[\"service_score\"]>= 0.98"
      ],
      "execution_count": 20,
      "outputs": []
    },
    {
      "cell_type": "code",
      "metadata": {
        "id": "Tloe1mk7bhKF"
      },
      "source": [
        "recall_food = recall_score(results_fb[\"food_label\"],testing_results[\"food_label\"])\n",
        "  #print(\"Recall Food:\", recall_food)\n",
        "recall_service = recall_score(results_fb[\"service_label\"],testing_results[\"service_label\"])"
      ],
      "execution_count": 21,
      "outputs": []
    },
    {
      "cell_type": "code",
      "metadata": {
        "colab": {
          "base_uri": "https://localhost:8080/"
        },
        "id": "IZjJ_jV0ZQsU",
        "outputId": "e628ce06-e182-4b95-d61b-681acb245195"
      },
      "source": [
        "recall_food"
      ],
      "execution_count": 22,
      "outputs": [
        {
          "output_type": "execute_result",
          "data": {
            "text/plain": [
              "0.5544174135723432"
            ]
          },
          "metadata": {
            "tags": []
          },
          "execution_count": 22
        }
      ]
    },
    {
      "cell_type": "code",
      "metadata": {
        "colab": {
          "base_uri": "https://localhost:8080/"
        },
        "id": "oA8lEY4TZpCE",
        "outputId": "5615358c-fe87-4576-d474-365172b9e5cd"
      },
      "source": [
        "recall_service"
      ],
      "execution_count": 23,
      "outputs": [
        {
          "output_type": "execute_result",
          "data": {
            "text/plain": [
              "0.8118279569892473"
            ]
          },
          "metadata": {
            "tags": []
          },
          "execution_count": 23
        }
      ]
    },
    {
      "cell_type": "markdown",
      "metadata": {
        "id": "IDwGMf3whF-5"
      },
      "source": [
        "## N-grams Service"
      ]
    },
    {
      "cell_type": "code",
      "metadata": {
        "colab": {
          "base_uri": "https://localhost:8080/"
        },
        "id": "LoUpOvMDS2Xm",
        "outputId": "b830013f-4774-4e2b-9ddf-f8ad402ff7c4"
      },
      "source": [
        "#Bigrams - OurData\n",
        "n = 2\n",
        "ngrams = ngrams(\" \".join(results[results[\"service_label\"]==True][\"text\"]).split(), n)\n",
        "ngrams = pd.Series(ngrams)\n",
        "ngrams.value_counts().head(20)"
      ],
      "execution_count": 38,
      "outputs": [
        {
          "output_type": "execute_result",
          "data": {
            "text/plain": [
              "(go, back)             39\n",
              "(great, service)       36\n",
              "(first, time)          36\n",
              "(customer, service)    33\n",
              "(great, food)          32\n",
              "(food, good)           32\n",
              "(food, great)          32\n",
              "(service, great)       29\n",
              "(really, good)         25\n",
              "(come, back)           24\n",
              "(food, service)        23\n",
              "(good, food)           23\n",
              "(good, service)        20\n",
              "(every, time)          19\n",
              "(highly, recommend)    19\n",
              "(one, best)            17\n",
              "(great, place)         17\n",
              "(next, time)           16\n",
              "(place, great)         16\n",
              "(happy, hour)          15\n",
              "dtype: int64"
            ]
          },
          "metadata": {
            "tags": []
          },
          "execution_count": 38
        }
      ]
    },
    {
      "cell_type": "code",
      "metadata": {
        "id": "ioPD0SZlgK0Z",
        "colab": {
          "base_uri": "https://localhost:8080/"
        },
        "outputId": "e98fb5e5-9690-4081-b34f-0c77fe4d6bca"
      },
      "source": [
        "#Bigrams - FBData\r\n",
        "n = 2\r\n",
        "ngrams = ngrams(\" \".join(results_fb[results_fb[\"service_label\"]==True][\"texto\"]).split(), n)\r\n",
        "ngrams = pd.Series(ngrams)\r\n",
        "ngrams.value_counts().head(20)"
      ],
      "execution_count": 43,
      "outputs": [
        {
          "output_type": "execute_result",
          "data": {
            "text/plain": [
              "(food, service)         13\n",
              "(customer, service)     12\n",
              "(great, service)        11\n",
              "(food, good)            11\n",
              "(go, back)              10\n",
              "(service, great)        10\n",
              "(first, time)           10\n",
              "(really, good)           9\n",
              "(ice, cream)             9\n",
              "(highly, recommend)      8\n",
              "(good, food)             7\n",
              "(come, back)             7\n",
              "(food, great)            6\n",
              "(service, amazing)       6\n",
              "(las, vegas)             6\n",
              "(delicious, service)     5\n",
              "(pad, thai)              5\n",
              "(service, little)        5\n",
              "(good, service)          5\n",
              "(the, food)              5\n",
              "dtype: int64"
            ]
          },
          "metadata": {
            "tags": []
          },
          "execution_count": 43
        }
      ]
    },
    {
      "cell_type": "markdown",
      "metadata": {
        "id": "1g-QfN3NiQmt"
      },
      "source": [
        "## N-grams Food"
      ]
    },
    {
      "cell_type": "code",
      "metadata": {
        "id": "7Uppg1B-gLQ1",
        "colab": {
          "base_uri": "https://localhost:8080/"
        },
        "outputId": "e304a2f9-4eae-4ca1-f468-8b9eb3318874"
      },
      "source": [
        "#Bigrams - OurData\r\n",
        "n = 2\r\n",
        "ngrams = ngrams(\" \".join(results[results[\"food_label\"]==True][\"text\"]).split(), n)\r\n",
        "ngrams = pd.Series(ngrams)\r\n",
        "ngrams.value_counts().head(20)"
      ],
      "execution_count": 47,
      "outputs": [
        {
          "output_type": "execute_result",
          "data": {
            "text/plain": [
              "(food, good)           34\n",
              "(food, great)          32\n",
              "(great, service)       28\n",
              "(great, food)          28\n",
              "(good, food)           27\n",
              "(go, back)             27\n",
              "(service, great)       27\n",
              "(really, good)         25\n",
              "(first, time)          25\n",
              "(food, service)        19\n",
              "(fried, rice)          18\n",
              "(come, back)           18\n",
              "(good, service)        18\n",
              "(pretty, good)         16\n",
              "(place, great)         15\n",
              "(one, best)            14\n",
              "(service, good)        13\n",
              "(great, place)         13\n",
              "(staff, friendly)      13\n",
              "(customer, service)    12\n",
              "dtype: int64"
            ]
          },
          "metadata": {
            "tags": []
          },
          "execution_count": 47
        }
      ]
    },
    {
      "cell_type": "code",
      "metadata": {
        "colab": {
          "base_uri": "https://localhost:8080/"
        },
        "id": "8dvENcCKS3bf",
        "outputId": "75b11af1-9254-4c0a-ed76-1c03853342f0"
      },
      "source": [
        "#Bigrams - FBData\r\n",
        "n = 2\r\n",
        "ngrams = ngrams(\" \".join(results_fb[results_fb[\"food_label\"]==True][\"texto\"]).split(), n)\r\n",
        "ngrams = pd.Series(ngrams)\r\n",
        "ngrams.value_counts().head(20)"
      ],
      "execution_count": 50,
      "outputs": [
        {
          "output_type": "execute_result",
          "data": {
            "text/plain": [
              "(go, back)             42\n",
              "(first, time)          32\n",
              "(food, great)          31\n",
              "(food, good)           30\n",
              "(great, service)       30\n",
              "(really, good)         28\n",
              "(great, food)          27\n",
              "(come, back)           26\n",
              "(good, food)           26\n",
              "(customer, service)    24\n",
              "(service, great)       24\n",
              "(food, service)        23\n",
              "(highly, recommend)    23\n",
              "(next, time)           20\n",
              "(good, service)        19\n",
              "(every, time)          18\n",
              "(happy, hour)          18\n",
              "(love, place)          18\n",
              "(ice, cream)           18\n",
              "(one, best)            17\n",
              "dtype: int64"
            ]
          },
          "metadata": {
            "tags": []
          },
          "execution_count": 50
        }
      ]
    }
  ]
}