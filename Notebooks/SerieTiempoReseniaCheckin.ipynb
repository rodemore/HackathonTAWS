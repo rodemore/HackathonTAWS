{
 "cells": [
  {
   "cell_type": "code",
   "execution_count": 1,
   "metadata": {
    "executionInfo": {
     "elapsed": 727,
     "status": "ok",
     "timestamp": 1615260919812,
     "user": {
      "displayName": "Robert Denilson Moreno Carrillo",
      "photoUrl": "https://lh3.googleusercontent.com/a-/AOh14Gh_NNO6BQE7t-VQ_S1KgEL5kb5JfpWvhBVvEcZS=s64",
      "userId": "16720048605800441930"
     },
     "user_tz": 300
    },
    "id": "gxrEFC87WpAi"
   },
   "outputs": [],
   "source": [
    "import pandas as pd\n",
    "import matplotlib.pyplot as plt"
   ]
  },
  {
   "cell_type": "code",
   "execution_count": 3,
   "metadata": {
    "colab": {
     "base_uri": "https://localhost:8080/"
    },
    "executionInfo": {
     "elapsed": 34542,
     "status": "ok",
     "timestamp": 1615260958985,
     "user": {
      "displayName": "Robert Denilson Moreno Carrillo",
      "photoUrl": "https://lh3.googleusercontent.com/a-/AOh14Gh_NNO6BQE7t-VQ_S1KgEL5kb5JfpWvhBVvEcZS=s64",
      "userId": "16720048605800441930"
     },
     "user_tz": 300
    },
    "id": "7f6c8Sw9W2G3",
    "outputId": "0c36cee5-901f-4014-82fc-33dc80e33ffb"
   },
   "outputs": [
    {
     "name": "stdout",
     "output_type": "stream",
     "text": [
      "Mounted at /content/drive\n"
     ]
    }
   ],
   "source": []
  },
  {
   "cell_type": "code",
   "execution_count": 4,
   "metadata": {
    "executionInfo": {
     "elapsed": 1001,
     "status": "ok",
     "timestamp": 1615260963304,
     "user": {
      "displayName": "Robert Denilson Moreno Carrillo",
      "photoUrl": "https://lh3.googleusercontent.com/a-/AOh14Gh_NNO6BQE7t-VQ_S1KgEL5kb5JfpWvhBVvEcZS=s64",
      "userId": "16720048605800441930"
     },
     "user_tz": 300
    },
    "id": "anyB0tbXX6vw"
   },
   "outputs": [],
   "source": [
    "# Google colab\n",
    "#from google.colab import drive\n",
    "#drive.mount('/content/drive')\n",
    "#root = '/content/drive/MyDrive/0AccTeam/'\n",
    "root = './Blueberry'"
   ]
  },
  {
   "cell_type": "code",
   "execution_count": 5,
   "metadata": {
    "executionInfo": {
     "elapsed": 1295,
     "status": "ok",
     "timestamp": 1615260966339,
     "user": {
      "displayName": "Robert Denilson Moreno Carrillo",
      "photoUrl": "https://lh3.googleusercontent.com/a-/AOh14Gh_NNO6BQE7t-VQ_S1KgEL5kb5JfpWvhBVvEcZS=s64",
      "userId": "16720048605800441930"
     },
     "user_tz": 300
    },
    "id": "TNGAnAx4X97E"
   },
   "outputs": [],
   "source": [
    "# Google colab\n",
    "# consumo_dir = '/content/drive/MyDrive/0AccTeam/datasets_consumo/'\n",
    "\n",
    "consumo_dir = './datasets_consumo'"
   ]
  },
  {
   "cell_type": "code",
   "execution_count": 6,
   "metadata": {
    "colab": {
     "base_uri": "https://localhost:8080/"
    },
    "executionInfo": {
     "elapsed": 2273,
     "status": "ok",
     "timestamp": 1615260971423,
     "user": {
      "displayName": "Robert Denilson Moreno Carrillo",
      "photoUrl": "https://lh3.googleusercontent.com/a-/AOh14Gh_NNO6BQE7t-VQ_S1KgEL5kb5JfpWvhBVvEcZS=s64",
      "userId": "16720048605800441930"
     },
     "user_tz": 300
    },
    "id": "ZIijvBWFYLhr",
    "outputId": "b10cc193-ef9f-49c4-9aaa-f8263806a50c"
   },
   "outputs": [
    {
     "name": "stderr",
     "output_type": "stream",
     "text": [
      "/usr/local/lib/python3.7/dist-packages/IPython/core/interactiveshell.py:2718: DtypeWarning: Columns (51,53,54) have mixed types.Specify dtype option on import or set low_memory=False.\n",
      "  interactivity=interactivity, compiler=compiler, result=result)\n"
     ]
    }
   ],
   "source": [
    "negocios = pd.read_csv(consumo_dir + \"negocio_consumo.csv\")"
   ]
  },
  {
   "cell_type": "code",
   "execution_count": 7,
   "metadata": {
    "executionInfo": {
     "elapsed": 368,
     "status": "ok",
     "timestamp": 1615260972568,
     "user": {
      "displayName": "Robert Denilson Moreno Carrillo",
      "photoUrl": "https://lh3.googleusercontent.com/a-/AOh14Gh_NNO6BQE7t-VQ_S1KgEL5kb5JfpWvhBVvEcZS=s64",
      "userId": "16720048605800441930"
     },
     "user_tz": 300
    },
    "id": "BKSZYWuZZofo"
   },
   "outputs": [],
   "source": [
    "negocios = negocios.negocio_id"
   ]
  },
  {
   "cell_type": "code",
   "execution_count": 8,
   "metadata": {
    "executionInfo": {
     "elapsed": 6538,
     "status": "ok",
     "timestamp": 1615260981912,
     "user": {
      "displayName": "Robert Denilson Moreno Carrillo",
      "photoUrl": "https://lh3.googleusercontent.com/a-/AOh14Gh_NNO6BQE7t-VQ_S1KgEL5kb5JfpWvhBVvEcZS=s64",
      "userId": "16720048605800441930"
     },
     "user_tz": 300
    },
    "id": "oPHZkSiZZwno"
   },
   "outputs": [],
   "source": [
    "checkin = pd.read_csv(root+\"checkin.csv\")\n",
    "checkin = checkin[checkin.negocio_id.isin(negocios)]"
   ]
  },
  {
   "cell_type": "code",
   "execution_count": 9,
   "metadata": {
    "colab": {
     "base_uri": "https://localhost:8080/",
     "height": 112
    },
    "executionInfo": {
     "elapsed": 5038,
     "status": "ok",
     "timestamp": 1615260981917,
     "user": {
      "displayName": "Robert Denilson Moreno Carrillo",
      "photoUrl": "https://lh3.googleusercontent.com/a-/AOh14Gh_NNO6BQE7t-VQ_S1KgEL5kb5JfpWvhBVvEcZS=s64",
      "userId": "16720048605800441930"
     },
     "user_tz": 300
    },
    "id": "HYCscd_AZ8N5",
    "outputId": "e5aaa674-b58a-4b00-a5bf-22deb3c5d3d0"
   },
   "outputs": [
    {
     "data": {
      "text/html": [
       "<div>\n",
       "<style scoped>\n",
       "    .dataframe tbody tr th:only-of-type {\n",
       "        vertical-align: middle;\n",
       "    }\n",
       "\n",
       "    .dataframe tbody tr th {\n",
       "        vertical-align: top;\n",
       "    }\n",
       "\n",
       "    .dataframe thead th {\n",
       "        text-align: right;\n",
       "    }\n",
       "</style>\n",
       "<table border=\"1\" class=\"dataframe\">\n",
       "  <thead>\n",
       "    <tr style=\"text-align: right;\">\n",
       "      <th></th>\n",
       "      <th>negocio_id</th>\n",
       "      <th>fecha</th>\n",
       "    </tr>\n",
       "  </thead>\n",
       "  <tbody>\n",
       "    <tr>\n",
       "      <th>0</th>\n",
       "      <td>--6MefnULPED_I942VcFNA</td>\n",
       "      <td>2011-06-04 18:22:23, 2011-07-23 23:51:33, 2012...</td>\n",
       "    </tr>\n",
       "    <tr>\n",
       "      <th>1</th>\n",
       "      <td>--7zmmkVg-IMGaXbuVd0SQ</td>\n",
       "      <td>2014-12-29 19:25:50, 2015-01-17 01:49:14, 2015...</td>\n",
       "    </tr>\n",
       "  </tbody>\n",
       "</table>\n",
       "</div>"
      ],
      "text/plain": [
       "               negocio_id                                              fecha\n",
       "0  --6MefnULPED_I942VcFNA  2011-06-04 18:22:23, 2011-07-23 23:51:33, 2012...\n",
       "1  --7zmmkVg-IMGaXbuVd0SQ  2014-12-29 19:25:50, 2015-01-17 01:49:14, 2015..."
      ]
     },
     "execution_count": 9,
     "metadata": {
      "tags": []
     },
     "output_type": "execute_result"
    }
   ],
   "source": [
    "checkin.head(2)"
   ]
  },
  {
   "cell_type": "code",
   "execution_count": 10,
   "metadata": {
    "executionInfo": {
     "elapsed": 608,
     "status": "ok",
     "timestamp": 1615260995019,
     "user": {
      "displayName": "Robert Denilson Moreno Carrillo",
      "photoUrl": "https://lh3.googleusercontent.com/a-/AOh14Gh_NNO6BQE7t-VQ_S1KgEL5kb5JfpWvhBVvEcZS=s64",
      "userId": "16720048605800441930"
     },
     "user_tz": 300
    },
    "id": "D5zM4orWaIOY"
   },
   "outputs": [],
   "source": [
    "checkin[\"visitas\"] = checkin.fecha.apply(lambda f: f.count(\",\") +1)"
   ]
  },
  {
   "cell_type": "code",
   "execution_count": 11,
   "metadata": {
    "executionInfo": {
     "elapsed": 29278,
     "status": "ok",
     "timestamp": 1615261037303,
     "user": {
      "displayName": "Robert Denilson Moreno Carrillo",
      "photoUrl": "https://lh3.googleusercontent.com/a-/AOh14Gh_NNO6BQE7t-VQ_S1KgEL5kb5JfpWvhBVvEcZS=s64",
      "userId": "16720048605800441930"
     },
     "user_tz": 300
    },
    "id": "XnLjb541aLLR"
   },
   "outputs": [],
   "source": [
    "dic = {\"negocio_id\": [], \"fecha\":[]}\n",
    "\n",
    "for row in checkin.iterrows():\n",
    "    fechas = eval(\"['\"+ row[1].fecha.replace(\", \", \"','\") + \"']\")\n",
    "    dic[\"negocio_id\"].extend([row[1].negocio_id]*len(fechas))\n",
    "    dic[\"fecha\"].extend(fechas)"
   ]
  },
  {
   "cell_type": "code",
   "execution_count": 16,
   "metadata": {
    "executionInfo": {
     "elapsed": 2732,
     "status": "ok",
     "timestamp": 1615261719948,
     "user": {
      "displayName": "Robert Denilson Moreno Carrillo",
      "photoUrl": "https://lh3.googleusercontent.com/a-/AOh14Gh_NNO6BQE7t-VQ_S1KgEL5kb5JfpWvhBVvEcZS=s64",
      "userId": "16720048605800441930"
     },
     "user_tz": 300
    },
    "id": "FBozhb54aMET"
   },
   "outputs": [],
   "source": [
    "checkin2 = pd.DataFrame(dic)\n",
    "checkin2 = checkin2[[\"negocio_id\", \"fecha\"]]"
   ]
  },
  {
   "cell_type": "code",
   "execution_count": 17,
   "metadata": {
    "executionInfo": {
     "elapsed": 2697,
     "status": "ok",
     "timestamp": 1615261724136,
     "user": {
      "displayName": "Robert Denilson Moreno Carrillo",
      "photoUrl": "https://lh3.googleusercontent.com/a-/AOh14Gh_NNO6BQE7t-VQ_S1KgEL5kb5JfpWvhBVvEcZS=s64",
      "userId": "16720048605800441930"
     },
     "user_tz": 300
    },
    "id": "KDWliB1maMb6"
   },
   "outputs": [],
   "source": [
    "checkin2.index = pd.to_datetime(checkin2.index)"
   ]
  },
  {
   "cell_type": "code",
   "execution_count": null,
   "metadata": {
    "id": "Z0QLrg-bHd6f"
   },
   "outputs": [],
   "source": []
  },
  {
   "cell_type": "code",
   "execution_count": 14,
   "metadata": {
    "colab": {
     "base_uri": "https://localhost:8080/",
     "height": 296
    },
    "executionInfo": {
     "elapsed": 1367,
     "status": "ok",
     "timestamp": 1615261692851,
     "user": {
      "displayName": "Robert Denilson Moreno Carrillo",
      "photoUrl": "https://lh3.googleusercontent.com/a-/AOh14Gh_NNO6BQE7t-VQ_S1KgEL5kb5JfpWvhBVvEcZS=s64",
      "userId": "16720048605800441930"
     },
     "user_tz": 300
    },
    "id": "8vF8Q4WAantF",
    "outputId": "601d0a42-48f8-47f4-f67f-775284e78bc5"
   },
   "outputs": [
    {
     "data": {
      "text/plain": [
       "<matplotlib.axes._subplots.AxesSubplot at 0x7f64a188aa50>"
      ]
     },
     "execution_count": 14,
     "metadata": {
      "tags": []
     },
     "output_type": "execute_result"
    },
    {
     "data": {
      "image/png": "[encoded data removed]",
      "text/plain": [
       "<Figure size 1080x288 with 1 Axes>"
      ]
     },
     "metadata": {
      "needs_background": "light",
      "tags": []
     },
     "output_type": "display_data"
    }
   ],
   "source": [
    "checkin2.resample(\"1D\").sum().plot(figsize=(15,4),legend=False)"
   ]
  },
  {
   "cell_type": "code",
   "execution_count": 36,
   "metadata": {
    "colab": {
     "base_uri": "https://localhost:8080/",
     "height": 206
    },
    "executionInfo": {
     "elapsed": 523,
     "status": "ok",
     "timestamp": 1615262034160,
     "user": {
      "displayName": "Robert Denilson Moreno Carrillo",
      "photoUrl": "https://lh3.googleusercontent.com/a-/AOh14Gh_NNO6BQE7t-VQ_S1KgEL5kb5JfpWvhBVvEcZS=s64",
      "userId": "16720048605800441930"
     },
     "user_tz": 300
    },
    "id": "JByVPrIuHogs",
    "outputId": "93af8590-ae74-477b-da02-827ec25997e6"
   },
   "outputs": [
    {
     "data": {
      "text/html": [
       "<div>\n",
       "<style scoped>\n",
       "    .dataframe tbody tr th:only-of-type {\n",
       "        vertical-align: middle;\n",
       "    }\n",
       "\n",
       "    .dataframe tbody tr th {\n",
       "        vertical-align: top;\n",
       "    }\n",
       "\n",
       "    .dataframe thead th {\n",
       "        text-align: right;\n",
       "    }\n",
       "</style>\n",
       "<table border=\"1\" class=\"dataframe\">\n",
       "  <thead>\n",
       "    <tr style=\"text-align: right;\">\n",
       "      <th></th>\n",
       "      <th>negocio_id</th>\n",
       "      <th>fecha</th>\n",
       "    </tr>\n",
       "  </thead>\n",
       "  <tbody>\n",
       "    <tr>\n",
       "      <th>1970-01-01 00:00:00.011340366</th>\n",
       "      <td>zzzaIBwimxVej4tY6qFOUQ</td>\n",
       "      <td>2014-07-04 21:28:29</td>\n",
       "    </tr>\n",
       "    <tr>\n",
       "      <th>1970-01-01 00:00:00.011340367</th>\n",
       "      <td>zzzaIBwimxVej4tY6qFOUQ</td>\n",
       "      <td>2014-07-14 01:02:55</td>\n",
       "    </tr>\n",
       "    <tr>\n",
       "      <th>1970-01-01 00:00:00.011340368</th>\n",
       "      <td>zzzaIBwimxVej4tY6qFOUQ</td>\n",
       "      <td>2014-07-14 21:26:59</td>\n",
       "    </tr>\n",
       "    <tr>\n",
       "      <th>1970-01-01 00:00:00.011340369</th>\n",
       "      <td>zzzaIBwimxVej4tY6qFOUQ</td>\n",
       "      <td>2014-07-17 01:06:02</td>\n",
       "    </tr>\n",
       "    <tr>\n",
       "      <th>1970-01-01 00:00:00.011340370</th>\n",
       "      <td>zzzaIBwimxVej4tY6qFOUQ</td>\n",
       "      <td>2014-07-17 19:20:28</td>\n",
       "    </tr>\n",
       "  </tbody>\n",
       "</table>\n",
       "</div>"
      ],
      "text/plain": [
       "                                           negocio_id                fecha\n",
       "1970-01-01 00:00:00.011340366  zzzaIBwimxVej4tY6qFOUQ  2014-07-04 21:28:29\n",
       "1970-01-01 00:00:00.011340367  zzzaIBwimxVej4tY6qFOUQ  2014-07-14 01:02:55\n",
       "1970-01-01 00:00:00.011340368  zzzaIBwimxVej4tY6qFOUQ  2014-07-14 21:26:59\n",
       "1970-01-01 00:00:00.011340369  zzzaIBwimxVej4tY6qFOUQ  2014-07-17 01:06:02\n",
       "1970-01-01 00:00:00.011340370  zzzaIBwimxVej4tY6qFOUQ  2014-07-17 19:20:28"
      ]
     },
     "execution_count": 36,
     "metadata": {
      "tags": []
     },
     "output_type": "execute_result"
    }
   ],
   "source": [
    "checkin2.tail()"
   ]
  },
  {
   "cell_type": "code",
   "execution_count": null,
   "metadata": {
    "executionInfo": {
     "elapsed": 1371,
     "status": "ok",
     "timestamp": 1615262080945,
     "user": {
      "displayName": "Robert Denilson Moreno Carrillo",
      "photoUrl": "https://lh3.googleusercontent.com/a-/AOh14Gh_NNO6BQE7t-VQ_S1KgEL5kb5JfpWvhBVvEcZS=s64",
      "userId": "16720048605800441930"
     },
     "user_tz": 300
    },
    "id": "fxl2ghD3GXyN"
   },
   "outputs": [],
   "source": []
  },
  {
   "cell_type": "code",
   "execution_count": null,
   "metadata": {
    "colab": {
     "base_uri": "https://localhost:8080/",
     "height": 296
    },
    "executionInfo": {
     "elapsed": 1560,
     "status": "ok",
     "timestamp": 1615262083098,
     "user": {
      "displayName": "Robert Denilson Moreno Carrillo",
      "photoUrl": "https://lh3.googleusercontent.com/a-/AOh14Gh_NNO6BQE7t-VQ_S1KgEL5kb5JfpWvhBVvEcZS=s64",
      "userId": "16720048605800441930"
     },
     "user_tz": 300
    },
    "id": "UU9Z_TweHOrY",
    "outputId": "b86809b2-a119-4ca0-e645-8c0285fc3c79"
   },
   "outputs": [],
   "source": []
  },
  {
   "cell_type": "code",
   "execution_count": null,
   "metadata": {
    "id": "R73IU2CEHm0f"
   },
   "outputs": [],
   "source": [
    "checkin_negocio.resample(\"1D\").sum().plot(figsize=(15,4),legend=False)"
   ]
  },
  {
   "cell_type": "code",
   "execution_count": null,
   "metadata": {
    "id": "AfdcmfwHbacX"
   },
   "outputs": [],
   "source": [
    "resenias = pd.read_csv(consumo_dir+\"reseña_sin_comentario_consumo.csv\")"
   ]
  },
  {
   "cell_type": "code",
   "execution_count": null,
   "metadata": {
    "colab": {
     "base_uri": "https://localhost:8080/",
     "height": 140
    },
    "executionInfo": {
     "elapsed": 780,
     "status": "ok",
     "timestamp": 1614831107467,
     "user": {
      "displayName": "Robert Denilson Moreno Carrillo",
      "photoUrl": "https://lh3.googleusercontent.com/a-/AOh14Gh_NNO6BQE7t-VQ_S1KgEL5kb5JfpWvhBVvEcZS=s64",
      "userId": "16720048605800441930"
     },
     "user_tz": 300
    },
    "id": "qRcrD5GKbw1t",
    "outputId": "aa60dde8-3219-4468-9c3d-3868f23ac7a5"
   },
   "outputs": [
    {
     "data": {
      "text/html": [
       "<div>\n",
       "<style scoped>\n",
       "    .dataframe tbody tr th:only-of-type {\n",
       "        vertical-align: middle;\n",
       "    }\n",
       "\n",
       "    .dataframe tbody tr th {\n",
       "        vertical-align: top;\n",
       "    }\n",
       "\n",
       "    .dataframe thead th {\n",
       "        text-align: right;\n",
       "    }\n",
       "</style>\n",
       "<table border=\"1\" class=\"dataframe\">\n",
       "  <thead>\n",
       "    <tr style=\"text-align: right;\">\n",
       "      <th></th>\n",
       "      <th>reseña_id</th>\n",
       "      <th>usuario_id</th>\n",
       "      <th>negocio_id</th>\n",
       "      <th>estrellas</th>\n",
       "      <th>util</th>\n",
       "      <th>gracioso</th>\n",
       "      <th>genial</th>\n",
       "      <th>fecha</th>\n",
       "    </tr>\n",
       "  </thead>\n",
       "  <tbody>\n",
       "    <tr>\n",
       "      <th>0</th>\n",
       "      <td>LG2ZaYiOgpr2DK_90pYjNw</td>\n",
       "      <td>V34qejxNsCbcgD8C0HVk-Q</td>\n",
       "      <td>HQl28KMwrEKHqhFrrDqVNQ</td>\n",
       "      <td>5.0</td>\n",
       "      <td>1.0</td>\n",
       "      <td>0.0</td>\n",
       "      <td>0.0</td>\n",
       "      <td>2015-12-05 03:18:11</td>\n",
       "    </tr>\n",
       "    <tr>\n",
       "      <th>1</th>\n",
       "      <td>L2O_INwlrRuoX05KSjc4eg</td>\n",
       "      <td>5vD2kmE25YBrbayKhykNxQ</td>\n",
       "      <td>nlxHRv1zXGT0c0K51q3jDg</td>\n",
       "      <td>5.0</td>\n",
       "      <td>2.0</td>\n",
       "      <td>0.0</td>\n",
       "      <td>0.0</td>\n",
       "      <td>2013-05-07 07:25:25</td>\n",
       "    </tr>\n",
       "  </tbody>\n",
       "</table>\n",
       "</div>"
      ],
      "text/plain": [
       "                reseña_id              usuario_id  ... genial                fecha\n",
       "0  LG2ZaYiOgpr2DK_90pYjNw  V34qejxNsCbcgD8C0HVk-Q  ...    0.0  2015-12-05 03:18:11\n",
       "1  L2O_INwlrRuoX05KSjc4eg  5vD2kmE25YBrbayKhykNxQ  ...    0.0  2013-05-07 07:25:25\n",
       "\n",
       "[2 rows x 8 columns]"
      ]
     },
     "execution_count": 37,
     "metadata": {
      "tags": []
     },
     "output_type": "execute_result"
    }
   ],
   "source": [
    "resenias.head(2)"
   ]
  },
  {
   "cell_type": "code",
   "execution_count": null,
   "metadata": {
    "id": "IJMaso9kba0n"
   },
   "outputs": [],
   "source": [
    "reseniaByDate = resenias[[\"negocio_id\", \"fecha\"]].groupby(\"fecha\").count()"
   ]
  },
  {
   "cell_type": "code",
   "execution_count": null,
   "metadata": {
    "id": "EsHeocMVb_fX"
   },
   "outputs": [],
   "source": [
    "reseniaByDate.index = pd.to_datetime(reseniaByDate.index)"
   ]
  },
  {
   "cell_type": "code",
   "execution_count": null,
   "metadata": {
    "id": "lbgLGwG5cIpt"
   },
   "outputs": [],
   "source": []
  },
  {
   "cell_type": "code",
   "execution_count": null,
   "metadata": {
    "id": "LHS_NRWVcJAp"
   },
   "outputs": [],
   "source": []
  },
  {
   "cell_type": "markdown",
   "metadata": {
    "id": "PRDZwVMxcKpq"
   },
   "source": [
    "### Serie de tiempo de checkin y cantidad de reseñas"
   ]
  },
  {
   "cell_type": "code",
   "execution_count": null,
   "metadata": {
    "id": "nZ31sDtUcNrC"
   },
   "outputs": [],
   "source": [
    "checkin2_plot = checkin2.resample(\"1D\").sum()[\"2010-01-01\":]\n",
    "resenia_plot = reseniaByDate.resample(\"1D\").sum()[\"2010-01-01\":]\n"
   ]
  },
  {
   "cell_type": "code",
   "execution_count": null,
   "metadata": {
    "colab": {
     "base_uri": "https://localhost:8080/",
     "height": 370
    },
    "executionInfo": {
     "elapsed": 1074,
     "status": "ok",
     "timestamp": 1614831728913,
     "user": {
      "displayName": "Robert Denilson Moreno Carrillo",
      "photoUrl": "https://lh3.googleusercontent.com/a-/AOh14Gh_NNO6BQE7t-VQ_S1KgEL5kb5JfpWvhBVvEcZS=s64",
      "userId": "16720048605800441930"
     },
     "user_tz": 300
    },
    "id": "-KMd9phHckv3",
    "outputId": "e6fddb72-dd2c-4eae-f971-dfb60d7b2ba4"
   },
   "outputs": [
    {
     "data": {
      "text/plain": [
       "Text(0.5, 0, 'Tiempo')"
      ]
     },
     "execution_count": 57,
     "metadata": {
      "tags": []
     },
     "output_type": "execute_result"
    },
    {
     "data": {
      "image/png": "[encoded data removed]",
      "text/plain": [
       "<Figure size 1080x360 with 1 Axes>"
      ]
     },
     "metadata": {
      "needs_background": "light",
      "tags": []
     },
     "output_type": "display_data"
    }
   ],
   "source": [
    "plt.figure(figsize=(15,5))\n",
    "plt.plot(checkin2_plot.index, checkin2_plot.negocio_id, label=\"Checkin\")\n",
    "plt.plot(resenia_plot.index, resenia_plot.negocio_id, label=\"Reseña\")\n",
    "plt.legend()\n",
    "\n",
    "plt.title(\"Serie de tiempo(Insertar nombre)\", size=(12))\n",
    "plt.xlabel(\"Tiempo\", size=(12))"
   ]
  },
  {
   "cell_type": "code",
   "execution_count": null,
   "metadata": {
    "id": "pvEN0aKkeQc4"
   },
   "outputs": [],
   "source": []
  },
  {
   "cell_type": "code",
   "execution_count": null,
   "metadata": {
    "id": "ubEjzxSCeQqm"
   },
   "outputs": [],
   "source": []
  }
 ],
 "metadata": {
  "colab": {
   "authorship_tag": "ABX9TyPVt4OwoGlQ6I0Ds3RDr82f",
   "name": "SerieTiempoReseña.ipynb",
   "provenance": []
  },
  "kernelspec": {
   "display_name": "Python 3",
   "language": "python",
   "name": "python3"
  },
  "language_info": {
   "codemirror_mode": {
    "name": "ipython",
    "version": 3
   },
   "file_extension": ".py",
   "mimetype": "text/x-python",
   "name": "python",
   "nbconvert_exporter": "python",
   "pygments_lexer": "ipython3",
   "version": "3.7.6"
  }
 },
 "nbformat": 4,
 "nbformat_minor": 1
}
