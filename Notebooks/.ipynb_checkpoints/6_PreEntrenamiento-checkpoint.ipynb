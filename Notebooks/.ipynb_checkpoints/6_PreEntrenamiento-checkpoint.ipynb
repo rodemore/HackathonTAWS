{
 "cells": [
  {
   "cell_type": "code",
   "execution_count": 17,
   "metadata": {
    "executionInfo": {
     "elapsed": 641,
     "status": "ok",
     "timestamp": 1615489914224,
     "user": {
      "displayName": "Robert Denilson Moreno Carrillo",
      "photoUrl": "https://lh3.googleusercontent.com/a-/AOh14Gh_NNO6BQE7t-VQ_S1KgEL5kb5JfpWvhBVvEcZS=s64",
      "userId": "16720048605800441930"
     },
     "user_tz": 300
    },
    "id": "azMeKKd92YeA"
   },
   "outputs": [],
   "source": [
    "import numpy as np\n",
    "import pandas as pd\n",
    "import matplotlib.pyplot as plt\n",
    "import seaborn as sns\n",
    "from sklearn.model_selection import train_test_split"
   ]
  },
  {
   "cell_type": "code",
   "execution_count": 2,
   "metadata": {
    "executionInfo": {
     "elapsed": 1877,
     "status": "ok",
     "timestamp": 1615489585247,
     "user": {
      "displayName": "Robert Denilson Moreno Carrillo",
      "photoUrl": "https://lh3.googleusercontent.com/a-/AOh14Gh_NNO6BQE7t-VQ_S1KgEL5kb5JfpWvhBVvEcZS=s64",
      "userId": "16720048605800441930"
     },
     "user_tz": 300
    },
    "id": "phcUnFO6TPrA"
   },
   "outputs": [],
   "source": [
    "import nltk\n",
    "from nltk.tokenize import word_tokenize\n",
    "from nltk.corpus import stopwords\n",
    "from nltk import ngrams"
   ]
  },
  {
   "cell_type": "code",
   "execution_count": 3,
   "metadata": {
    "colab": {
     "base_uri": "https://localhost:8080/"
    },
    "executionInfo": {
     "elapsed": 27849,
     "status": "ok",
     "timestamp": 1615489616959,
     "user": {
      "displayName": "Robert Denilson Moreno Carrillo",
      "photoUrl": "https://lh3.googleusercontent.com/a-/AOh14Gh_NNO6BQE7t-VQ_S1KgEL5kb5JfpWvhBVvEcZS=s64",
      "userId": "16720048605800441930"
     },
     "user_tz": 300
    },
    "id": "ZMfGVQ9j29Jp",
    "outputId": "a12cdd01-fd47-428c-adac-7d5c08ea146a"
   },
   "outputs": [
    {
     "name": "stdout",
     "output_type": "stream",
     "text": [
      "Mounted at /content/drive\n"
     ]
    }
   ],
   "source": [
    "# Google colab\n",
    "#from google.colab import drive\n",
    "#drive.mount('/content/drive')\n",
    "#consumo_dir = '/content/drive/MyDrive/0AccTeam/datasets_consumo/'"
   ]
  },
  {
   "cell_type": "code",
   "execution_count": 4,
   "metadata": {
    "executionInfo": {
     "elapsed": 703,
     "status": "ok",
     "timestamp": 1615489623300,
     "user": {
      "displayName": "Robert Denilson Moreno Carrillo",
      "photoUrl": "https://lh3.googleusercontent.com/a-/AOh14Gh_NNO6BQE7t-VQ_S1KgEL5kb5JfpWvhBVvEcZS=s64",
      "userId": "16720048605800441930"
     },
     "user_tz": 300
    },
    "id": "0y_W0zzD29SW"
   },
   "outputs": [],
   "source": [
    "consumo_dir = \"./datasets_consumo/\""
   ]
  },
  {
   "cell_type": "code",
   "execution_count": 5,
   "metadata": {
    "executionInfo": {
     "elapsed": 2740,
     "status": "ok",
     "timestamp": 1615489626496,
     "user": {
      "displayName": "Robert Denilson Moreno Carrillo",
      "photoUrl": "https://lh3.googleusercontent.com/a-/AOh14Gh_NNO6BQE7t-VQ_S1KgEL5kb5JfpWvhBVvEcZS=s64",
      "userId": "16720048605800441930"
     },
     "user_tz": 300
    },
    "id": "090Wh9zn8GSQ"
   },
   "outputs": [],
   "source": [
    "df = pd.read_csv(consumo_dir +\"Reseñas_scores.csv\")"
   ]
  },
  {
   "cell_type": "code",
   "execution_count": null,
   "metadata": {
    "colab": {
     "base_uri": "https://localhost:8080/",
     "height": 300
    },
    "executionInfo": {
     "elapsed": 892,
     "status": "ok",
     "timestamp": 1615436822326,
     "user": {
      "displayName": "Milca Elizabeth Valdez Flores",
      "photoUrl": "",
      "userId": "18058005903088779090"
     },
     "user_tz": 300
    },
    "id": "rGwSquLQ_CyB",
    "outputId": "b22c819b-5f42-4727-96bc-2ac59839c58d"
   },
   "outputs": [
    {
     "data": {
      "text/plain": [
       "<matplotlib.axes._subplots.AxesSubplot at 0x7f828f83b390>"
      ]
     },
     "execution_count": 6,
     "metadata": {
      "tags": []
     },
     "output_type": "execute_result"
    },
    {
     "data": {
      "image/png": "[encoded data removed]",
      "text/plain": [
       "<Figure size 1152x288 with 2 Axes>"
      ]
     },
     "metadata": {
      "needs_background": "light",
      "tags": []
     },
     "output_type": "display_data"
    }
   ],
   "source": [
    "plt.figure(figsize=(16,4))\n",
    "plt.subplot(1,2,1)\n",
    "plt.ylim(0,80000)\n",
    "plt.title(\"Distribución Food score\",size=15)\n",
    "df.food_score.hist(bins=np.arange(0,1,0.1))\n",
    "plt.subplot(1,2,2)\n",
    "plt.ylim(0,80000)\n",
    "\n",
    "plt.title(\"Distribución Service score\",size=15)\n",
    "df.service_score.hist(bins=np.arange(0,1,0.1))"
   ]
  },
  {
   "cell_type": "code",
   "execution_count": null,
   "metadata": {
    "colab": {
     "base_uri": "https://localhost:8080/",
     "height": 283
    },
    "executionInfo": {
     "elapsed": 666,
     "status": "ok",
     "timestamp": 1615436826063,
     "user": {
      "displayName": "Milca Elizabeth Valdez Flores",
      "photoUrl": "",
      "userId": "18058005903088779090"
     },
     "user_tz": 300
    },
    "id": "u1iYNF8y3Yr1",
    "outputId": "9901ad08-4701-4d0d-e063-399aa055fb19"
   },
   "outputs": [
    {
     "data": {
      "text/plain": [
       "<matplotlib.axes._subplots.AxesSubplot at 0x7f828f7a3910>"
      ]
     },
     "execution_count": 7,
     "metadata": {
      "tags": []
     },
     "output_type": "execute_result"
    },
    {
     "data": {
      "image/png": "[encoded data removed]",
      "text/plain": [
       "<Figure size 432x288 with 1 Axes>"
      ]
     },
     "metadata": {
      "needs_background": "light",
      "tags": []
     },
     "output_type": "display_data"
    }
   ],
   "source": [
    "sns.boxplot(data = df[[\"food_score\", \"service_score\"]])"
   ]
  },
  {
   "cell_type": "code",
   "execution_count": 1,
   "metadata": {},
   "outputs": [],
   "source": [
    "# Los datos muestran tener outliers. \n",
    "# los outliers más grandes son reviews en otros idiomas, por ello extraemos los outliers de la cola superior"
   ]
  },
  {
   "cell_type": "code",
   "execution_count": null,
   "metadata": {
    "id": "p3EpZY8y_eDH"
   },
   "outputs": [],
   "source": []
  },
  {
   "cell_type": "code",
   "execution_count": 8,
   "metadata": {
    "executionInfo": {
     "elapsed": 2591,
     "status": "ok",
     "timestamp": 1615489650446,
     "user": {
      "displayName": "Robert Denilson Moreno Carrillo",
      "photoUrl": "https://lh3.googleusercontent.com/a-/AOh14Gh_NNO6BQE7t-VQ_S1KgEL5kb5JfpWvhBVvEcZS=s64",
      "userId": "16720048605800441930"
     },
     "user_tz": 300
    },
    "id": "28bR2p2-Asfa"
   },
   "outputs": [],
   "source": [
    "df[\"min_score\"] = df.apply(lambda r: min(r.food_score, r.service_score),axis = 1)\n",
    "\n",
    "min_score_mean = df[\"min_score\"].mean()\n",
    "min_score_std = df[\"min_score\"].std()\n",
    "\n",
    "def zscore(v):\n",
    "    return (v-min_score_mean) / min_score_std"
   ]
  },
  {
   "cell_type": "code",
   "execution_count": null,
   "metadata": {
    "colab": {
     "base_uri": "https://localhost:8080/",
     "height": 402
    },
    "executionInfo": {
     "elapsed": 483,
     "status": "ok",
     "timestamp": 1615436831211,
     "user": {
      "displayName": "Milca Elizabeth Valdez Flores",
      "photoUrl": "",
      "userId": "18058005903088779090"
     },
     "user_tz": 300
    },
    "id": "HtdrwTpECaaJ",
    "outputId": "d8c5324d-e892-45a0-f0b3-74c032d2db79"
   },
   "outputs": [],
   "source": []
  },
  {
   "cell_type": "code",
   "execution_count": 10,
   "metadata": {
    "executionInfo": {
     "elapsed": 562,
     "status": "ok",
     "timestamp": 1615489670419,
     "user": {
      "displayName": "Robert Denilson Moreno Carrillo",
      "photoUrl": "https://lh3.googleusercontent.com/a-/AOh14Gh_NNO6BQE7t-VQ_S1KgEL5kb5JfpWvhBVvEcZS=s64",
      "userId": "16720048605800441930"
     },
     "user_tz": 300
    },
    "id": "rPqYcpX1Bgxm"
   },
   "outputs": [],
   "source": [
    "# Metodologia: \n",
    "# Encontrar el mínimo score en cada una de las reseñas y sobre este feature extraer las reseñas aberrantes generales \n",
    "df_cleaned = df[df[\"min_score\"].apply(lambda v: zscore(v)<3)]"
   ]
  },
  {
   "cell_type": "code",
   "execution_count": 11,
   "metadata": {
    "colab": {
     "base_uri": "https://localhost:8080/",
     "height": 283
    },
    "executionInfo": {
     "elapsed": 562,
     "status": "ok",
     "timestamp": 1615489674233,
     "user": {
      "displayName": "Robert Denilson Moreno Carrillo",
      "photoUrl": "https://lh3.googleusercontent.com/a-/AOh14Gh_NNO6BQE7t-VQ_S1KgEL5kb5JfpWvhBVvEcZS=s64",
      "userId": "16720048605800441930"
     },
     "user_tz": 300
    },
    "id": "aDUTmeTYDEhv",
    "outputId": "f5c8cb0c-dc78-41e1-969f-2cd7f9c3446d"
   },
   "outputs": [
    {
     "data": {
      "text/plain": [
       "<matplotlib.axes._subplots.AxesSubplot at 0x7f9b84403e10>"
      ]
     },
     "execution_count": 11,
     "metadata": {
      "tags": []
     },
     "output_type": "execute_result"
    },
    {
     "data": {
      "image/png": "[encoded data removed]",
      "text/plain": [
       "<Figure size 432x288 with 1 Axes>"
      ]
     },
     "metadata": {
      "needs_background": "light",
      "tags": []
     },
     "output_type": "display_data"
    }
   ],
   "source": [
    "# Nueva distribución sin outliers generales\n",
    "sns.boxplot(data = df_cleaned[[\"food_score\", \"service_score\"]])"
   ]
  },
  {
   "cell_type": "code",
   "execution_count": 15,
   "metadata": {
    "colab": {
     "base_uri": "https://localhost:8080/"
    },
    "executionInfo": {
     "elapsed": 621,
     "status": "ok",
     "timestamp": 1615489757877,
     "user": {
      "displayName": "Robert Denilson Moreno Carrillo",
      "photoUrl": "https://lh3.googleusercontent.com/a-/AOh14Gh_NNO6BQE7t-VQ_S1KgEL5kb5JfpWvhBVvEcZS=s64",
      "userId": "16720048605800441930"
     },
     "user_tz": 300
    },
    "id": "QZtoJu9rsDIA",
    "outputId": "739f8c4c-a1d9-47ac-8a36-b54a5ec03d9c"
   },
   "outputs": [
    {
     "name": "stderr",
     "output_type": "stream",
     "text": [
      "/usr/local/lib/python3.7/dist-packages/ipykernel_launcher.py:1: SettingWithCopyWarning: \n",
      "A value is trying to be set on a copy of a slice from a DataFrame.\n",
      "Try using .loc[row_indexer,col_indexer] = value instead\n",
      "\n",
      "See the caveats in the documentation: https://pandas.pydata.org/pandas-docs/stable/user_guide/indexing.html#returning-a-view-versus-a-copy\n",
      "  \"\"\"Entry point for launching an IPython kernel.\n",
      "/usr/local/lib/python3.7/dist-packages/ipykernel_launcher.py:2: SettingWithCopyWarning: \n",
      "A value is trying to be set on a copy of a slice from a DataFrame.\n",
      "Try using .loc[row_indexer,col_indexer] = value instead\n",
      "\n",
      "See the caveats in the documentation: https://pandas.pydata.org/pandas-docs/stable/user_guide/indexing.html#returning-a-view-versus-a-copy\n",
      "  \n"
     ]
    }
   ],
   "source": []
  },
  {
   "cell_type": "code",
   "execution_count": null,
   "metadata": {
    "id": "AGDl0hnUsUFu"
   },
   "outputs": [],
   "source": []
  },
  {
   "cell_type": "code",
   "execution_count": null,
   "metadata": {
    "colab": {
     "base_uri": "https://localhost:8080/",
     "height": 441
    },
    "executionInfo": {
     "elapsed": 858,
     "status": "ok",
     "timestamp": 1615434547962,
     "user": {
      "displayName": "Robert Denilson Moreno Carrillo",
      "photoUrl": "https://lh3.googleusercontent.com/a-/AOh14Gh_NNO6BQE7t-VQ_S1KgEL5kb5JfpWvhBVvEcZS=s64",
      "userId": "16720048605800441930"
     },
     "user_tz": 300
    },
    "id": "6AwEP0BHDQy1",
    "outputId": "c363f2ef-8662-4e20-ee1d-70a36f7a7849"
   },
   "outputs": [
    {
     "data": {
      "text/html": [
       "<div>\n",
       "<style scoped>\n",
       "    .dataframe tbody tr th:only-of-type {\n",
       "        vertical-align: middle;\n",
       "    }\n",
       "\n",
       "    .dataframe tbody tr th {\n",
       "        vertical-align: top;\n",
       "    }\n",
       "\n",
       "    .dataframe thead th {\n",
       "        text-align: right;\n",
       "    }\n",
       "</style>\n",
       "<table border=\"1\" class=\"dataframe\">\n",
       "  <thead>\n",
       "    <tr style=\"text-align: right;\">\n",
       "      <th></th>\n",
       "      <th>reseña_id</th>\n",
       "      <th>texto</th>\n",
       "      <th>estrellas</th>\n",
       "      <th>food_score</th>\n",
       "      <th>service_score</th>\n",
       "      <th>min_score</th>\n",
       "    </tr>\n",
       "  </thead>\n",
       "  <tbody>\n",
       "    <tr>\n",
       "      <th>77345</th>\n",
       "      <td>zWCldzg326MIbnPVbVBhWA</td>\n",
       "      <td>四川管子。非常，辣子鸡丁，不是很辣。yummy sichuan food\\noooooooo...</td>\n",
       "      <td>5.0</td>\n",
       "      <td>0.282448</td>\n",
       "      <td>0.563753</td>\n",
       "      <td>0.282448</td>\n",
       "    </tr>\n",
       "    <tr>\n",
       "      <th>28879</th>\n",
       "      <td>Bb-lubxhmU0jud-5sCLo5Q</td>\n",
       "      <td>delicious gangman 2 bimbibap marinated meats m...</td>\n",
       "      <td>5.0</td>\n",
       "      <td>0.281239</td>\n",
       "      <td>0.470904</td>\n",
       "      <td>0.281239</td>\n",
       "    </tr>\n",
       "    <tr>\n",
       "      <th>55434</th>\n",
       "      <td>3uTwNPQlwkQEsB6THWKy4g</td>\n",
       "      <td>surprisingly good portobello caprese sandwich</td>\n",
       "      <td>3.0</td>\n",
       "      <td>0.296084</td>\n",
       "      <td>0.470690</td>\n",
       "      <td>0.296084</td>\n",
       "    </tr>\n",
       "    <tr>\n",
       "      <th>69745</th>\n",
       "      <td>dv1wrjm5CuwLLKtUqxzxQg</td>\n",
       "      <td>tacos good prickly pear daiquiri delish</td>\n",
       "      <td>4.0</td>\n",
       "      <td>0.283534</td>\n",
       "      <td>0.465923</td>\n",
       "      <td>0.283534</td>\n",
       "    </tr>\n",
       "    <tr>\n",
       "      <th>14919</th>\n",
       "      <td>dw5nBjTTA0dydZm4sIAJxQ</td>\n",
       "      <td>stopped takeout noodle dish rice noodles shred...</td>\n",
       "      <td>2.0</td>\n",
       "      <td>0.292903</td>\n",
       "      <td>0.453203</td>\n",
       "      <td>0.292903</td>\n",
       "    </tr>\n",
       "    <tr>\n",
       "      <th>...</th>\n",
       "      <td>...</td>\n",
       "      <td>...</td>\n",
       "      <td>...</td>\n",
       "      <td>...</td>\n",
       "      <td>...</td>\n",
       "      <td>...</td>\n",
       "    </tr>\n",
       "    <tr>\n",
       "      <th>6147</th>\n",
       "      <td>4npuzcy7rBKwbfDIwPy2xQ</td>\n",
       "      <td>frequent customer every time come friendly ser...</td>\n",
       "      <td>5.0</td>\n",
       "      <td>0.133004</td>\n",
       "      <td>0.022640</td>\n",
       "      <td>0.022640</td>\n",
       "    </tr>\n",
       "    <tr>\n",
       "      <th>56524</th>\n",
       "      <td>yezZ4jp70G2JSbZtWwPwbQ</td>\n",
       "      <td>manager total sweetheart customer service outs...</td>\n",
       "      <td>5.0</td>\n",
       "      <td>0.177562</td>\n",
       "      <td>0.021299</td>\n",
       "      <td>0.021299</td>\n",
       "    </tr>\n",
       "    <tr>\n",
       "      <th>11112</th>\n",
       "      <td>nCj9ZsBmgwNsIILOsamirA</td>\n",
       "      <td>food good service great good customer service ...</td>\n",
       "      <td>4.0</td>\n",
       "      <td>0.085302</td>\n",
       "      <td>0.021142</td>\n",
       "      <td>0.021142</td>\n",
       "    </tr>\n",
       "    <tr>\n",
       "      <th>14011</th>\n",
       "      <td>2L1UbgcrQSTNObqZEufKKw</td>\n",
       "      <td>good food terrible customer service  customer ...</td>\n",
       "      <td>2.0</td>\n",
       "      <td>0.136881</td>\n",
       "      <td>0.001882</td>\n",
       "      <td>0.001882</td>\n",
       "    </tr>\n",
       "    <tr>\n",
       "      <th>81530</th>\n",
       "      <td>MIalFzzemGESE8p2S5O9kw</td>\n",
       "      <td>service subway outstanding sandwiches always b...</td>\n",
       "      <td>4.0</td>\n",
       "      <td>0.107692</td>\n",
       "      <td>0.000000</td>\n",
       "      <td>0.000000</td>\n",
       "    </tr>\n",
       "  </tbody>\n",
       "</table>\n",
       "<p>99004 rows × 6 columns</p>\n",
       "</div>"
      ],
      "text/plain": [
       "                    reseña_id  ... min_score\n",
       "77345  zWCldzg326MIbnPVbVBhWA  ...  0.282448\n",
       "28879  Bb-lubxhmU0jud-5sCLo5Q  ...  0.281239\n",
       "55434  3uTwNPQlwkQEsB6THWKy4g  ...  0.296084\n",
       "69745  dv1wrjm5CuwLLKtUqxzxQg  ...  0.283534\n",
       "14919  dw5nBjTTA0dydZm4sIAJxQ  ...  0.292903\n",
       "...                       ...  ...       ...\n",
       "6147   4npuzcy7rBKwbfDIwPy2xQ  ...  0.022640\n",
       "56524  yezZ4jp70G2JSbZtWwPwbQ  ...  0.021299\n",
       "11112  nCj9ZsBmgwNsIILOsamirA  ...  0.021142\n",
       "14011  2L1UbgcrQSTNObqZEufKKw  ...  0.001882\n",
       "81530  MIalFzzemGESE8p2S5O9kw  ...  0.000000\n",
       "\n",
       "[99004 rows x 6 columns]"
      ]
     },
     "execution_count": 127,
     "metadata": {
      "tags": []
     },
     "output_type": "execute_result"
    }
   ],
   "source": [
    "df_cleaned.sort_values(\"service_score\", ascending=False)"
   ]
  },
  {
   "cell_type": "code",
   "execution_count": null,
   "metadata": {
    "id": "SEY0GmFLKiq2"
   },
   "outputs": [],
   "source": [
    "min = 0\n",
    "max = 1"
   ]
  },
  {
   "cell_type": "code",
   "execution_count": null,
   "metadata": {
    "colab": {
     "base_uri": "https://localhost:8080/",
     "height": 495
    },
    "executionInfo": {
     "elapsed": 477,
     "status": "error",
     "timestamp": 1615436952210,
     "user": {
      "displayName": "Milca Elizabeth Valdez Flores",
      "photoUrl": "",
      "userId": "18058005903088779090"
     },
     "user_tz": 300
    },
    "id": "TRPOofkFADA-",
    "outputId": "9e65bc09-9ed5-42d1-eed4-280904bc8479"
   },
   "outputs": [
    {
     "ename": "NameError",
     "evalue": "ignored",
     "output_type": "error",
     "traceback": [
      "\u001b[0;31m---------------------------------------------------------------------------\u001b[0m",
      "\u001b[0;31mNameError\u001b[0m                                 Traceback (most recent call last)",
      "\u001b[0;32m<ipython-input-14-fc546a586b85>\u001b[0m in \u001b[0;36m<module>\u001b[0;34m()\u001b[0m\n\u001b[1;32m      3\u001b[0m \u001b[0mplt\u001b[0m\u001b[0;34m.\u001b[0m\u001b[0mylim\u001b[0m\u001b[0;34m(\u001b[0m\u001b[0;36m0\u001b[0m\u001b[0;34m,\u001b[0m\u001b[0;36m80000\u001b[0m\u001b[0;34m)\u001b[0m\u001b[0;34m\u001b[0m\u001b[0;34m\u001b[0m\u001b[0m\n\u001b[1;32m      4\u001b[0m \u001b[0mplt\u001b[0m\u001b[0;34m.\u001b[0m\u001b[0mtitle\u001b[0m\u001b[0;34m(\u001b[0m\u001b[0;34m\"Distribución Food score\"\u001b[0m\u001b[0;34m,\u001b[0m\u001b[0msize\u001b[0m\u001b[0;34m=\u001b[0m\u001b[0;36m15\u001b[0m\u001b[0;34m)\u001b[0m\u001b[0;34m\u001b[0m\u001b[0;34m\u001b[0m\u001b[0m\n\u001b[0;32m----> 5\u001b[0;31m \u001b[0mdf_cleaned\u001b[0m\u001b[0;34m.\u001b[0m\u001b[0mfood_score\u001b[0m\u001b[0;34m.\u001b[0m\u001b[0mhist\u001b[0m\u001b[0;34m(\u001b[0m\u001b[0mbins\u001b[0m\u001b[0;34m=\u001b[0m\u001b[0mnp\u001b[0m\u001b[0;34m.\u001b[0m\u001b[0marange\u001b[0m\u001b[0;34m(\u001b[0m\u001b[0;36m0\u001b[0m\u001b[0;34m,\u001b[0m\u001b[0;36m1\u001b[0m\u001b[0;34m,\u001b[0m\u001b[0;36m0.05\u001b[0m\u001b[0;34m)\u001b[0m\u001b[0;34m)\u001b[0m\u001b[0;34m\u001b[0m\u001b[0;34m\u001b[0m\u001b[0m\n\u001b[0m\u001b[1;32m      6\u001b[0m \u001b[0mplt\u001b[0m\u001b[0;34m.\u001b[0m\u001b[0msubplot\u001b[0m\u001b[0;34m(\u001b[0m\u001b[0;36m1\u001b[0m\u001b[0;34m,\u001b[0m\u001b[0;36m2\u001b[0m\u001b[0;34m,\u001b[0m\u001b[0;36m2\u001b[0m\u001b[0;34m)\u001b[0m\u001b[0;34m\u001b[0m\u001b[0;34m\u001b[0m\u001b[0m\n\u001b[1;32m      7\u001b[0m \u001b[0mplt\u001b[0m\u001b[0;34m.\u001b[0m\u001b[0mylim\u001b[0m\u001b[0;34m(\u001b[0m\u001b[0;36m0\u001b[0m\u001b[0;34m,\u001b[0m\u001b[0;36m80000\u001b[0m\u001b[0;34m)\u001b[0m\u001b[0;34m\u001b[0m\u001b[0;34m\u001b[0m\u001b[0m\n",
      "\u001b[0;31mNameError\u001b[0m: name 'df_cleaned' is not defined"
     ]
    },
    {
     "data": {
      "image/png": "[encoded data removed]",
      "text/plain": [
       "<Figure size 1152x288 with 1 Axes>"
      ]
     },
     "metadata": {
      "needs_background": "light",
      "tags": []
     },
     "output_type": "display_data"
    }
   ],
   "source": [
    "plt.figure(figsize=(16,4))\n",
    "plt.subplot(1,2,1)\n",
    "plt.ylim(0,80000)\n",
    "plt.title(\"Distribución Food score\",size=15)\n",
    "df_cleaned.food_score.hist(bins=np.arange(0,1,0.05))\n",
    "plt.subplot(1,2,2)\n",
    "plt.ylim(0,80000)\n",
    "\n",
    "plt.title(\"Distribución Service score\",size=15)\n",
    "df_cleaned.service_score.hist(bins=np.arange(0,1,0.05))"
   ]
  },
  {
   "cell_type": "code",
   "execution_count": null,
   "metadata": {
    "colab": {
     "base_uri": "https://localhost:8080/",
     "height": 424
    },
    "executionInfo": {
     "elapsed": 1103,
     "status": "ok",
     "timestamp": 1615431182983,
     "user": {
      "displayName": "Robert Denilson Moreno Carrillo",
      "photoUrl": "https://lh3.googleusercontent.com/a-/AOh14Gh_NNO6BQE7t-VQ_S1KgEL5kb5JfpWvhBVvEcZS=s64",
      "userId": "16720048605800441930"
     },
     "user_tz": 300
    },
    "id": "8lM0z0J3Kzyv",
    "outputId": "96c542ab-d6f9-4824-ef78-319894baf131"
   },
   "outputs": [
    {
     "data": {
      "text/html": [
       "<div>\n",
       "<style scoped>\n",
       "    .dataframe tbody tr th:only-of-type {\n",
       "        vertical-align: middle;\n",
       "    }\n",
       "\n",
       "    .dataframe tbody tr th {\n",
       "        vertical-align: top;\n",
       "    }\n",
       "\n",
       "    .dataframe thead th {\n",
       "        text-align: right;\n",
       "    }\n",
       "</style>\n",
       "<table border=\"1\" class=\"dataframe\">\n",
       "  <thead>\n",
       "    <tr style=\"text-align: right;\">\n",
       "      <th></th>\n",
       "      <th>reseña_id</th>\n",
       "      <th>texto</th>\n",
       "      <th>estrellas</th>\n",
       "      <th>food_score</th>\n",
       "      <th>service_score</th>\n",
       "      <th>min_score</th>\n",
       "    </tr>\n",
       "  </thead>\n",
       "  <tbody>\n",
       "    <tr>\n",
       "      <th>3</th>\n",
       "      <td>JA-xnyHytKiOIHl_ztnK9Q</td>\n",
       "      <td>delicious authentic italian us leave place unh...</td>\n",
       "      <td>5.0</td>\n",
       "      <td>0.183491</td>\n",
       "      <td>0.223713</td>\n",
       "      <td>0.183491</td>\n",
       "    </tr>\n",
       "    <tr>\n",
       "      <th>4</th>\n",
       "      <td>bVTjZgRNq8ToxzvtiVrqMA</td>\n",
       "      <td>10pm super bowl sunday already closed  weak wo...</td>\n",
       "      <td>1.0</td>\n",
       "      <td>0.221079</td>\n",
       "      <td>0.283378</td>\n",
       "      <td>0.221079</td>\n",
       "    </tr>\n",
       "    <tr>\n",
       "      <th>10</th>\n",
       "      <td>-cRD6URpwks2GvP6qy8x4Q</td>\n",
       "      <td>knew \\n \\ni \\n\\ni remember eating many many ma...</td>\n",
       "      <td>5.0</td>\n",
       "      <td>0.153734</td>\n",
       "      <td>0.204804</td>\n",
       "      <td>0.153734</td>\n",
       "    </tr>\n",
       "    <tr>\n",
       "      <th>15</th>\n",
       "      <td>T9T3PFKevNu-EhqwJF21pA</td>\n",
       "      <td>food piping hot great  buffet  truly eat  orde...</td>\n",
       "      <td>3.0</td>\n",
       "      <td>0.075371</td>\n",
       "      <td>0.206810</td>\n",
       "      <td>0.075371</td>\n",
       "    </tr>\n",
       "    <tr>\n",
       "      <th>24</th>\n",
       "      <td>Lb9r62Qlu12ZB909CbFeOQ</td>\n",
       "      <td>ordered pizza 4 49 got email said pizza would ...</td>\n",
       "      <td>1.0</td>\n",
       "      <td>0.284793</td>\n",
       "      <td>0.277956</td>\n",
       "      <td>0.277956</td>\n",
       "    </tr>\n",
       "    <tr>\n",
       "      <th>...</th>\n",
       "      <td>...</td>\n",
       "      <td>...</td>\n",
       "      <td>...</td>\n",
       "      <td>...</td>\n",
       "      <td>...</td>\n",
       "      <td>...</td>\n",
       "    </tr>\n",
       "    <tr>\n",
       "      <th>99976</th>\n",
       "      <td>jWxO5aZ4jn7BjK4hfOiICQ</td>\n",
       "      <td>deeeeelicious soup phenomenal everything amazi...</td>\n",
       "      <td>5.0</td>\n",
       "      <td>0.180400</td>\n",
       "      <td>0.211800</td>\n",
       "      <td>0.180400</td>\n",
       "    </tr>\n",
       "    <tr>\n",
       "      <th>99978</th>\n",
       "      <td>aUtE7XLKxp9KZwOltJ3Dng</td>\n",
       "      <td>24 hour mcdonald service midnight slowest ever...</td>\n",
       "      <td>1.0</td>\n",
       "      <td>0.352493</td>\n",
       "      <td>0.201081</td>\n",
       "      <td>0.201081</td>\n",
       "    </tr>\n",
       "    <tr>\n",
       "      <th>99979</th>\n",
       "      <td>wv0n3a6p3s3qZrQz1RhvYQ</td>\n",
       "      <td>nice place asked could rice side gumbo server ...</td>\n",
       "      <td>3.0</td>\n",
       "      <td>0.124836</td>\n",
       "      <td>0.220803</td>\n",
       "      <td>0.124836</td>\n",
       "    </tr>\n",
       "    <tr>\n",
       "      <th>99986</th>\n",
       "      <td>Tehp34FbmF733LCiAtc86w</td>\n",
       "      <td>great food great environment eat  wedge salad ...</td>\n",
       "      <td>4.0</td>\n",
       "      <td>0.104943</td>\n",
       "      <td>0.216591</td>\n",
       "      <td>0.104943</td>\n",
       "    </tr>\n",
       "    <tr>\n",
       "      <th>99993</th>\n",
       "      <td>8CAfzeD1eXvT0wL6U9ujwg</td>\n",
       "      <td>stopped way phx damn good pot stickers tangeri...</td>\n",
       "      <td>4.0</td>\n",
       "      <td>0.176148</td>\n",
       "      <td>0.247972</td>\n",
       "      <td>0.176148</td>\n",
       "    </tr>\n",
       "  </tbody>\n",
       "</table>\n",
       "<p>28042 rows × 6 columns</p>\n",
       "</div>"
      ],
      "text/plain": [
       "                    reseña_id  ... min_score\n",
       "3      JA-xnyHytKiOIHl_ztnK9Q  ...  0.183491\n",
       "4      bVTjZgRNq8ToxzvtiVrqMA  ...  0.221079\n",
       "10     -cRD6URpwks2GvP6qy8x4Q  ...  0.153734\n",
       "15     T9T3PFKevNu-EhqwJF21pA  ...  0.075371\n",
       "24     Lb9r62Qlu12ZB909CbFeOQ  ...  0.277956\n",
       "...                       ...  ...       ...\n",
       "99976  jWxO5aZ4jn7BjK4hfOiICQ  ...  0.180400\n",
       "99978  aUtE7XLKxp9KZwOltJ3Dng  ...  0.201081\n",
       "99979  wv0n3a6p3s3qZrQz1RhvYQ  ...  0.124836\n",
       "99986  Tehp34FbmF733LCiAtc86w  ...  0.104943\n",
       "99993  8CAfzeD1eXvT0wL6U9ujwg  ...  0.176148\n",
       "\n",
       "[28042 rows x 6 columns]"
      ]
     },
     "execution_count": 84,
     "metadata": {
      "tags": []
     },
     "output_type": "execute_result"
    }
   ],
   "source": [
    "df_cleaned[df_cleaned[\"service_score\"]>0.2]"
   ]
  },
  {
   "cell_type": "code",
   "execution_count": null,
   "metadata": {
    "colab": {
     "base_uri": "https://localhost:8080/",
     "height": 404
    },
    "executionInfo": {
     "elapsed": 1034,
     "status": "ok",
     "timestamp": 1615431378076,
     "user": {
      "displayName": "Robert Denilson Moreno Carrillo",
      "photoUrl": "https://lh3.googleusercontent.com/a-/AOh14Gh_NNO6BQE7t-VQ_S1KgEL5kb5JfpWvhBVvEcZS=s64",
      "userId": "16720048605800441930"
     },
     "user_tz": 300
    },
    "id": "A7febgDeMuuk",
    "outputId": "29a0db2d-980b-4f70-c396-3e26dd84f222"
   },
   "outputs": [
    {
     "data": {
      "text/plain": [
       "<seaborn.axisgrid.FacetGrid at 0x7ff617cd6d90>"
      ]
     },
     "execution_count": 96,
     "metadata": {
      "tags": []
     },
     "output_type": "execute_result"
    },
    {
     "data": {
      "text/plain": [
       "<Figure size 864x216 with 0 Axes>"
      ]
     },
     "metadata": {
      "tags": []
     },
     "output_type": "display_data"
    },
    {
     "data": {
      "image/png": "[encoded data removed]",
      "text/plain": [
       "<Figure size 360x360 with 1 Axes>"
      ]
     },
     "metadata": {
      "needs_background": "light",
      "tags": []
     },
     "output_type": "display_data"
    }
   ],
   "source": [
    "plt.figure(figsize=(12,3))\n",
    "sns.displot(df_cleaned[\"food_score\"], kind=\"ecdf\")"
   ]
  },
  {
   "cell_type": "code",
   "execution_count": null,
   "metadata": {
    "id": "QxOk0NZPa2Gf"
   },
   "outputs": [],
   "source": [
    "(food_score, service_score) = (0.13, 0.12)  = (1, 1)\n",
    "\n",
    "\"Reseña\" -> (1,0) \n",
    "\n",
    "clasificar \n",
    "ordinario\n",
    "1, 2, 3\n",
    "0, 1\n",
    "\n",
    "regresor\n",
    "v. continuos\n",
    "\n",
    "RuntimeWarning\n",
    "\n",
    "BERT ->\n",
    "* Analisis de sentimientos\n",
    "* Prediccion de segunda frase -> \n",
    "* Deteccion gramatical\n",
    "* DOs frases son semanticamente equivalente\n",
    "* Multilabel classification \n",
    "\n",
    "\n"
   ]
  },
  {
   "cell_type": "code",
   "execution_count": null,
   "metadata": {
    "colab": {
     "base_uri": "https://localhost:8080/",
     "height": 206
    },
    "executionInfo": {
     "elapsed": 814,
     "status": "ok",
     "timestamp": 1615432929463,
     "user": {
      "displayName": "Robert Denilson Moreno Carrillo",
      "photoUrl": "https://lh3.googleusercontent.com/a-/AOh14Gh_NNO6BQE7t-VQ_S1KgEL5kb5JfpWvhBVvEcZS=s64",
      "userId": "16720048605800441930"
     },
     "user_tz": 300
    },
    "id": "lGMSM4qzSdse",
    "outputId": "9ed7f3b8-e1e5-4088-dc4c-5612ea5d380f"
   },
   "outputs": [
    {
     "data": {
      "text/html": [
       "<div>\n",
       "<style scoped>\n",
       "    .dataframe tbody tr th:only-of-type {\n",
       "        vertical-align: middle;\n",
       "    }\n",
       "\n",
       "    .dataframe tbody tr th {\n",
       "        vertical-align: top;\n",
       "    }\n",
       "\n",
       "    .dataframe thead th {\n",
       "        text-align: right;\n",
       "    }\n",
       "</style>\n",
       "<table border=\"1\" class=\"dataframe\">\n",
       "  <thead>\n",
       "    <tr style=\"text-align: right;\">\n",
       "      <th></th>\n",
       "      <th>reseña_id</th>\n",
       "      <th>texto</th>\n",
       "      <th>estrellas</th>\n",
       "      <th>food_score</th>\n",
       "      <th>service_score</th>\n",
       "      <th>min_score</th>\n",
       "    </tr>\n",
       "  </thead>\n",
       "  <tbody>\n",
       "    <tr>\n",
       "      <th>0</th>\n",
       "      <td>LG2ZaYiOgpr2DK_90pYjNw</td>\n",
       "      <td>love deagan really atmosphere cozy festive shr...</td>\n",
       "      <td>5.0</td>\n",
       "      <td>0.101262</td>\n",
       "      <td>0.175348</td>\n",
       "      <td>0.101262</td>\n",
       "    </tr>\n",
       "    <tr>\n",
       "      <th>1</th>\n",
       "      <td>L2O_INwlrRuoX05KSjc4eg</td>\n",
       "      <td>definitely favorite fast food sub shop ingredi...</td>\n",
       "      <td>5.0</td>\n",
       "      <td>0.119174</td>\n",
       "      <td>0.164607</td>\n",
       "      <td>0.119174</td>\n",
       "    </tr>\n",
       "    <tr>\n",
       "      <th>2</th>\n",
       "      <td>ZayJ1zWyWgY9S_TRLT_y9Q</td>\n",
       "      <td>really good place simple decor amazing food gr...</td>\n",
       "      <td>5.0</td>\n",
       "      <td>0.064205</td>\n",
       "      <td>0.104330</td>\n",
       "      <td>0.064205</td>\n",
       "    </tr>\n",
       "    <tr>\n",
       "      <th>3</th>\n",
       "      <td>JA-xnyHytKiOIHl_ztnK9Q</td>\n",
       "      <td>delicious authentic italian us leave place unh...</td>\n",
       "      <td>5.0</td>\n",
       "      <td>0.183491</td>\n",
       "      <td>0.223713</td>\n",
       "      <td>0.183491</td>\n",
       "    </tr>\n",
       "    <tr>\n",
       "      <th>4</th>\n",
       "      <td>bVTjZgRNq8ToxzvtiVrqMA</td>\n",
       "      <td>10pm super bowl sunday already closed  weak wo...</td>\n",
       "      <td>1.0</td>\n",
       "      <td>0.221079</td>\n",
       "      <td>0.283378</td>\n",
       "      <td>0.221079</td>\n",
       "    </tr>\n",
       "  </tbody>\n",
       "</table>\n",
       "</div>"
      ],
      "text/plain": [
       "                reseña_id  ... min_score\n",
       "0  LG2ZaYiOgpr2DK_90pYjNw  ...  0.101262\n",
       "1  L2O_INwlrRuoX05KSjc4eg  ...  0.119174\n",
       "2  ZayJ1zWyWgY9S_TRLT_y9Q  ...  0.064205\n",
       "3  JA-xnyHytKiOIHl_ztnK9Q  ...  0.183491\n",
       "4  bVTjZgRNq8ToxzvtiVrqMA  ...  0.221079\n",
       "\n",
       "[5 rows x 6 columns]"
      ]
     },
     "execution_count": 103,
     "metadata": {
      "tags": []
     },
     "output_type": "execute_result"
    }
   ],
   "source": [
    "df_cleaned.head()"
   ]
  },
  {
   "cell_type": "code",
   "execution_count": null,
   "metadata": {
    "id": "svc4QgBXTSiC"
   },
   "outputs": [],
   "source": []
  },
  {
   "cell_type": "code",
   "execution_count": null,
   "metadata": {
    "colab": {
     "base_uri": "https://localhost:8080/"
    },
    "executionInfo": {
     "elapsed": 794,
     "status": "ok",
     "timestamp": 1615435425729,
     "user": {
      "displayName": "Robert Denilson Moreno Carrillo",
      "photoUrl": "https://lh3.googleusercontent.com/a-/AOh14Gh_NNO6BQE7t-VQ_S1KgEL5kb5JfpWvhBVvEcZS=s64",
      "userId": "16720048605800441930"
     },
     "user_tz": 300
    },
    "id": "MRBgIPsHTSnV",
    "outputId": "5c416bb5-5aa8-49cb-9ff5-a4133ee74a8d"
   },
   "outputs": [],
   "source": []
  },
  {
   "cell_type": "code",
   "execution_count": null,
   "metadata": {
    "id": "bymyrpOIdHPe"
   },
   "outputs": [],
   "source": []
  },
  {
   "cell_type": "code",
   "execution_count": null,
   "metadata": {
    "id": "ByXCng1tdu25"
   },
   "outputs": [],
   "source": []
  },
  {
   "cell_type": "markdown",
   "metadata": {
    "id": "GQQTRve4jrI6"
   },
   "source": [
    "### Selección de Threshold para etiquetar a cada categoría"
   ]
  },
  {
   "cell_type": "raw",
   "metadata": {},
   "source": [
    "EJEMPLO:  \n",
    "food_score\n",
    "[0, 0.05] => palabras mas frecuentes OK  \n",
    "[0.05, 0.1] => palabras más frecuentes OK  \n",
    "[0.1, 0.15] => palabras más frecuentes OK  \n",
    "[0.15, 0.20] => palabras más frecuentes  NO OK  \n",
    "    SI NO OK PROBAR  \n",
    "    [0.15, 0.16, 0.17, 0.18, 0.19]"
   ]
  },
  {
   "cell_type": "code",
   "execution_count": null,
   "metadata": {
    "colab": {
     "base_uri": "https://localhost:8080/",
     "height": 195
    },
    "executionInfo": {
     "elapsed": 467,
     "status": "ok",
     "timestamp": 1615437233244,
     "user": {
      "displayName": "Milca Elizabeth Valdez Flores",
      "photoUrl": "",
      "userId": "18058005903088779090"
     },
     "user_tz": 300
    },
    "id": "feOlpHCGj-RL",
    "outputId": "fa759a01-d8d1-4789-9a32-b5ffdbc50e50"
   },
   "outputs": [
    {
     "data": {
      "text/html": [
       "<div>\n",
       "<style scoped>\n",
       "    .dataframe tbody tr th:only-of-type {\n",
       "        vertical-align: middle;\n",
       "    }\n",
       "\n",
       "    .dataframe tbody tr th {\n",
       "        vertical-align: top;\n",
       "    }\n",
       "\n",
       "    .dataframe thead th {\n",
       "        text-align: right;\n",
       "    }\n",
       "</style>\n",
       "<table border=\"1\" class=\"dataframe\">\n",
       "  <thead>\n",
       "    <tr style=\"text-align: right;\">\n",
       "      <th></th>\n",
       "      <th>reseña_id</th>\n",
       "      <th>texto</th>\n",
       "      <th>estrellas</th>\n",
       "      <th>food_score</th>\n",
       "      <th>service_score</th>\n",
       "    </tr>\n",
       "  </thead>\n",
       "  <tbody>\n",
       "    <tr>\n",
       "      <th>0</th>\n",
       "      <td>LG2ZaYiOgpr2DK_90pYjNw</td>\n",
       "      <td>love deagan really atmosphere cozy festive shr...</td>\n",
       "      <td>5.0</td>\n",
       "      <td>0.101262</td>\n",
       "      <td>0.175348</td>\n",
       "    </tr>\n",
       "    <tr>\n",
       "      <th>1</th>\n",
       "      <td>L2O_INwlrRuoX05KSjc4eg</td>\n",
       "      <td>definitely favorite fast food sub shop ingredi...</td>\n",
       "      <td>5.0</td>\n",
       "      <td>0.119174</td>\n",
       "      <td>0.164607</td>\n",
       "    </tr>\n",
       "    <tr>\n",
       "      <th>2</th>\n",
       "      <td>ZayJ1zWyWgY9S_TRLT_y9Q</td>\n",
       "      <td>really good place simple decor amazing food gr...</td>\n",
       "      <td>5.0</td>\n",
       "      <td>0.064205</td>\n",
       "      <td>0.104330</td>\n",
       "    </tr>\n",
       "    <tr>\n",
       "      <th>3</th>\n",
       "      <td>JA-xnyHytKiOIHl_ztnK9Q</td>\n",
       "      <td>delicious authentic italian us leave place unh...</td>\n",
       "      <td>5.0</td>\n",
       "      <td>0.183491</td>\n",
       "      <td>0.223713</td>\n",
       "    </tr>\n",
       "    <tr>\n",
       "      <th>4</th>\n",
       "      <td>bVTjZgRNq8ToxzvtiVrqMA</td>\n",
       "      <td>10pm super bowl sunday already closed  weak wo...</td>\n",
       "      <td>1.0</td>\n",
       "      <td>0.221079</td>\n",
       "      <td>0.283378</td>\n",
       "    </tr>\n",
       "  </tbody>\n",
       "</table>\n",
       "</div>"
      ],
      "text/plain": [
       "                reseña_id  ... service_score\n",
       "0  LG2ZaYiOgpr2DK_90pYjNw  ...      0.175348\n",
       "1  L2O_INwlrRuoX05KSjc4eg  ...      0.164607\n",
       "2  ZayJ1zWyWgY9S_TRLT_y9Q  ...      0.104330\n",
       "3  JA-xnyHytKiOIHl_ztnK9Q  ...      0.223713\n",
       "4  bVTjZgRNq8ToxzvtiVrqMA  ...      0.283378\n",
       "\n",
       "[5 rows x 5 columns]"
      ]
     },
     "execution_count": 21,
     "metadata": {
      "tags": []
     },
     "output_type": "execute_result"
    }
   ],
   "source": [
    "df_cleaned.head()"
   ]
  },
  {
   "cell_type": "code",
   "execution_count": null,
   "metadata": {
    "colab": {
     "base_uri": "https://localhost:8080/"
    },
    "executionInfo": {
     "elapsed": 448,
     "status": "ok",
     "timestamp": 1615437661338,
     "user": {
      "displayName": "Milca Elizabeth Valdez Flores",
      "photoUrl": "",
      "userId": "18058005903088779090"
     },
     "user_tz": 300
    },
    "id": "juILTOeoT2aR",
    "outputId": "de21cc63-0063-4fe8-f196-f9c163b1408f"
   },
   "outputs": [
    {
     "data": {
      "text/plain": [
       "(good, food)         102\n",
       "(food, good)          94\n",
       "(great, food)         59\n",
       "(really, good)        57\n",
       "(food, great)         54\n",
       "(good, service)       43\n",
       "(service, good)       36\n",
       "(fast, food)          27\n",
       "(food, really)        25\n",
       "(great, service)      23\n",
       "(quality, food)       22\n",
       "(food, service)       21\n",
       "(food, delicious)     21\n",
       "(service, great)      21\n",
       "(great, place)        19\n",
       "(mexican, food)       18\n",
       "(food, fresh)         18\n",
       "(pretty, good)        17\n",
       "(delicious, food)     16\n",
       "(food, place)         15\n",
       "dtype: int64"
      ]
     },
     "execution_count": 44,
     "metadata": {
      "tags": []
     },
     "output_type": "execute_result"
    }
   ],
   "source": [
    "df_i = df_cleaned[df_cleaned[\"food_score\"]<=0.05][\"texto\"]\n",
    "n = 2\n",
    "bigrams = ngrams(\" \".join(df_i).split(), n)\n",
    "bigrams = pd.Series(bigrams)\n",
    "bigrams.value_counts().head(20)"
   ]
  },
  {
   "cell_type": "code",
   "execution_count": null,
   "metadata": {
    "colab": {
     "base_uri": "https://localhost:8080/"
    },
    "executionInfo": {
     "elapsed": 2340,
     "status": "ok",
     "timestamp": 1615437687449,
     "user": {
      "displayName": "Milca Elizabeth Valdez Flores",
      "photoUrl": "",
      "userId": "18058005903088779090"
     },
     "user_tz": 300
    },
    "id": "BlWAuDCcdu8u",
    "outputId": "559c70a9-0713-4424-f451-8e665adfb589"
   },
   "outputs": [
    {
     "data": {
      "text/plain": [
       "(food, good)           1705\n",
       "(good, food)           1491\n",
       "(great, food)          1437\n",
       "(really, good)         1436\n",
       "(food, great)          1319\n",
       "(great, service)       1026\n",
       "(pretty, good)          953\n",
       "(service, great)        877\n",
       "(service, good)         854\n",
       "(good, service)         781\n",
       "(go, back)              770\n",
       "(first, time)           690\n",
       "(come, back)            666\n",
       "(great, place)          656\n",
       "(food, service)         569\n",
       "(highly, recommend)     563\n",
       "(quality, food)         543\n",
       "(food, delicious)       529\n",
       "(staff, friendly)       498\n",
       "(fast, food)            488\n",
       "dtype: int64"
      ]
     },
     "execution_count": 45,
     "metadata": {
      "tags": []
     },
     "output_type": "execute_result"
    }
   ],
   "source": [
    "df_i = df_cleaned[(df_cleaned[\"food_score\"]>0.05) & (df_cleaned[\"food_score\"]<=0.1)][\"texto\"]\n",
    "n = 2\n",
    "ngrams = ngrams(\" \".join(df_i).split(), n)\n",
    "ngrams = pd.Series(ngrams)\n",
    "ngrams.value_counts().head(20)"
   ]
  },
  {
   "cell_type": "code",
   "execution_count": null,
   "metadata": {
    "colab": {
     "base_uri": "https://localhost:8080/"
    },
    "executionInfo": {
     "elapsed": 1663,
     "status": "ok",
     "timestamp": 1615439258564,
     "user": {
      "displayName": "Milca Elizabeth Valdez Flores",
      "photoUrl": "",
      "userId": "18058005903088779090"
     },
     "user_tz": 300
    },
    "id": "4gXJcCsrrm5U",
    "outputId": "86c0ccaa-c9c3-4c7b-8dd0-49b1eca63756"
   },
   "outputs": [
    {
     "data": {
      "text/plain": [
       "(food, good)           498\n",
       "(great, food)          492\n",
       "(really, good)         492\n",
       "(go, back)             458\n",
       "(food, great)          456\n",
       "(pretty, good)         452\n",
       "(come, back)           417\n",
       "(great, service)       412\n",
       "(first, time)          411\n",
       "(service, great)       397\n",
       "(great, place)         352\n",
       "(good, food)           336\n",
       "(highly, recommend)    313\n",
       "(happy, hour)          277\n",
       "(love, place)          265\n",
       "(service, good)        264\n",
       "(good, service)        239\n",
       "(staff, friendly)      239\n",
       "(customer, service)    238\n",
       "(next, time)           236\n",
       "dtype: int64"
      ]
     },
     "execution_count": 80,
     "metadata": {
      "tags": []
     },
     "output_type": "execute_result"
    }
   ],
   "source": [
    "df_i = df_cleaned[(df_cleaned[\"food_score\"]>0.1) & (df_cleaned[\"food_score\"]<=0.11)][\"texto\"]\n",
    "n = 2\n",
    "ngrams = ngrams(\" \".join(df_i).split(), n)\n",
    "ngrams = pd.Series(ngrams)\n",
    "ngrams.value_counts().head(20)"
   ]
  },
  {
   "cell_type": "code",
   "execution_count": null,
   "metadata": {
    "colab": {
     "base_uri": "https://localhost:8080/"
    },
    "executionInfo": {
     "elapsed": 2892,
     "status": "ok",
     "timestamp": 1615439324600,
     "user": {
      "displayName": "Milca Elizabeth Valdez Flores",
      "photoUrl": "",
      "userId": "18058005903088779090"
     },
     "user_tz": 300
    },
    "id": "lxJ0WBIBr4Qi",
    "outputId": "e08583aa-815e-4bde-b663-95eb07f0e873"
   },
   "outputs": [
    {
     "data": {
      "text/plain": [
       "(go, back)             944\n",
       "(really, good)         926\n",
       "(great, food)          895\n",
       "(food, good)           894\n",
       "(first, time)          883\n",
       "(come, back)           862\n",
       "(pretty, good)         826\n",
       "(food, great)          820\n",
       "(service, great)       773\n",
       "(great, service)       755\n",
       "(highly, recommend)    673\n",
       "(great, place)         659\n",
       "(good, food)           614\n",
       "(happy, hour)          587\n",
       "(love, place)          545\n",
       "(next, time)           541\n",
       "(customer, service)    507\n",
       "(staff, friendly)      505\n",
       "(coming, back)         488\n",
       "(service, good)        464\n",
       "dtype: int64"
      ]
     },
     "execution_count": 83,
     "metadata": {
      "tags": []
     },
     "output_type": "execute_result"
    }
   ],
   "source": [
    "df_i = df_cleaned[(df_cleaned[\"food_score\"]>0.1) & (df_cleaned[\"food_score\"]<=0.12)][\"texto\"]\n",
    "n = 2\n",
    "ngrams = ngrams(\" \".join(df_i).split(), n)\n",
    "ngrams = pd.Series(ngrams)\n",
    "ngrams.value_counts().head(20)"
   ]
  },
  {
   "cell_type": "code",
   "execution_count": null,
   "metadata": {
    "colab": {
     "base_uri": "https://localhost:8080/"
    },
    "executionInfo": {
     "elapsed": 6509,
     "status": "ok",
     "timestamp": 1615437708259,
     "user": {
      "displayName": "Milca Elizabeth Valdez Flores",
      "photoUrl": "",
      "userId": "18058005903088779090"
     },
     "user_tz": 300
    },
    "id": "MKwwuPStdHcB",
    "outputId": "aaa911b9-7986-4d22-ca85-52c476b48868"
   },
   "outputs": [
    {
     "data": {
      "text/plain": [
       "(go, back)             2221\n",
       "(first, time)          2101\n",
       "(come, back)           1929\n",
       "(really, good)         1686\n",
       "(great, food)          1600\n",
       "(food, good)           1574\n",
       "(great, service)       1543\n",
       "(highly, recommend)    1482\n",
       "(pretty, good)         1477\n",
       "(food, great)          1473\n",
       "(ice, cream)           1441\n",
       "(service, great)       1431\n",
       "(happy, hour)          1429\n",
       "(customer, service)    1375\n",
       "(great, place)         1374\n",
       "(love, place)          1321\n",
       "(next, time)           1284\n",
       "(staff, friendly)      1086\n",
       "(coming, back)         1065\n",
       "(good, food)            989\n",
       "dtype: int64"
      ]
     },
     "execution_count": 48,
     "metadata": {
      "tags": []
     },
     "output_type": "execute_result"
    }
   ],
   "source": [
    "df_i = df_cleaned[(df_cleaned[\"food_score\"]>0.1) & (df_cleaned[\"food_score\"]<=0.15)][\"texto\"]\n",
    "n = 2\n",
    "ngrams = ngrams(\" \".join(df_i).split(), n)\n",
    "ngrams = pd.Series(ngrams)\n",
    "ngrams.value_counts().head(20)"
   ]
  },
  {
   "cell_type": "code",
   "execution_count": null,
   "metadata": {
    "colab": {
     "base_uri": "https://localhost:8080/"
    },
    "executionInfo": {
     "elapsed": 2407,
     "status": "ok",
     "timestamp": 1615437736129,
     "user": {
      "displayName": "Milca Elizabeth Valdez Flores",
      "photoUrl": "",
      "userId": "18058005903088779090"
     },
     "user_tz": 300
    },
    "id": "mTE85ayxT5GB",
    "outputId": "08021849-19a8-402b-929e-b80003174ce1"
   },
   "outputs": [
    {
     "data": {
      "text/plain": [
       "(customer, service)    951\n",
       "(go, back)             798\n",
       "(first, time)          782\n",
       "(come, back)           717\n",
       "(ice, cream)           655\n",
       "(happy, hour)          562\n",
       "(love, place)          549\n",
       "(highly, recommend)    483\n",
       "(every, time)          448\n",
       "(next, time)           428\n",
       "(las, vegas)           387\n",
       "(great, place)         377\n",
       "(coming, back)         358\n",
       "(going, back)          356\n",
       "(great, service)       350\n",
       "(drive, thru)          324\n",
       "(make, sure)           314\n",
       "(5, stars)             307\n",
       "(20, minutes)          293\n",
       "(staff, friendly)      291\n",
       "dtype: int64"
      ]
     },
     "execution_count": 51,
     "metadata": {
      "tags": []
     },
     "output_type": "execute_result"
    }
   ],
   "source": [
    "df_i = df_cleaned[(df_cleaned[\"food_score\"]>0.15) & (df_cleaned[\"food_score\"]<=0.2)][\"texto\"]\n",
    "n = 2\n",
    "ngrams = ngrams(\" \".join(df_i).split(), n)\n",
    "ngrams = pd.Series(ngrams)\n",
    "ngrams.value_counts().head(20)"
   ]
  },
  {
   "cell_type": "markdown",
   "metadata": {
    "id": "fymtVxmImFkm"
   },
   "source": [
    "### Trigrams"
   ]
  },
  {
   "cell_type": "code",
   "execution_count": null,
   "metadata": {
    "colab": {
     "base_uri": "https://localhost:8080/"
    },
    "executionInfo": {
     "elapsed": 466,
     "status": "ok",
     "timestamp": 1615437843311,
     "user": {
      "displayName": "Milca Elizabeth Valdez Flores",
      "photoUrl": "",
      "userId": "18058005903088779090"
     },
     "user_tz": 300
    },
    "id": "0GfeHAP1T5Nz",
    "outputId": "cf88b920-62ff-4e63-ee51-266c63394bcc"
   },
   "outputs": [
    {
     "data": {
      "text/plain": [
       "(good, food, good)          21\n",
       "(food, really, good)        17\n",
       "(really, good, food)        15\n",
       "(food, great, service)      11\n",
       "(food, good, service)       11\n",
       "(good, food, great)         10\n",
       "(service, good, food)        9\n",
       "(great, food, great)         9\n",
       "(food, great, food)          8\n",
       "(great, food, good)          8\n",
       "(good, quality, food)        7\n",
       "(food, fresh, delicious)     7\n",
       "(good, service, good)        7\n",
       "(place, good, food)          7\n",
       "(service, great, food)       6\n",
       "(food, good, food)           5\n",
       "(food, service, good)        5\n",
       "(overall, good, food)        5\n",
       "(food, good, price)          5\n",
       "(food, good, prices)         5\n",
       "dtype: int64"
      ]
     },
     "execution_count": 54,
     "metadata": {
      "tags": []
     },
     "output_type": "execute_result"
    }
   ],
   "source": [
    "df_i = df_cleaned[df_cleaned[\"food_score\"]<=0.05][\"texto\"]\n",
    "n = 3\n",
    "bigrams = ngrams(\" \".join(df_i).split(), n)\n",
    "bigrams = pd.Series(bigrams)\n",
    "bigrams.value_counts().head(20)"
   ]
  },
  {
   "cell_type": "code",
   "execution_count": null,
   "metadata": {
    "colab": {
     "base_uri": "https://localhost:8080/"
    },
    "executionInfo": {
     "elapsed": 3432,
     "status": "ok",
     "timestamp": 1615437864904,
     "user": {
      "displayName": "Milca Elizabeth Valdez Flores",
      "photoUrl": "",
      "userId": "18058005903088779090"
     },
     "user_tz": 300
    },
    "id": "PdfRLjujTJEG",
    "outputId": "b812dfe3-22fa-4400-aab4-3c4a5c1deeef"
   },
   "outputs": [
    {
     "data": {
      "text/plain": [
       "(food, great, service)        261\n",
       "(great, food, great)          250\n",
       "(food, good, service)         207\n",
       "(definitely, come, back)      194\n",
       "(food, really, good)          189\n",
       "(good, food, good)            188\n",
       "(service, great, food)        176\n",
       "(service, good, food)         174\n",
       "(definitely, go, back)        140\n",
       "(food, pretty, good)          139\n",
       "(good, food, great)           120\n",
       "(definitely, coming, back)    106\n",
       "(sweet, potato, fries)        105\n",
       "(would, go, back)             103\n",
       "(great, customer, service)    102\n",
       "(great, food, good)           101\n",
       "(great, service, great)       101\n",
       "(wait, go, back)              100\n",
       "(really, good, food)           95\n",
       "(good, service, good)          94\n",
       "dtype: int64"
      ]
     },
     "execution_count": 55,
     "metadata": {
      "tags": []
     },
     "output_type": "execute_result"
    }
   ],
   "source": [
    "df_i = df_cleaned[(df_cleaned[\"food_score\"]>0.05) & (df_cleaned[\"food_score\"]<=0.1)][\"texto\"]\n",
    "n = 3\n",
    "ngrams = ngrams(\" \".join(df_i).split(), n)\n",
    "ngrams = pd.Series(ngrams)\n",
    "ngrams.value_counts().head(20)"
   ]
  },
  {
   "cell_type": "code",
   "execution_count": null,
   "metadata": {
    "colab": {
     "base_uri": "https://localhost:8080/"
    },
    "executionInfo": {
     "elapsed": 7458,
     "status": "ok",
     "timestamp": 1615437909662,
     "user": {
      "displayName": "Milca Elizabeth Valdez Flores",
      "photoUrl": "",
      "userId": "18058005903088779090"
     },
     "user_tz": 300
    },
    "id": "sZlrrKWlTLgX",
    "outputId": "a1e54b88-cf99-4899-c92a-7a61ea4252e9"
   },
   "outputs": [
    {
     "data": {
      "text/plain": [
       "(definitely, come, back)          383\n",
       "(wait, go, back)                  338\n",
       "(food, great, service)            335\n",
       "(would, go, back)                 316\n",
       "(definitely, go, back)            300\n",
       "(definitely, coming, back)        295\n",
       "(great, food, great)              261\n",
       "(would, come, back)               237\n",
       "(highly, recommend, place)        236\n",
       "(would, definitely, recommend)    226\n",
       "(sweet, potato, fries)            220\n",
       "(service, great, food)            219\n",
       "(great, customer, service)        214\n",
       "(mac, n, cheese)                  205\n",
       "(come, back, try)                 202\n",
       "(would, highly, recommend)        197\n",
       "(go, back, try)                   196\n",
       "(staff, super, friendly)          187\n",
       "(would, definitely, come)         183\n",
       "(great, service, great)           178\n",
       "dtype: int64"
      ]
     },
     "execution_count": 58,
     "metadata": {
      "tags": []
     },
     "output_type": "execute_result"
    }
   ],
   "source": [
    "df_i = df_cleaned[(df_cleaned[\"food_score\"]>0.1) & (df_cleaned[\"food_score\"]<=0.15)][\"texto\"]\n",
    "n = 3\n",
    "ngrams = ngrams(\" \".join(df_i).split(), n)\n",
    "ngrams = pd.Series(ngrams)\n",
    "ngrams.value_counts().head(20)"
   ]
  },
  {
   "cell_type": "code",
   "execution_count": null,
   "metadata": {
    "colab": {
     "base_uri": "https://localhost:8080/"
    },
    "executionInfo": {
     "elapsed": 2268,
     "status": "ok",
     "timestamp": 1615437961506,
     "user": {
      "displayName": "Milca Elizabeth Valdez Flores",
      "photoUrl": "",
      "userId": "18058005903088779090"
     },
     "user_tz": 300
    },
    "id": "SCLi9cyOTLmJ",
    "outputId": "786e4c81-1344-41b7-c7c5-dfb6699f7e7a"
   },
   "outputs": [
    {
     "data": {
      "text/plain": [
       "(wait, go, back)                  122\n",
       "(definitely, come, back)          111\n",
       "(never, go, back)                 101\n",
       "(great, customer, service)        101\n",
       "(highly, recommend, place)         80\n",
       "(would, highly, recommend)         78\n",
       "(definitely, coming, back)         75\n",
       "(would, come, back)                72\n",
       "(definitely, go, back)             72\n",
       "(would, go, back)                  70\n",
       "(would, definitely, recommend)     66\n",
       "(go, back, try)                    59\n",
       "(every, time, come)                58\n",
       "(every, time, go)                  58\n",
       "(back, next, time)                 56\n",
       "(would, recommend, place)          54\n",
       "(definitely, going, back)          54\n",
       "(worst, service, ever)             53\n",
       "(would, definitely, come)          51\n",
       "(one, favorite, places)            49\n",
       "dtype: int64"
      ]
     },
     "execution_count": 64,
     "metadata": {
      "tags": []
     },
     "output_type": "execute_result"
    }
   ],
   "source": [
    "df_i = df_cleaned[(df_cleaned[\"food_score\"]>0.15) & (df_cleaned[\"food_score\"]<=0.2)][\"texto\"]\n",
    "n = 3\n",
    "ngrams = ngrams(\" \".join(df_i).split(), n)\n",
    "ngrams = pd.Series(ngrams)\n",
    "ngrams.value_counts().head(20)"
   ]
  },
  {
   "cell_type": "markdown",
   "metadata": {
    "id": "hY-CLJUim39H"
   },
   "source": [
    "### 4Grams"
   ]
  },
  {
   "cell_type": "code",
   "execution_count": null,
   "metadata": {
    "colab": {
     "base_uri": "https://localhost:8080/"
    },
    "executionInfo": {
     "elapsed": 534,
     "status": "ok",
     "timestamp": 1615438077075,
     "user": {
      "displayName": "Milca Elizabeth Valdez Flores",
      "photoUrl": "",
      "userId": "18058005903088779090"
     },
     "user_tz": 300
    },
    "id": "jP6CSCkvm9Y3",
    "outputId": "9ed6fd2d-1b66-418e-a5f0-426a579405dd"
   },
   "outputs": [
    {
     "data": {
      "text/plain": [
       "(good, food, good, service)             5\n",
       "(good, service, good, food)             5\n",
       "(great, food, great, service)           4\n",
       "(food, great, food, great)              3\n",
       "(good, food, great, service)            3\n",
       "(food, good, food, great)               3\n",
       "(worth, every, dollar, service)         2\n",
       "(every, dollar, service, great)         2\n",
       "(definitely, experience, food, good)    2\n",
       "(always, good, never, bad)              2\n",
       "(food, really, good, service)           2\n",
       "(variety, delicious, food, well)        2\n",
       "(place, good, food, good)               2\n",
       "(good, food, good, atmosphere)          2\n",
       "(service, good, food, great)            2\n",
       "(great, place, good, food)              2\n",
       "(food, orange, chicken, good)           2\n",
       "(food, service, good, food)             2\n",
       "(got, variety, delicious, food)         2\n",
       "(good, got, variety, delicious)         2\n",
       "dtype: int64"
      ]
     },
     "execution_count": 70,
     "metadata": {
      "tags": []
     },
     "output_type": "execute_result"
    }
   ],
   "source": [
    "df_i = df_cleaned[df_cleaned[\"food_score\"]<=0.05][\"texto\"]\n",
    "n = 4\n",
    "bigrams = ngrams(\" \".join(df_i).split(), n)\n",
    "bigrams = pd.Series(bigrams)\n",
    "bigrams.value_counts().head(20)"
   ]
  },
  {
   "cell_type": "code",
   "execution_count": null,
   "metadata": {
    "colab": {
     "base_uri": "https://localhost:8080/"
    },
    "executionInfo": {
     "elapsed": 3208,
     "status": "ok",
     "timestamp": 1615438083812,
     "user": {
      "displayName": "Milca Elizabeth Valdez Flores",
      "photoUrl": "",
      "userId": "18058005903088779090"
     },
     "user_tz": 300
    },
    "id": "zuHEYiMUnC7d",
    "outputId": "28446fa3-c62c-4709-afd2-181b593febf8"
   },
   "outputs": [
    {
     "data": {
      "text/plain": [
       "(great, food, great, service)            97\n",
       "(would, definitely, come, back)          73\n",
       "(good, food, good, service)              58\n",
       "(would, definitely, go, back)            44\n",
       "(great, service, great, food)            42\n",
       "(good, food, great, service)             41\n",
       "(food, great, service, great)            35\n",
       "(good, service, good, food)              29\n",
       "(food, good, service, great)             27\n",
       "(say, enough, good, things)              26\n",
       "(service, good, food, good)              24\n",
       "(would, definitely, recommend, place)    23\n",
       "(food, good, service, good)              23\n",
       "(great, service, good, food)             23\n",
       "(great, food, good, service)             22\n",
       "(great, food, great, atmosphere)         21\n",
       "(great, service, delicious, food)        21\n",
       "(service, great, food, great)            20\n",
       "(great, food, great, prices)             19\n",
       "(great, food, great, price)              17\n",
       "dtype: int64"
      ]
     },
     "execution_count": 71,
     "metadata": {
      "tags": []
     },
     "output_type": "execute_result"
    }
   ],
   "source": [
    "df_i = df_cleaned[(df_cleaned[\"food_score\"]>0.05) & (df_cleaned[\"food_score\"]<=0.1)][\"texto\"]\n",
    "n = 4\n",
    "ngrams = ngrams(\" \".join(df_i).split(), n)\n",
    "ngrams = pd.Series(ngrams)\n",
    "ngrams.value_counts().head(20)"
   ]
  },
  {
   "cell_type": "code",
   "execution_count": null,
   "metadata": {
    "colab": {
     "base_uri": "https://localhost:8080/"
    },
    "executionInfo": {
     "elapsed": 7926,
     "status": "ok",
     "timestamp": 1615438111237,
     "user": {
      "displayName": "Milca Elizabeth Valdez Flores",
      "photoUrl": "",
      "userId": "18058005903088779090"
     },
     "user_tz": 300
    },
    "id": "K6Y9iusXnP_D",
    "outputId": "9b1c882e-257b-47d5-96bd-96cb767d4b86"
   },
   "outputs": [
    {
     "data": {
      "text/plain": [
       "(would, definitely, come, back)          137\n",
       "(would, definitely, go, back)            110\n",
       "(great, food, great, service)            102\n",
       "(would, definitely, recommend, place)     61\n",
       "(great, service, great, food)             59\n",
       "(wait, go, back, try)                     52\n",
       "(love, love, love, place)                 50\n",
       "(really, wanted, like, place)             48\n",
       "(come, back, next, time)                  44\n",
       "(wait, come, back, try)                   43\n",
       "(definitely, come, back, try)             42\n",
       "(buy, one, get, one)                      42\n",
       "(food, great, service, great)             41\n",
       "(would, recommend, place, anyone)         37\n",
       "(say, enough, good, things)               36\n",
       "(made, us, feel, welcome)                 33\n",
       "(got, seated, right, away)                31\n",
       "(looking, forward, going, back)           31\n",
       "(one, favorite, places, go)               31\n",
       "(i, would, go, back)                      30\n",
       "dtype: int64"
      ]
     },
     "execution_count": 74,
     "metadata": {
      "tags": []
     },
     "output_type": "execute_result"
    }
   ],
   "source": [
    "df_i = df_cleaned[(df_cleaned[\"food_score\"]>0.1) & (df_cleaned[\"food_score\"]<=0.15)][\"texto\"]\n",
    "n = 4\n",
    "ngrams = ngrams(\" \".join(df_i).split(), n)\n",
    "ngrams = pd.Series(ngrams)\n",
    "ngrams.value_counts().head(20)"
   ]
  },
  {
   "cell_type": "code",
   "execution_count": null,
   "metadata": {
    "colab": {
     "base_uri": "https://localhost:8080/"
    },
    "executionInfo": {
     "elapsed": 2632,
     "status": "ok",
     "timestamp": 1615438143386,
     "user": {
      "displayName": "Milca Elizabeth Valdez Flores",
      "photoUrl": "",
      "userId": "18058005903088779090"
     },
     "user_tz": 300
    },
    "id": "T7lPh95vnZEJ",
    "outputId": "cba1c29a-f7ed-4a5b-f47c-219b69653f02"
   },
   "outputs": [
    {
     "data": {
      "text/plain": [
       "(would, definitely, come, back)      43\n",
       "(would, definitely, go, back)        29\n",
       "(wait, go, back, try)                26\n",
       "(worst, customer, service, ever)     23\n",
       "(buy, one, get, one)                 18\n",
       "(http, www, yelp, com)               17\n",
       "(come, back, next, time)             16\n",
       "(www, yelp, com, biz)                16\n",
       "(could, give, zero, stars)           16\n",
       "(yelp, com, biz, photos)             15\n",
       "(love, love, love, place)            14\n",
       "(would, highly, recommend, place)    14\n",
       "(one, get, one, free)                14\n",
       "(new, york, new, york)               14\n",
       "(would, recommend, place, anyone)    12\n",
       "(give, zero, stars, would)           12\n",
       "(would, never, go, back)             12\n",
       "(back, next, time, vegas)            11\n",
       "(back, next, time, town)             11\n",
       "(took, great, care, us)              11\n",
       "dtype: int64"
      ]
     },
     "execution_count": 77,
     "metadata": {
      "tags": []
     },
     "output_type": "execute_result"
    }
   ],
   "source": [
    "df_i = df_cleaned[(df_cleaned[\"food_score\"]>0.15) & (df_cleaned[\"food_score\"]<=0.2)][\"texto\"]\n",
    "n = 4\n",
    "ngrams = ngrams(\" \".join(df_i).split(), n)\n",
    "ngrams = pd.Series(ngrams)\n",
    "ngrams.value_counts().head(20)"
   ]
  },
  {
   "cell_type": "markdown",
   "metadata": {
    "id": "QXvJASts2g_H"
   },
   "source": [
    "## Services"
   ]
  },
  {
   "cell_type": "code",
   "execution_count": null,
   "metadata": {
    "colab": {
     "base_uri": "https://localhost:8080/"
    },
    "executionInfo": {
     "elapsed": 399,
     "status": "ok",
     "timestamp": 1615442161926,
     "user": {
      "displayName": "Milca Elizabeth Valdez Flores",
      "photoUrl": "",
      "userId": "18058005903088779090"
     },
     "user_tz": 300
    },
    "id": "MMr5SsET2iyE",
    "outputId": "f9f7c7de-ed41-4380-bd47-2f44c5f9bdb2"
   },
   "outputs": [
    {
     "data": {
      "text/plain": [
       "(customer, service)      48\n",
       "(great, customer)        10\n",
       "(service, great)          8\n",
       "(great, food)             6\n",
       "(food, good)              6\n",
       "(service, food)           5\n",
       "(food, great)             4\n",
       "(good, food)              4\n",
       "(great, service)          4\n",
       "(service, good)           4\n",
       "(amazing, customer)       3\n",
       "(service, ever)           3\n",
       "(excellent, customer)     3\n",
       "(every, time)             3\n",
       "(service, fast)           3\n",
       "(food, excellent)         3\n",
       "(last, time)              3\n",
       "(good, customer)          3\n",
       "(fast, food)              2\n",
       "(first, time)             2\n",
       "dtype: int64"
      ]
     },
     "execution_count": 94,
     "metadata": {
      "tags": []
     },
     "output_type": "execute_result"
    }
   ],
   "source": [
    "df_i = df_cleaned[df_cleaned[\"service_score\"]<=0.05][\"texto\"]\n",
    "n = 2\n",
    "bigrams = ngrams(\" \".join(df_i).split(), n)\n",
    "bigrams = pd.Series(bigrams)\n",
    "bigrams.value_counts().head(20)"
   ]
  },
  {
   "cell_type": "code",
   "execution_count": null,
   "metadata": {
    "colab": {
     "base_uri": "https://localhost:8080/"
    },
    "executionInfo": {
     "elapsed": 444,
     "status": "ok",
     "timestamp": 1615442313412,
     "user": {
      "displayName": "Milca Elizabeth Valdez Flores",
      "photoUrl": "",
      "userId": "18058005903088779090"
     },
     "user_tz": 300
    },
    "id": "L1g8owmd2ilh",
    "outputId": "b9cfbef4-4c76-4b02-c16a-66b0d6470d6b"
   },
   "outputs": [
    {
     "data": {
      "text/plain": [
       "(customer, service)      626\n",
       "(great, service)         205\n",
       "(service, great)         170\n",
       "(food, great)            166\n",
       "(great, food)            162\n",
       "(great, customer)        134\n",
       "(food, good)             102\n",
       "(good, food)              83\n",
       "(service, food)           79\n",
       "(good, service)           79\n",
       "(food, service)           75\n",
       "(first, time)             70\n",
       "(service, good)           70\n",
       "(great, experience)       57\n",
       "(every, time)             47\n",
       "(really, good)            47\n",
       "(excellent, service)      46\n",
       "(service, excellent)      46\n",
       "(excellent, customer)     41\n",
       "(good, customer)          40\n",
       "dtype: int64"
      ]
     },
     "execution_count": 95,
     "metadata": {
      "tags": []
     },
     "output_type": "execute_result"
    }
   ],
   "source": [
    "df_i = df_cleaned[(df_cleaned[\"service_score\"]>0.05) & (df_cleaned[\"service_score\"]<=0.1)][\"texto\"]\n",
    "n = 2\n",
    "ngrams = ngrams(\" \".join(df_i).split(), n)\n",
    "ngrams = pd.Series(ngrams)\n",
    "ngrams.value_counts().head(20)"
   ]
  },
  {
   "cell_type": "code",
   "execution_count": null,
   "metadata": {
    "colab": {
     "base_uri": "https://localhost:8080/"
    },
    "executionInfo": {
     "elapsed": 414,
     "status": "ok",
     "timestamp": 1615442350753,
     "user": {
      "displayName": "Milca Elizabeth Valdez Flores",
      "photoUrl": "",
      "userId": "18058005903088779090"
     },
     "user_tz": 300
    },
    "id": "ObeDHoFd2iYW",
    "outputId": "e314853d-dd1e-4979-fe97-4c8bf74e0722"
   },
   "outputs": [
    {
     "data": {
      "text/plain": [
       "(customer, service)    295\n",
       "(great, service)       203\n",
       "(great, food)          160\n",
       "(food, great)          145\n",
       "(service, great)       145\n",
       "(food, good)           112\n",
       "(food, service)         87\n",
       "(good, service)         86\n",
       "(first, time)           82\n",
       "(service, food)         72\n",
       "(great, place)          69\n",
       "(good, food)            59\n",
       "(service, good)         55\n",
       "(great, customer)       52\n",
       "(every, time)           51\n",
       "(come, back)            50\n",
       "(great, experience)     49\n",
       "(highly, recommend)     48\n",
       "(really, good)          43\n",
       "(service, always)       42\n",
       "dtype: int64"
      ]
     },
     "execution_count": 98,
     "metadata": {
      "tags": []
     },
     "output_type": "execute_result"
    }
   ],
   "source": [
    "df_i = df_cleaned[(df_cleaned[\"service_score\"]>0.1) & (df_cleaned[\"service_score\"]<=0.11)][\"texto\"]\n",
    "n = 2\n",
    "ngrams = ngrams(\" \".join(df_i).split(), n)\n",
    "ngrams = pd.Series(ngrams)\n",
    "ngrams.value_counts().head(20)"
   ]
  },
  {
   "cell_type": "code",
   "execution_count": null,
   "metadata": {
    "colab": {
     "base_uri": "https://localhost:8080/"
    },
    "executionInfo": {
     "elapsed": 626,
     "status": "ok",
     "timestamp": 1615442925314,
     "user": {
      "displayName": "Milca Elizabeth Valdez Flores",
      "photoUrl": "",
      "userId": "18058005903088779090"
     },
     "user_tz": 300
    },
    "id": "-B8npdgn4dnc",
    "outputId": "c4a08fa6-8f23-469a-e3bc-e83c42dc594c"
   },
   "outputs": [
    {
     "data": {
      "text/plain": [
       "(customer, service)     363\n",
       "(great, service)        278\n",
       "(service, great)        232\n",
       "(great, food)           217\n",
       "(food, great)           197\n",
       "(food, good)            166\n",
       "(food, service)         143\n",
       "(first, time)           139\n",
       "(good, service)         138\n",
       "(good, food)            108\n",
       "(service, good)         103\n",
       "(highly, recommend)      90\n",
       "(service, food)          88\n",
       "(every, time)            84\n",
       "(go, back)               80\n",
       "(great, place)           78\n",
       "(come, back)             77\n",
       "(really, good)           76\n",
       "(service, excellent)     74\n",
       "(friendly, service)      67\n",
       "dtype: int64"
      ]
     },
     "execution_count": 109,
     "metadata": {
      "tags": []
     },
     "output_type": "execute_result"
    }
   ],
   "source": [
    "df_i = df_cleaned[(df_cleaned[\"service_score\"]>0.11) & (df_cleaned[\"service_score\"]<=0.12)][\"texto\"]\n",
    "n = 2\n",
    "ngrams = ngrams(\" \".join(df_i).split(), n)\n",
    "ngrams = pd.Series(ngrams)\n",
    "ngrams.value_counts().head(20)"
   ]
  },
  {
   "cell_type": "code",
   "execution_count": null,
   "metadata": {
    "colab": {
     "base_uri": "https://localhost:8080/"
    },
    "executionInfo": {
     "elapsed": 671,
     "status": "ok",
     "timestamp": 1615442951408,
     "user": {
      "displayName": "Milca Elizabeth Valdez Flores",
      "photoUrl": "",
      "userId": "18058005903088779090"
     },
     "user_tz": 300
    },
    "id": "s3CKmeoi4xDp",
    "outputId": "ea79732d-6efa-4ea2-af9b-a11c62a7bc7b"
   },
   "outputs": [
    {
     "data": {
      "text/plain": [
       "(great, service)        425\n",
       "(customer, service)     367\n",
       "(service, great)        343\n",
       "(great, food)           318\n",
       "(food, great)           284\n",
       "(food, good)            248\n",
       "(good, service)         231\n",
       "(first, time)           216\n",
       "(food, service)         199\n",
       "(good, food)            188\n",
       "(great, place)          173\n",
       "(service, good)         171\n",
       "(highly, recommend)     138\n",
       "(really, good)          137\n",
       "(service, food)         131\n",
       "(go, back)              130\n",
       "(come, back)            129\n",
       "(every, time)           120\n",
       "(coming, back)          115\n",
       "(service, excellent)    111\n",
       "dtype: int64"
      ]
     },
     "execution_count": 112,
     "metadata": {
      "tags": []
     },
     "output_type": "execute_result"
    }
   ],
   "source": [
    "df_i = df_cleaned[(df_cleaned[\"service_score\"]>0.12) & (df_cleaned[\"service_score\"]<=0.13)][\"texto\"]\n",
    "n = 2\n",
    "ngrams = ngrams(\" \".join(df_i).split(), n)\n",
    "ngrams = pd.Series(ngrams)\n",
    "ngrams.value_counts().head(20)"
   ]
  },
  {
   "cell_type": "code",
   "execution_count": null,
   "metadata": {
    "colab": {
     "base_uri": "https://localhost:8080/"
    },
    "executionInfo": {
     "elapsed": 984,
     "status": "ok",
     "timestamp": 1615443042602,
     "user": {
      "displayName": "Milca Elizabeth Valdez Flores",
      "photoUrl": "",
      "userId": "18058005903088779090"
     },
     "user_tz": 300
    },
    "id": "kspQ8NBn6Ews",
    "outputId": "3ec826d5-dd2d-46dc-a9bb-8cdec9b30a38"
   },
   "outputs": [
    {
     "data": {
      "text/plain": [
       "(great, service)       412\n",
       "(food, good)           364\n",
       "(service, great)       360\n",
       "(food, great)          350\n",
       "(customer, service)    349\n",
       "(great, food)          330\n",
       "(good, food)           280\n",
       "(first, time)          272\n",
       "(service, good)        257\n",
       "(really, good)         249\n",
       "(good, service)        248\n",
       "(go, back)             244\n",
       "(great, place)         213\n",
       "(come, back)           203\n",
       "(food, service)        194\n",
       "(highly, recommend)    192\n",
       "(happy, hour)          170\n",
       "(staff, friendly)      162\n",
       "(every, time)          153\n",
       "(coming, back)         153\n",
       "dtype: int64"
      ]
     },
     "execution_count": 114,
     "metadata": {
      "tags": []
     },
     "output_type": "execute_result"
    }
   ],
   "source": [
    "df_i = df_cleaned[(df_cleaned[\"service_score\"]>0.13) & (df_cleaned[\"service_score\"]<=0.14)][\"texto\"]\n",
    "n = 2\n",
    "ngrams = ngrams(\" \".join(df_i).split(), n)\n",
    "ngrams = pd.Series(ngrams)\n",
    "ngrams.value_counts().head(20)"
   ]
  },
  {
   "cell_type": "code",
   "execution_count": null,
   "metadata": {
    "colab": {
     "base_uri": "https://localhost:8080/"
    },
    "executionInfo": {
     "elapsed": 2675,
     "status": "ok",
     "timestamp": 1615443149270,
     "user": {
      "displayName": "Milca Elizabeth Valdez Flores",
      "photoUrl": "",
      "userId": "18058005903088779090"
     },
     "user_tz": 300
    },
    "id": "UwiXkyGN6Naa",
    "outputId": "dbffcead-3cc0-4605-a706-021092156c97"
   },
   "outputs": [
    {
     "data": {
      "text/plain": [
       "(food, great, service)            156\n",
       "(definitely, come, back)          151\n",
       "(great, food, great)              132\n",
       "(service, great, food)            123\n",
       "(definitely, go, back)            107\n",
       "(definitely, coming, back)        105\n",
       "(food, good, service)              99\n",
       "(highly, recommend, place)         96\n",
       "(would, go, back)                  95\n",
       "(wait, go, back)                   94\n",
       "(food, pretty, good)               94\n",
       "(would, definitely, recommend)     90\n",
       "(staff, super, friendly)           89\n",
       "(would, highly, recommend)         87\n",
       "(food, really, good)               81\n",
       "(sweet, potato, fries)             81\n",
       "(staff, always, friendly)          77\n",
       "(service, good, food)              76\n",
       "(good, food, good)                 75\n",
       "(would, come, back)                74\n",
       "dtype: int64"
      ]
     },
     "execution_count": 122,
     "metadata": {
      "tags": []
     },
     "output_type": "execute_result"
    }
   ],
   "source": [
    "df_i = df_cleaned[(df_cleaned[\"service_score\"]>0.14) & (df_cleaned[\"service_score\"]<=0.16)][\"texto\"]\n",
    "n = 3\n",
    "ngrams = ngrams(\" \".join(df_i).split(), n)\n",
    "ngrams = pd.Series(ngrams)\n",
    "ngrams.value_counts().head(20)"
   ]
  },
  {
   "cell_type": "code",
   "execution_count": null,
   "metadata": {
    "id": "Wt5Pu6EQkeK1"
   },
   "outputs": [],
   "source": [
    "# from nltk.tokenize import word_tokenize\n",
    "# from nltk.corpus import stopwords\n",
    "from nltk import ngrams\n",
    "import pandas as pd"
   ]
  },
  {
   "cell_type": "code",
   "execution_count": null,
   "metadata": {
    "colab": {
     "base_uri": "https://localhost:8080/"
    },
    "executionInfo": {
     "elapsed": 4534,
     "status": "ok",
     "timestamp": 1615444095062,
     "user": {
      "displayName": "Milca Elizabeth Valdez Flores",
      "photoUrl": "",
      "userId": "18058005903088779090"
     },
     "user_tz": 300
    },
    "id": "4YbmINwB730L",
    "outputId": "a53cc0c4-3401-4b5e-f65a-5121163ec8fd"
   },
   "outputs": [
    {
     "data": {
      "text/plain": [
       "(definitely, come, back)          233\n",
       "(wait, go, back)                  211\n",
       "(definitely, go, back)            189\n",
       "(would, go, back)                 185\n",
       "(would, come, back)               161\n",
       "(sweet, potato, fries)            141\n",
       "(would, definitely, recommend)    140\n",
       "(definitely, coming, back)        139\n",
       "(highly, recommend, place)        135\n",
       "(would, definitely, come)         116\n",
       "(food, pretty, good)              116\n",
       "(staff, super, friendly)          114\n",
       "(would, highly, recommend)        113\n",
       "(go, back, try)                   112\n",
       "(mac, n, cheese)                  112\n",
       "(come, back, try)                 111\n",
       "(food, really, good)              103\n",
       "(definitely, going, back)          97\n",
       "(never, go, back)                  96\n",
       "(would, definitely, go)            95\n",
       "dtype: int64"
      ]
     },
     "execution_count": 140,
     "metadata": {
      "tags": []
     },
     "output_type": "execute_result"
    }
   ],
   "source": [
    "df_i = df_cleaned[(df_cleaned[\"service_score\"]>0.16) & (df_cleaned[\"service_score\"]<=0.19)][\"texto\"]\n",
    "n = 3\n",
    "ngrams = ngrams(\" \".join(df_i).split(), n)\n",
    "ngrams = pd.Series(ngrams)\n",
    "ngrams.value_counts().head(20)"
   ]
  },
  {
   "cell_type": "code",
   "execution_count": null,
   "metadata": {
    "id": "zNGkaC8A9Qw2"
   },
   "outputs": [],
   "source": []
  },
  {
   "cell_type": "code",
   "execution_count": null,
   "metadata": {
    "colab": {
     "base_uri": "https://localhost:8080/"
    },
    "executionInfo": {
     "elapsed": 759,
     "status": "ok",
     "timestamp": 1615431838211,
     "user": {
      "displayName": "Robert Denilson Moreno Carrillo",
      "photoUrl": "https://lh3.googleusercontent.com/a-/AOh14Gh_NNO6BQE7t-VQ_S1KgEL5kb5JfpWvhBVvEcZS=s64",
      "userId": "16720048605800441930"
     },
     "user_tz": 300
    },
    "id": "McWRSSAtLOLK",
    "outputId": "6e6261a1-8f5a-4b40-9b18-7cddea0846ba"
   },
   "outputs": [
    {
     "name": "stdout",
     "output_type": "stream",
     "text": [
      "place little hole wall never busy food great drive 1 hour eat\n",
      "\n",
      "\n",
      "\n",
      "4 stars short rib nachos \n",
      "i frequent visitor caesars palace every quarter year restaurant expensive option general food service fine recommend unless tired lazy seek options\n",
      "\n",
      "\n",
      "\n",
      "place absolutely amazing  ridiculously cheap incredibly delicious well boyfriend went day lunch ordered combo platter side babaganoush 12 total extremely satisfied came home huge takeout box munching weekend place gem definitely check cant wait go back week mmmmmmm  soooo tasty\n",
      "\n",
      "\n",
      "\n",
      "perfect combination funny magic good whole family recommend\n",
      "\n",
      "\n",
      "\n",
      "wish could contribute something significant said black dog best period pulled chicken sandwich extra georgia peach  sweet potato fries  need life love vinegar based slaw maybe consider 3rd location chicago\n",
      "\n",
      "\n",
      "\n",
      "love jersey mikes matter location go get excellent prompt customer service subs die always fresh cut meats right spot customer service amazing really hire delightful people remain loyal customer life\n",
      "\n",
      "\n",
      "\n",
      "like outback one close  last time found shard sharp plastic glass parfait cup  manger concerned nice situation  took care took care next visit  usually steak service good go back\n",
      "\n",
      "\n",
      "\n",
      "great place really enjoyed menu service great really promote delivery etc miles way said far away heads\n",
      "\n",
      "\n",
      "\n",
      "tasty dog bit pricey others mentioned nathan cities guess comparable taste price  although maybe mind cost cities b c usually airport fully expect rip come downtown pittsburgh  4 00 hot dog toppings   \n",
      "\n",
      "all ok experience may may go  really strong feelings  guess depend feel like splurging h dog \n",
      "\n",
      "if area abundance   mind spending encased meat stop\n",
      "\n",
      "\n",
      "\n",
      "came tuesday night seemed like good night become 5 burgers normally 11 12 5pm close  nice thing gourmet burgers well bourbon burger burger topped bacon onion strings cheddar cheese comes side fries tots slamming deal tuesdays came 9 still pretty packed imagine would much busier right around dinner time \n",
      "\n",
      "only miss long burger took came party 6 get food around 40m said beat gourmet burger bacon onion strings 5 6  definitely would drop tuesday\n",
      "\n",
      "\n",
      "\n",
      "waitress nice drink specials good eat \n",
      "\n",
      "came late breakfast early lunch ordered simple chicken wrap rest table  came correct came sandwiches sent mine back came back wrong sauce wrong ingredients sent back   going hour later  friend decided instead waiting wrap would get hummus waited another half hour must growing chic peas crushing make hummus hummus finally came wrap follow sauce point asked server sauce side brought sauce different person next ordered exact sauce know still day whose wrap correct \n",
      "anyway incorrect 3 times compensation everyone table done eating longer hungry \n",
      "\n",
      "what waste time went urban tap \n",
      "\n",
      "would go back unless drinks\n",
      "\n",
      "\n",
      "\n",
      "hot damn finally moved north came lunch opening day great sonoran dogs tucson locations one little bigger ones tucson easy access right 10 \n",
      "\n",
      "about negative think digital display orders ready like oracle location loudspeaker hard hear echos throughout building pay close attention waiting order \n",
      "\n",
      "i gonna get fat real quick\n",
      "\n",
      "\n",
      "\n",
      "kindest staff store ever always laughing fun pushing wine samples dog treats charge bags best five stars staff \n",
      "\n",
      "four stars sweet location anything attached honest ed gets automatic street cred even bit blah corner otherwise \n",
      "\n",
      "two stars selection know canadian grapes never enjoyed wine would never ever gift someone wine \n",
      "\n",
      "pepper points staying open late sometimes girl needs bottle wine 10 55pm\n",
      "\n",
      "\n",
      "\n",
      "worst service oakland ordered burrito bowl steak received maybe half scoop 6 7 cubes steak politely asked little  considering supposed 8 worth  told would pay double meat receive anymore short line unlike packed usually commented accommodations  throw couple cubes steak top made receive reasonable amount protein given attitude eye rolling went pay stood around cashier awhile refused hand food slide across counter indicate mine friend also tried ask chicken received little amount since ordered salad poor customer service small amounts food\n",
      "\n",
      "\n",
      "\n",
      "cute little cafe good breakfast lunch generous portions loved home fries gyro staff friendly\n",
      "\n",
      "\n",
      "\n",
      "used really like place consistency food quality gone hill recently last two visits ordered asada burrtio go got home literally dripping grease gross\n",
      "\n",
      "\n",
      "\n",
      "airports super loud especially want curl read wait flight call also seating airports kidding forget comfort say hello numb unhappy butt \n",
      "\n",
      "next time go san francisco remembering place shower oh man would make feel much better \n",
      "\n",
      "free flowing booze may interest non drinker wish options water based beverages love making pile bread rounds drowning olive oil balsamic vinegar yum yum \n",
      "\n",
      "i also learned magazines free taking revolutionizing travel reading budget \n",
      "\n",
      "i would also ban crying infants special soundproof room\n",
      "\n",
      "\n",
      "\n",
      "hooked place especially marinated pork burritos gets little crowded know coming mind waiting carne asada street tacos authentic best prices low fill 6 recommended\n",
      "\n",
      "\n",
      "\n",
      "great little spot tell mom 2 slices pie early dinner day lol peach apple pie delicious overly sweetened old fashioned style come\n",
      "\n",
      "\n",
      "\n",
      "good food relaxed atmosphere pricey cheap relaxed atmosphere parking tight weekends best take cab\n",
      "\n",
      "\n",
      "\n",
      "saturday night looking forward supper husband listening live piano  server nice absent  like wait forever everything  menu selection k  went chicken cesar salad  chicken overcooked dry hard swallow  husband portabello meal yummy tried   time finished ready leave  piano player best part evening\n",
      "\n",
      "\n",
      "\n",
      "easy get house reason everyone loves   get average best flavors kinda boring however doughnut place near home free wifi sit nice lobby work enjoying nice treat 2 stars doughnuts 1 lobby\n",
      "\n",
      "\n",
      "\n",
      "food bad go wrong wings service hand best always seemed understaffed never met place 3 hostesses  meanwhile server running around crazy person bar personally bring us drinks \n",
      "great place hang friday night want check cogburns first choice probably go back\n",
      "\n",
      "\n",
      "\n",
      "valentines day dinner   cozy warm sat bar drinks dinner dewars apparently casualty eating wine bar \n",
      "\n",
      "we antipasto plate bar wonderful   best part port wine cheddar  much look creamy  wife shared grilled salad pizza dinner  super  definately back\n",
      "\n",
      "\n",
      "\n",
      "place hangover go come multiple times pick shrimp wonton rice noodles soup shrimp wonton dumplings soup \n",
      "\n",
      "we always get side veggies feel healthy  \n",
      "\n",
      "super affordable yummy\n",
      "\n",
      "\n",
      "\n",
      "went back initial visit much better experience service super fast tasted amazing\n",
      "\n",
      "\n",
      "\n",
      "usually get coffee starbucks decided try since got new one everyone raved customer service awesome girls cheery etc got frozen drink watered flavor try sometime mood\n",
      "\n",
      "\n",
      "\n",
      "warning expensive \n",
      "worth yah \n",
      "that pineapple one top 10 things want eat rest life think fruit could delicious \n",
      "worth going definetely afford go regularly weekday expect pay  50 tax tip\n",
      "\n",
      "\n",
      "\n",
      "eaten many times since chagrin location opened food service always good recently ended happy hour made bargain well always one go spots\n",
      "\n",
      "\n",
      "\n",
      "horrible customer service customer service dry heck one said hello walked dry stone looks faces placed order town think much girl walked in places us sudden customer service perked also gave 10 due first time \n",
      "\n",
      "hold hell happiness placed order pure discrimination called course denied bs \n",
      "\n",
      "after losing appetite asked us money back could take business elsewhere manager said return policy make food take bad business buddy kindly asked corporate number make complaint number said make complaint \n",
      "\n",
      "we asked one thing treated fairly first time request 10 like customer us  \n",
      "\n",
      "all food sh ty\n",
      "\n",
      "\n",
      "\n",
      "sure restaurant first laid back open trying food  moment chips dip serviced mesmerized  group ordered crab dip pita chips    aaaawwwww die wanted pack dish take home  waitress knowledgeable menu advised us properly based upon taste  place wooed definitely return whenver charlotte\n",
      "\n",
      "\n",
      "\n",
      "cool places eat shop look around every place went great service best thing close hotel walked 200 yards away endless good times\n",
      "\n",
      "\n",
      "\n",
      "checked local beautiful sunday evening primary reason going b c patio  \n",
      "\n",
      "i really surprised see crowded open tables upstairs friends ended standing big deal b c sitting previously  \n",
      "\n",
      "we eat food drinks good  crowd seemed bit young perhaps end school year college students trying enjoy summers   \n",
      "\n",
      "while great outside sure crowd suited\n",
      "\n",
      "\n",
      "\n",
      "amazing iced americano first place americano brew tastes bright acidic  \n",
      "\n",
      "great location  would come back try espresso drinks \n",
      "\n",
      "also love patio back front afternoon libations \n",
      "\n",
      "if like caffeine bit hipster vibe check place\n",
      "\n",
      "\n",
      "\n",
      "like sale nigiri sushi salmon rolls ok rice sometimes bit dry buy almost closing time service ok overall ok place want eat sushi mall\n",
      "\n",
      "\n",
      "\n",
      "really liked food plenty started bruschetta pet peeve mine servers pronounce word incorrectly ch pronounced like hard k  server nailed  osso buco fantastic homemade pasta came sauce nice bit heat barry pasta carabonara torn bolognese waiter said want surprise  barry said yes \n",
      "\n",
      "we took half home managed finish splitting cannoli made fresh ricotta really excellent\n",
      "\n",
      "\n",
      "\n",
      "seriously amazing coffee great atmosphere plus super fast wifi work getting work done\n",
      "\n",
      "\n",
      "\n",
      "good pizza delivered fast still hot definitely order\n",
      "\n",
      "\n",
      "\n",
      "ability rate yelp forces star 1  large group family made reservations dinner next week several months ago eagerly anticipating evening together great new cleveland venue received shocking call telling us decided take reservations honor already made said would first come first served  ridiculous group size friday night us worked hospitality past therefore pretty forgiving generous however terrible customer service fortunately able get reservations longtime favorite party bad service hope place gets together  spite perfect location insult clevelanders long hope survive\n",
      "\n",
      "\n",
      "\n",
      "cooked salted fries hard find even canes danielle greated took order personable \n",
      "\n",
      "she also took time clean tables chairs one line brought food \n",
      "\n",
      "bathroom clean funny christmas elf stickers mirror\n",
      "\n",
      "\n",
      "\n",
      "service prompt food tasty first time ever eating indian food say knew expect certainly eat opportunity presents \n",
      "\n",
      "i went july 2013 amex accepted time perhaps things changed\n",
      "\n",
      "\n",
      "\n",
      "wawel patisserie little polish bakery founded back 84 peter sowa  several locations throughout city able check one located inside jean talon market  heard famous prune filled doughnuts ordered one  since market opening employee get oil running hot lay breads pastries counter  actually waited 25 30 minutes wi fi market kept busy  doughnut received pretty excited  oh fresh slight crisp exterior lovely little glaze filled inside mashed prunes  interesting doughnut nice little treat start morning  gentleman super friendly sweet  pub tables front patisserie enjoy walk around market \n",
      "\n",
      " prune filled doughnut  fresh \n",
      " friendly staff d\n",
      " located inside jean talon market\n",
      "\n",
      "\n",
      "\n",
      "think good sandwich  pittsburgh think primanti brothers \n",
      "\n",
      "we made trek oakland time  time  never disappointed various sandwiches fries  slaw still try visit whenever back burgh 25 years initially discovering place says something \n",
      "\n",
      "though clearly everyone healthy balance fawning  personal disdain   later believe overblown particular location based ratings far\n",
      "\n",
      "\n",
      "\n",
      "terrible dining experience akira back \n",
      "\n",
      "visited location small group 7 people  reservation late  problem went bar downstairs wait table waited 45 minutes finally sat rushed meal explanation kitchen closing 4 minutes server efficient knowledgeable service rushed beverages came four plates put table issue reservation ready time pressure order without perusing menu existed \n",
      "\n",
      "i say food beautiful fan every dish everything came table beautifully plated came quickly \n",
      "\n",
      "i would try spot perhaps wait time iron service hiccups\n",
      "\n",
      "\n",
      "\n",
      "review arena \n",
      "i went see george strait martina mcbride great concert great seats matter sit stage square treat see performers move around corner corner give audiences sides fair share screens huge great sitting far away \n",
      "\n",
      "one thing boyfriend found funny went go get food offer much ended ordering hot dogs ordering saw lady come giant bag popcorn opened bag dumped already popped popcorn popcorn machine joked entire evening hungry ended buying popcorn anyway expected tasted like came cardboard box stale overly salted  hard pop fresh popcorn\n",
      "\n",
      "\n",
      "\n",
      "first impression place business long time  customer walked corrado knew usual order confirmed without customer needing say word  food yum  yes  worthwhile trying  absolutely\n",
      "\n",
      "\n",
      "\n",
      "live complex right outside dunkin great love dunkin coffee customer service awful could wait window 3 minutes anyone even acknowledge existence dilly dally makes stop dunkin much longer line always extremely long mornings rarely stop work unless want give lot extra time girl jessica blonde hair works always super sweet friendly makes going worth\n",
      "\n",
      "\n",
      "\n",
      "peach green tea good  since moved vegas three year journey find good boba spot go  finally found brew tea bar  service excellent even ask make need adjustments drink  tried matcha milk tea peach green tea lychee peach green tea  exceptional tell tea lover use good quality tea  thumbs  place comparable california boba tea spots\n",
      "\n",
      "\n",
      "\n",
      "every saturday weather permitting food truck caravan gathers 10 trucks event starts 6 30pm goes 9 plenty tables available usually enough seating know reserve table 100 sure go usually means anywhere 3  6 tables empty reservations thus even less seating folks sit curbs take food go frustrating part entire experience attending recommend going early get table lurk fight seating gets later night \n",
      "\n",
      "overall great way experience new foods trucks conveniently located plenty parking nearby highly recommend checking\n",
      "\n",
      "\n",
      "\n",
      "new wing place near house bought wings fries wings although little small good fries really good also definitely back take care wing cravings\n",
      "\n",
      "\n",
      "\n",
      "atmosphere great  tere friendly key lime margarita amazing shrimp enchiladas campeche full shrimp overflowed plate back try something else\n",
      "\n",
      "\n",
      "\n",
      "burger name level of\n",
      "top burger places pgh  place  tiny 6 oz burgers cannot cooked properly  flavor lacking well\n",
      "\n",
      "\n",
      "\n",
      "late night concert  hungry wondering go drinks food \n",
      "we day drinking amazing   never late night \n",
      "well pleased served mark course best burgers town  \n",
      "we back soon\n",
      "\n",
      "\n",
      "\n",
      "one young gal running register taking phone orders serving people counter waiting tables ideal situation lunch hour food good  service painfully slow probably come back\n",
      "\n",
      "\n",
      "\n",
      "stopped lunch saturday 11 30 open server prompt greeting us 1 2 hour bread came table ready seriously know customers arrive opening food fair sparse best item green beans doubt return\n",
      "\n",
      "\n",
      "\n",
      "friends came guys night  favorite place whole night  classy inside attractive scottsdale people ready mingle  great place cater sorts people  bar first walk nice great area hang  also oversized games downstairs use seemed fun singles meet others  upstairs awesome outside deck overlooking old town  also upstairs nightclub area go seemed crowded \n",
      "\n",
      "the atmosphere nice drinks pricey large strong\n",
      "\n",
      "\n",
      "\n",
      "great experience al mikes loved location tucked away beautiful 4th ward neighborhood restaurant quaint lovely bartender paul nice helpful ordered stroganoff awesome best meal definitely back soon\n",
      "\n",
      "\n",
      "\n",
      "girl go outback quite bit  ambiance greatest always manage decent steak dinner w  drinks without breaking bank\n",
      "\n",
      "\n",
      "\n",
      "like spicy recommend try skillet simmered jerk shrimp \n",
      "it cooked served hot skillet smothered butter herbs nice spiciness spicy also served fresh baked cuban bread great sop juices entree ordered baby back ribs decent came fries definitely come back jerk shrimp\n",
      "\n",
      "\n",
      "\n",
      "big portions ono food  roast pork tender  chicken wings ok  always gotta support locals mainland definitely go try em support 808  nothing better local grinds\n",
      "\n",
      "\n",
      "\n",
      "moe always good except pop machines work always like switched dark meat chicken instead white meat sorta sucks\n",
      "\n",
      "\n",
      "\n",
      "love place great friendly staff banh mi sandwich found place save trip go going asian corner gabi korean fries good\n",
      "\n",
      "\n",
      "\n",
      "staff always friendly remember even though away  broth tastes great even without adding extra sauces\n",
      "\n",
      "\n",
      "\n",
      "worst tasting pizza ever bland   ranch runny wondering either let sit added water cut cost place smelled like sewer bugs everywhere\n",
      "\n",
      "\n",
      "\n",
      "always try write honest reviews pretend know much cigar lounges except seen movies said place exactly feel cigar lounge \n",
      "the atmosphere wonderfully set dim lighting smell cigar smoke air plush luxurious leather chairs along wonderful wall decor really pulled everything together  even though environment felt like place reserved men audience pleasantly diverse couples including wife and couple girls also got nice surprise 9pm live jazz band stayed well night \n",
      "we definitely back\n",
      "\n",
      "\n",
      "\n",
      "see hype meat seasoned drink taste like juice atmosphere boring get umph\n",
      "\n",
      "\n",
      "\n",
      "excellent carne asada fresh salsa bar  green salsa best great location  right movie theatre owner nice back\n",
      "\n",
      "\n",
      "\n",
      "place terrible whole place run  everything smelled like smoke  even walk main hallways without inhaling smoke customer roaming halls lit cigarettes  c running night swear cigarette smoke coming non smoking room \n",
      "\n",
      "i never hotel offer least coffee pot microwave  mini fridge either \n",
      "\n",
      "internet additional charge 13 99 24 hours per device high speed \n",
      "\n",
      "not even free continental breakfast  coffee restaurants like tea made go priced bakery get 16 oz espresso drink nearly 6 \n",
      "\n",
      "the business center closed 5pm\n",
      "\n",
      "\n",
      "\n",
      "sweet really nice people \n",
      "\n",
      "i particularly like vegetarian samosas 4 3 big bargain great deal considering find supermarche pa prices like 3 3 39\n",
      "\n",
      "\n",
      "\n",
      "absolutely amazing food even better selection tequila  ambiance clientele change markedly happy hour evening makes even experience  wife love place even make point take town guests whenever possible\n",
      "\n",
      "\n",
      "\n",
      "native new yorker okay wing place \n",
      "\n",
      "meaning wings okay ever go wrong well done wings anyway\n",
      "\n",
      "servers attractive like hooters anything similar \n",
      "\n",
      "just another food  bar franchise guess call big deal personally like hooters better\n",
      "\n",
      "\n",
      "\n",
      "went spot order takeout  ordered enchilada taco combo beef along items family  taco normally crispy shell thrown enchilada sauce  person bringing us order check ensure order accuracy  upset taco soggy gross went enchilada chicken instead beef  two strikes one menu item  family got chimichangas alright also sitting thick puddle water  \n",
      "\n",
      "their go boxes would recieve elementary school lunch styrofoam segments  beans thrown one segment rice another allowing cross contamination  pretty sure beans separate container least \n",
      "\n",
      "bottom line order takeout  take time ensure order accuracy equipped proper boxes handle takeout begin\n",
      "\n",
      "\n",
      "\n",
      "read la distillerie going montreal wanted try sister lives actually knew spot happens la distillerie n 2\n",
      "they nice cocktail list talented bartender also made us couple drinks ingredients requested happy \n",
      "of course everybody loves mason jars think large format ones take bit long drink end watered melted ice cubes really worth \n",
      "even though appreciated eclectic music selection went saturday place super loud maybe less appealing get older maybe like places bit quieter get enjoy well crafted cocktails bother say go get drink\n",
      "\n",
      "\n",
      "\n",
      "echo sentiments cafe alone makes want move neighbourhood  tucked away riverdale place nice break many coffee shops toronto seem cut cloth  crowd diverse families 30 somethings laptops teenagers thrown mix  music awesome light enough function background music  \n",
      "\n",
      "this place really nice relaxed vibe reminiscent smaller city  highly recommend ever area\n",
      "\n",
      "\n",
      "\n",
      "love place happened go last week coz fanny chadwicks closed due flooding im glad chicken waffles sauce die joes fries omg mouth watering thinking chicken waffles generous portion price ended taking home good share friend service awesome loved everything place wait try rest menu\n",
      "\n",
      "\n",
      "\n",
      "2nd time gone mcdonalds service terrible young girl front counter rude visits drive told asked 3 times strawberry drink fountain machine asked go drive walk inside get strawberry drink fountain drink machine rating 3 food always good\n",
      "\n",
      "\n",
      "\n",
      "bakery phx made gorgeous cake us moist delicious frosting sweet  actually best ever priced reasonably product exceptional found little gem midtown phoenix\n",
      "\n",
      "\n",
      "\n",
      "five guys one delicious burger usa  tried philadelphia like used eat twice week tempe like service sometimes clean table work slowly\n",
      "\n",
      "\n",
      "\n",
      "blackened prime rib benny bomb   instead hollandaise sauce subsititue white country gravy pertains huge prices good amount size portioned meal  well worth\n",
      "\n",
      "\n",
      "\n",
      "service outstanding well taking care drinks great ran unexpectacted relations great time\n",
      "\n",
      "\n",
      "\n",
      "service location horrendous \n",
      "\n",
      "do come eat wings unless enjoy waiting 30 40 minutes round  fact third round astounding 4 wings served ice cream bowl  \n",
      "\n",
      "our server friendly barely attentive flag order anything including refills odd time asked ready order would reply okay one second proceed manage tables even ask us  \n",
      "\n",
      "this one rare times bother asking water would distract server delivering food hindsight sipping water may made wait less bothersome \n",
      "\n",
      "even though place quite busy apologizing extensive wait times go long way prevent reviews like definitely give place another shot  stick downtown location\n",
      "\n",
      "\n",
      "\n",
      "enjoyed ambiance location price food expected quality unfortunately felt dish needed salt find dish would come back\n",
      "\n",
      "\n",
      "\n",
      "5 lunch special hard beat tend get cheese enchilada plate eat chips salsa bar set 6 always daily specials tacos tostadas staff know take care quickly lunch rushes cause delay open many restaurants area closed\n",
      "\n",
      "\n",
      "\n",
      "went lady friend whim greatly impressed  shepherd pie burger perfection around  fries star show  beer menu nice collection 8 amber good name slipped mind lol totally excited go back try sunday brunch\n",
      "\n",
      "\n",
      "\n",
      "first time today got sunset beach slush lychee jelly staff duty friendly welcoming nice girl register helped understanding menu really far mind making another trip totally worth\n",
      "\n",
      "\n",
      "\n",
      "great tasting cakes awful customer service purchased cakes number times past three times come home wrong flavor cake shame checking first mistake however contact via contact us link website never heard back choices town  pend hard earned   get order value customer place\n",
      "\n",
      "\n",
      "\n",
      "sadly purchased groupon restaurant tried make reservation using number provided able get answer party arrived saturday night hostess station put name list greeted extremely rude host informed list best chance table would know next sunday  literally looked nose  sidenote restaurant closed sunday tuesday  stayed casitas resort many times eaten litchfield found ok hotel restaurant really anything special going give another try always looking good options close home decided going forfeit groupon risk spending extra dollar litchfield many great options phoenix waste time place rude service\n",
      "\n",
      "\n",
      "\n",
      "awesome cake donuts first time fclare soooo good \n",
      "\n",
      "took apple pie go smells amazing\n",
      "\n",
      "\n",
      "\n",
      "first time went lunch fried rice pineapple shrimp tasty service quick wait come back try different entre\n",
      "\n",
      "\n",
      "\n",
      "hit miss depending order \n",
      "\n",
      "the steamed beef shrimp noodles great skin perfect shu mai har gow best step frozen dimsum find market \n",
      "\n",
      " 1 friendly waiters friendly waiters\n",
      "\n",
      "\n",
      "\n",
      "heard hype chain decided give shot ordered corn beef hash eggs sausage great coffee homemade sausage patties great corn beef horrible hash browns cooked toast dry price would recommend black bear\n",
      "\n",
      "\n",
      "\n",
      "awesome wait staff super attentive sushi comes quickly quality superb definitely returning soon\n",
      "\n",
      "\n",
      "\n",
      "finished birthday dinner  boyfriend ordered ny combo pizza  ordered pasta dish w chopped clams shrimp linguini  delicious   definitely back restaurant also well lit could actually see menu read w use lights phones  service great  prompt  wait get work tomorrow brag  100 recommendation\n",
      "\n",
      "\n",
      "\n",
      "probably minority get  maybe palate used haute cuisine  yes completely waited hand foot food good inventive  justify 900  meal mind blowing  would rather spent 900 bartolotta every bite take makes want kiss chef  could bought 2 pairs jimmy choo manolo\n",
      "\n",
      "\n",
      "\n",
      "14 burrito mediocre best ripoff yes make tortillas front asi asi burrito nothing special would make pay much late hungry decided least give try open mind guess included open wallet \n",
      "\n",
      "unless pink taco connoisseur save money go mr lucky better subway across street hunger attack happens strike\n",
      "\n",
      "\n",
      "\n",
      "say one first times enjoyed next walkway waitress rachael amazing food awesome\n",
      "\n",
      "\n",
      "\n",
      "best 10 lunch found south scottsdale columbian wunderhund would suggest intend try rest braut cooked perfectly buns steam puffed soggy toppings new combinations love way work together\n",
      "\n",
      "\n",
      "\n",
      "love place food fun cocktails happening kind place beautiful people\n",
      "\n",
      "\n",
      "\n",
      "live bull riding folks         \n",
      "\n",
      "wednesday nights armature nights though could fooled \n",
      "\n",
      "the hubs headed friends son apprenticing rodeo clown knew possible \n",
      "\n",
      "we total blast bulls feisty \n",
      "\n",
      "we make inside could hear live band jamming hit bbq buffet pretty dang tasty 10 get pound meat 2 sides biscuit hubs split plate let get several different kinds meat whatever adds pound \n",
      "\n",
      "we going back real soon\n",
      "\n",
      "\n",
      "\n",
      "fondly recall dinner years ago recently recall lot drinks last months \n",
      "\n",
      "heart yorkville great service great drinks beautiful decor  place seen certainly also place terrific set work xmas party drinks\n",
      "\n",
      "\n",
      "\n"
     ]
    }
   ],
   "source": [
    "for t in df_cleaned[df_cleaned[\"food_score\"]<=0.15].sort_values(\"food_score\", ascending=False)[\"texto\"].head(100).to_numpy():\n",
    "  print(t)\n",
    "  print(\"\\n\"*2)"
   ]
  },
  {
   "cell_type": "code",
   "execution_count": null,
   "metadata": {
    "id": "D2J2wmFB3Yye"
   },
   "outputs": [],
   "source": []
  },
  {
   "cell_type": "markdown",
   "metadata": {},
   "source": [
    " ### Creación de datasets de entrenamiento y testing"
   ]
  },
  {
   "cell_type": "code",
   "execution_count": null,
   "metadata": {},
   "outputs": [],
   "source": [
    "df_cleaned[\"food_label\"] = df_cleaned.food_score <= 0.13\n",
    "df_cleaned[\"service_label\"] = df_cleaned.service_score <= 0.19\n",
    "\n",
    "df_cleaned = df_cleaned[[\"texto\",\"food_label\",\"service_label\"]]\n",
    "# Split into train and test - stratify over Issue\n",
    "data_training, data_testing = train_test_split(df_cleaned, test_size = 0.2,random_state=41, stratify = df_cleaned[['service_label']])\n",
    "\n",
    "# Guardando datasets de entrenamiento y testing\n",
    "data_training.to_csv(consumo_dir + \"data_training.csv\", index=False)\n",
    "data_testing.to_csv(consumo_dir + \"data_testing.csv\", index=False)"
   ]
  }
 ],
 "metadata": {
  "colab": {
   "collapsed_sections": [],
   "name": "Categories.ipynb",
   "provenance": []
  },
  "kernelspec": {
   "display_name": "Python 3",
   "language": "python",
   "name": "python3"
  },
  "language_info": {
   "codemirror_mode": {
    "name": "ipython",
    "version": 3
   },
   "file_extension": ".py",
   "mimetype": "text/x-python",
   "name": "python",
   "nbconvert_exporter": "python",
   "pygments_lexer": "ipython3",
   "version": "3.7.6"
  }
 },
 "nbformat": 4,
 "nbformat_minor": 1
}
