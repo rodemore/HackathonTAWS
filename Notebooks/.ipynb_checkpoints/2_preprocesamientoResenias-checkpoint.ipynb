{
 "cells": [
  {
   "cell_type": "code",
   "execution_count": null,
   "metadata": {
    "id": "unTUwijFyYDh"
   },
   "outputs": [],
   "source": [
    "import pandas as pd\n",
    "import matplotlib.pyplot as plt\n",
    "import seaborn as sns"
   ]
  },
  {
   "cell_type": "code",
   "execution_count": null,
   "metadata": {
    "colab": {
     "base_uri": "https://localhost:8080/"
    },
    "executionInfo": {
     "elapsed": 24020,
     "status": "ok",
     "timestamp": 1615324867625,
     "user": {
      "displayName": "Milca Elizabeth Valdez Flores",
      "photoUrl": "",
      "userId": "18058005903088779090"
     },
     "user_tz": 300
    },
    "id": "jVOInuiuyb7L",
    "outputId": "e6a4801a-5887-4da0-85e0-bd6648eed076"
   },
   "outputs": [
    {
     "name": "stdout",
     "output_type": "stream",
     "text": [
      "Mounted at /content/drive\n"
     ]
    }
   ],
   "source": [
    "from google.colab import drive\n",
    "drive.mount('/content/drive')"
   ]
  },
  {
   "cell_type": "code",
   "execution_count": null,
   "metadata": {
    "id": "ySdZ0DXZzPoP"
   },
   "outputs": [],
   "source": [
    "consumo_dir = '/content/drive/MyDrive/0AccTeam/datasets_consumo/'"
   ]
  },
  {
   "cell_type": "code",
   "execution_count": null,
   "metadata": {
    "id": "EYRVNxSCzQae"
   },
   "outputs": [],
   "source": [
    "resenia = pd.read_csv(consumo_dir + \"reseña_consumo.csv\")"
   ]
  },
  {
   "cell_type": "code",
   "execution_count": null,
   "metadata": {
    "colab": {
     "base_uri": "https://localhost:8080/",
     "height": 174
    },
    "executionInfo": {
     "elapsed": 42720,
     "status": "ok",
     "timestamp": 1615324960301,
     "user": {
      "displayName": "Milca Elizabeth Valdez Flores",
      "photoUrl": "",
      "userId": "18058005903088779090"
     },
     "user_tz": 300
    },
    "id": "XR9Hj8lTzfeo",
    "outputId": "f58cab11-fb4f-452f-83c9-90d7d4803843"
   },
   "outputs": [
    {
     "data": {
      "text/html": [
       "<div>\n",
       "<style scoped>\n",
       "    .dataframe tbody tr th:only-of-type {\n",
       "        vertical-align: middle;\n",
       "    }\n",
       "\n",
       "    .dataframe tbody tr th {\n",
       "        vertical-align: top;\n",
       "    }\n",
       "\n",
       "    .dataframe thead th {\n",
       "        text-align: right;\n",
       "    }\n",
       "</style>\n",
       "<table border=\"1\" class=\"dataframe\">\n",
       "  <thead>\n",
       "    <tr style=\"text-align: right;\">\n",
       "      <th></th>\n",
       "      <th>reseña_id</th>\n",
       "      <th>usuario_id</th>\n",
       "      <th>negocio_id</th>\n",
       "      <th>estrellas</th>\n",
       "      <th>util</th>\n",
       "      <th>gracioso</th>\n",
       "      <th>genial</th>\n",
       "      <th>texto</th>\n",
       "      <th>fecha</th>\n",
       "    </tr>\n",
       "  </thead>\n",
       "  <tbody>\n",
       "    <tr>\n",
       "      <th>0</th>\n",
       "      <td>LG2ZaYiOgpr2DK_90pYjNw</td>\n",
       "      <td>V34qejxNsCbcgD8C0HVk-Q</td>\n",
       "      <td>HQl28KMwrEKHqhFrrDqVNQ</td>\n",
       "      <td>5.0</td>\n",
       "      <td>1.0</td>\n",
       "      <td>0.0</td>\n",
       "      <td>0.0</td>\n",
       "      <td>I love Deagan's. I do. I really do. The atmosp...</td>\n",
       "      <td>2015-12-05 03:18:11</td>\n",
       "    </tr>\n",
       "    <tr>\n",
       "      <th>1</th>\n",
       "      <td>L2O_INwlrRuoX05KSjc4eg</td>\n",
       "      <td>5vD2kmE25YBrbayKhykNxQ</td>\n",
       "      <td>nlxHRv1zXGT0c0K51q3jDg</td>\n",
       "      <td>5.0</td>\n",
       "      <td>2.0</td>\n",
       "      <td>0.0</td>\n",
       "      <td>0.0</td>\n",
       "      <td>This is definitely my favorite fast food sub s...</td>\n",
       "      <td>2013-05-07 07:25:25</td>\n",
       "    </tr>\n",
       "  </tbody>\n",
       "</table>\n",
       "</div>"
      ],
      "text/plain": [
       "                reseña_id  ...                fecha\n",
       "0  LG2ZaYiOgpr2DK_90pYjNw  ...  2015-12-05 03:18:11\n",
       "1  L2O_INwlrRuoX05KSjc4eg  ...  2013-05-07 07:25:25\n",
       "\n",
       "[2 rows x 9 columns]"
      ]
     },
     "execution_count": 7,
     "metadata": {
      "tags": []
     },
     "output_type": "execute_result"
    }
   ],
   "source": [
    "resenia.head(2)"
   ]
  },
  {
   "cell_type": "code",
   "execution_count": null,
   "metadata": {
    "colab": {
     "base_uri": "https://localhost:8080/",
     "height": 299
    },
    "executionInfo": {
     "elapsed": 41770,
     "status": "ok",
     "timestamp": 1615324960585,
     "user": {
      "displayName": "Milca Elizabeth Valdez Flores",
      "photoUrl": "",
      "userId": "18058005903088779090"
     },
     "user_tz": 300
    },
    "id": "JQOBsho6zrtV",
    "outputId": "9598b088-8103-4688-c271-c0c0f8a37fb3"
   },
   "outputs": [
    {
     "data": {
      "text/plain": [
       "<matplotlib.axes._subplots.AxesSubplot at 0x7fd3203718d0>"
      ]
     },
     "execution_count": 8,
     "metadata": {
      "tags": []
     },
     "output_type": "execute_result"
    },
    {
     "data": {
      "image/png": "[encoded data removed]",
      "text/plain": [
       "<Figure size 432x288 with 1 Axes>"
      ]
     },
     "metadata": {
      "needs_background": "light",
      "tags": []
     },
     "output_type": "display_data"
    }
   ],
   "source": [
    "resenia.estrellas.value_counts().plot(kind=\"bar\")"
   ]
  },
  {
   "cell_type": "code",
   "execution_count": null,
   "metadata": {
    "colab": {
     "base_uri": "https://localhost:8080/"
    },
    "executionInfo": {
     "elapsed": 40768,
     "status": "ok",
     "timestamp": 1615324960587,
     "user": {
      "displayName": "Milca Elizabeth Valdez Flores",
      "photoUrl": "",
      "userId": "18058005903088779090"
     },
     "user_tz": 300
    },
    "id": "6jG-R5VL2DX4",
    "outputId": "86e05bfc-2ed4-44ab-dc64-0a02a0ab5a46"
   },
   "outputs": [
    {
     "data": {
      "text/plain": [
       "Index(['reseña_id', 'usuario_id', 'negocio_id', 'estrellas', 'util',\n",
       "       'gracioso', 'genial', 'texto', 'fecha'],\n",
       "      dtype='object')"
      ]
     },
     "execution_count": 9,
     "metadata": {
      "tags": []
     },
     "output_type": "execute_result"
    }
   ],
   "source": [
    "resenia.columns"
   ]
  },
  {
   "cell_type": "code",
   "execution_count": null,
   "metadata": {
    "id": "5EWzZW1t2FTD"
   },
   "outputs": [],
   "source": [
    "del resenia[\"util\"]\n",
    "del resenia[\"gracioso\"]\n",
    "del resenia[\"genial\"]"
   ]
  },
  {
   "cell_type": "code",
   "execution_count": null,
   "metadata": {
    "id": "XOs2LAlf1ehn"
   },
   "outputs": [],
   "source": [
    "resenia[\"numero_palabras\"] = resenia.texto.apply(lambda t: t.count(\" \") + 1)"
   ]
  },
  {
   "cell_type": "code",
   "execution_count": null,
   "metadata": {
    "colab": {
     "base_uri": "https://localhost:8080/",
     "height": 428
    },
    "executionInfo": {
     "elapsed": 46576,
     "status": "ok",
     "timestamp": 1615324968986,
     "user": {
      "displayName": "Milca Elizabeth Valdez Flores",
      "photoUrl": "",
      "userId": "18058005903088779090"
     },
     "user_tz": 300
    },
    "id": "zma_uAAAzr5Z",
    "outputId": "869fed5c-b017-443b-a4c3-f62386b3f3e2"
   },
   "outputs": [
    {
     "data": {
      "text/plain": [
       "Text(0, 0.5, 'Cantidad de comentarios')"
      ]
     },
     "execution_count": 12,
     "metadata": {
      "tags": []
     },
     "output_type": "execute_result"
    },
    {
     "data": {
      "image/png": "[encoded data removed]",
      "text/plain": [
       "<Figure size 864x432 with 1 Axes>"
      ]
     },
     "metadata": {
      "needs_background": "light",
      "tags": []
     },
     "output_type": "display_data"
    }
   ],
   "source": [
    "plt.figure(figsize=(12,6))\n",
    "plt.title(\"Distribución de la cantidad de palabras por comentario\",size=16)\n",
    "resenia[\"numero_palabras\"].hist(bins =range(0,1000, 25))\n",
    "plt.xlabel(\"Cantidad de palabras\", size=14)\n",
    "plt.ylabel(\"Cantidad de comentarios\", size=14)"
   ]
  },
  {
   "cell_type": "code",
   "execution_count": null,
   "metadata": {
    "colab": {
     "base_uri": "https://localhost:8080/",
     "height": 428
    },
    "executionInfo": {
     "elapsed": 46787,
     "status": "ok",
     "timestamp": 1615324970831,
     "user": {
      "displayName": "Milca Elizabeth Valdez Flores",
      "photoUrl": "",
      "userId": "18058005903088779090"
     },
     "user_tz": 300
    },
    "id": "A7QbCr_Zzf4F",
    "outputId": "fb396e90-2dcc-4c18-ff02-dba43dae240a"
   },
   "outputs": [
    {
     "data": {
      "text/plain": [
       "Text(0, 0.5, '')"
      ]
     },
     "execution_count": 13,
     "metadata": {
      "tags": []
     },
     "output_type": "execute_result"
    },
    {
     "data": {
      "image/png": "[encoded data removed]",
      "text/plain": [
       "<Figure size 864x432 with 1 Axes>"
      ]
     },
     "metadata": {
      "needs_background": "light",
      "tags": []
     },
     "output_type": "display_data"
    }
   ],
   "source": [
    "plt.figure(figsize=(12,6))\n",
    "plt.title(\"Distribución de la cantidad de palabras por comentario\",size=16)\n",
    "sns.boxplot(x=resenia[\"estrellas\"] , y=resenia[\"numero_palabras\"] )\n",
    "plt.xlabel(\"Número de estrellas\", size=14)\n",
    "plt.ylabel(\"\", size=14)"
   ]
  },
  {
   "cell_type": "markdown",
   "metadata": {},
   "source": [
    "### Removiendo outliers"
   ]
  },
  {
   "cell_type": "code",
   "execution_count": null,
   "metadata": {
    "id": "idqJaT5C5ZGM"
   },
   "outputs": [],
   "source": [
    "resenia[\"numero_palabras_mean\"] = resenia[[\"numero_palabras\", \"estrellas\"]].groupby(\"estrellas\").transform(\"mean\")\n",
    "resenia[\"numero_palabras_std\"] = resenia[[\"numero_palabras\", \"estrellas\"]].groupby(\"estrellas\").transform(\"std\")"
   ]
  },
  {
   "cell_type": "code",
   "execution_count": null,
   "metadata": {
    "id": "DSJP2v7c6SBh"
   },
   "outputs": [],
   "source": [
    "resenia[\"numero_palabras_zscore\"] = resenia.apply(lambda r: (r.numero_palabras + r.numero_palabras_mean) /r.numero_palabras_std, axis=1)"
   ]
  },
  {
   "cell_type": "code",
   "execution_count": null,
   "metadata": {
    "id": "MGHdIBpJ7i8r"
   },
   "outputs": [],
   "source": [
    "mask = resenia.apply(lambda r: (r[\"numero_palabras_zscore\"]> -3) &((r[\"numero_palabras_zscore\"]< 3)) , axis=1)"
   ]
  },
  {
   "cell_type": "code",
   "execution_count": null,
   "metadata": {
    "colab": {
     "base_uri": "https://localhost:8080/"
    },
    "executionInfo": {
     "elapsed": 182587,
     "status": "ok",
     "timestamp": 1615325115977,
     "user": {
      "displayName": "Milca Elizabeth Valdez Flores",
      "photoUrl": "",
      "userId": "18058005903088779090"
     },
     "user_tz": 300
    },
    "id": "AeaqbzBNzf_3",
    "outputId": "07a4fe3a-a4c2-4499-a0ee-d6b8dd0f136d"
   },
   "outputs": [
    {
     "name": "stdout",
     "output_type": "stream",
     "text": [
      "Reseñas:  3505934\n",
      "Reseñas sin outliers:  2997919\n",
      "Porcentaje:  85.50985272398168 %\n"
     ]
    }
   ],
   "source": [
    "print(\"Reseñas: \", len(resenia.index))\n",
    "print(\"Reseñas sin outliers: \", len(resenia[mask].index))\n",
    "print(\"Porcentaje: \", len(resenia[mask].index) *100/len(resenia.index), \"%\")"
   ]
  },
  {
   "cell_type": "code",
   "execution_count": null,
   "metadata": {
    "colab": {
     "base_uri": "https://localhost:8080/",
     "height": 428
    },
    "executionInfo": {
     "elapsed": 175031,
     "status": "ok",
     "timestamp": 1615325117381,
     "user": {
      "displayName": "Milca Elizabeth Valdez Flores",
      "photoUrl": "",
      "userId": "18058005903088779090"
     },
     "user_tz": 300
    },
    "id": "F4dksPMe4tdB",
    "outputId": "832f4561-901c-48a4-a25d-848b349b9ab9"
   },
   "outputs": [
    {
     "data": {
      "text/plain": [
       "Text(0, 0.5, '')"
      ]
     },
     "execution_count": 18,
     "metadata": {
      "tags": []
     },
     "output_type": "execute_result"
    },
    {
     "data": {
      "image/png": "[encoded data removed]",
      "text/plain": [
       "<Figure size 864x432 with 1 Axes>"
      ]
     },
     "metadata": {
      "needs_background": "light",
      "tags": []
     },
     "output_type": "display_data"
    }
   ],
   "source": [
    "plt.figure(figsize=(12,6))\n",
    "plt.title(\"Distribución de la cantidad de palabras por comentario\",size=16)\n",
    "sns.boxplot(x=resenia[mask][\"estrellas\"] , y=resenia[mask][\"numero_palabras\"] )\n",
    "plt.xlabel(\"Número de estrellas\", size=14)\n",
    "plt.ylabel(\"\", size=14)"
   ]
  },
  {
   "cell_type": "code",
   "execution_count": null,
   "metadata": {
    "id": "uea1mL2SBsTw"
   },
   "outputs": [],
   "source": []
  },
  {
   "cell_type": "markdown",
   "metadata": {
    "id": "4nksAw5mE3Ad"
   },
   "source": [
    "### Usuarios con comentarios cuya cantidad de palabras es aberrante"
   ]
  },
  {
   "cell_type": "code",
   "execution_count": null,
   "metadata": {
    "id": "_6NPafnIDRum"
   },
   "outputs": [],
   "source": [
    "root = '/content/drive/MyDrive/0AccTeam/'\n",
    "users = pd.read_csv(root+\"usuario.csv\")"
   ]
  },
  {
   "cell_type": "code",
   "execution_count": null,
   "metadata": {
    "colab": {
     "base_uri": "https://localhost:8080/",
     "height": 202
    },
    "executionInfo": {
     "elapsed": 57591,
     "status": "ok",
     "timestamp": 1615263806343,
     "user": {
      "displayName": "Robert Denilson Moreno Carrillo",
      "photoUrl": "https://lh3.googleusercontent.com/a-/AOh14Gh_NNO6BQE7t-VQ_S1KgEL5kb5JfpWvhBVvEcZS=s64",
      "userId": "16720048605800441930"
     },
     "user_tz": 300
    },
    "id": "hNfkep2hB0oZ",
    "outputId": "8aad3745-465a-47e7-8004-3e33e6fb085b"
   },
   "outputs": [
    {
     "data": {
      "text/html": [
       "<div>\n",
       "<style scoped>\n",
       "    .dataframe tbody tr th:only-of-type {\n",
       "        vertical-align: middle;\n",
       "    }\n",
       "\n",
       "    .dataframe tbody tr th {\n",
       "        vertical-align: top;\n",
       "    }\n",
       "\n",
       "    .dataframe thead th {\n",
       "        text-align: right;\n",
       "    }\n",
       "</style>\n",
       "<table border=\"1\" class=\"dataframe\">\n",
       "  <thead>\n",
       "    <tr style=\"text-align: right;\">\n",
       "      <th></th>\n",
       "      <th>usuario_id</th>\n",
       "      <th>nombre</th>\n",
       "      <th>cantidad_reseñas</th>\n",
       "      <th>usuario_desde</th>\n",
       "      <th>votos_utiles</th>\n",
       "      <th>votos_graciosos</th>\n",
       "      <th>votos_geniales</th>\n",
       "      <th>amigos</th>\n",
       "      <th>cantidad_fans</th>\n",
       "      <th>promedio_estrellas_reseñas</th>\n",
       "      <th>halagos_hot</th>\n",
       "      <th>halagos_mas</th>\n",
       "      <th>halagos_perfil</th>\n",
       "      <th>halagos_adorable</th>\n",
       "      <th>halagos_lista</th>\n",
       "      <th>halagos_nota</th>\n",
       "      <th>halagos_simple</th>\n",
       "      <th>halagos_genial</th>\n",
       "      <th>halagos_gracioso</th>\n",
       "      <th>halagos_escritor</th>\n",
       "      <th>halagos_foto</th>\n",
       "    </tr>\n",
       "  </thead>\n",
       "  <tbody>\n",
       "    <tr>\n",
       "      <th>0</th>\n",
       "      <td>lq2rz2uc-mFj43x3v4LLCQ</td>\n",
       "      <td>Keith</td>\n",
       "      <td>20</td>\n",
       "      <td>2015-04-07 16:33:56</td>\n",
       "      <td>3</td>\n",
       "      <td>0</td>\n",
       "      <td>0</td>\n",
       "      <td>None</td>\n",
       "      <td>0</td>\n",
       "      <td>4.70</td>\n",
       "      <td>0</td>\n",
       "      <td>0</td>\n",
       "      <td>0</td>\n",
       "      <td>0</td>\n",
       "      <td>0</td>\n",
       "      <td>0</td>\n",
       "      <td>0</td>\n",
       "      <td>0</td>\n",
       "      <td>0</td>\n",
       "      <td>0</td>\n",
       "      <td>0</td>\n",
       "    </tr>\n",
       "    <tr>\n",
       "      <th>1</th>\n",
       "      <td>xgaE5jSGfIsVrajcTdXrBw</td>\n",
       "      <td>Mala</td>\n",
       "      <td>47</td>\n",
       "      <td>2010-06-19 02:12:52</td>\n",
       "      <td>18</td>\n",
       "      <td>4</td>\n",
       "      <td>3</td>\n",
       "      <td>v0yNu7sT8mBKvE-Pu0C-bw, NfU0zDaTMEQ4-X9dbQWd9A...</td>\n",
       "      <td>1</td>\n",
       "      <td>3.68</td>\n",
       "      <td>0</td>\n",
       "      <td>0</td>\n",
       "      <td>0</td>\n",
       "      <td>0</td>\n",
       "      <td>0</td>\n",
       "      <td>0</td>\n",
       "      <td>1</td>\n",
       "      <td>0</td>\n",
       "      <td>0</td>\n",
       "      <td>0</td>\n",
       "      <td>0</td>\n",
       "    </tr>\n",
       "  </tbody>\n",
       "</table>\n",
       "</div>"
      ],
      "text/plain": [
       "               usuario_id nombre  ...  halagos_escritor halagos_foto\n",
       "0  lq2rz2uc-mFj43x3v4LLCQ  Keith  ...                 0            0\n",
       "1  xgaE5jSGfIsVrajcTdXrBw   Mala  ...                 0            0\n",
       "\n",
       "[2 rows x 21 columns]"
      ]
     },
     "execution_count": 18,
     "metadata": {
      "tags": []
     },
     "output_type": "execute_result"
    }
   ],
   "source": [
    "users.head(2)"
   ]
  },
  {
   "cell_type": "code",
   "execution_count": null,
   "metadata": {
    "colab": {
     "base_uri": "https://localhost:8080/"
    },
    "executionInfo": {
     "elapsed": 1767,
     "status": "ok",
     "timestamp": 1615325818698,
     "user": {
      "displayName": "Milca Elizabeth Valdez Flores",
      "photoUrl": "",
      "userId": "18058005903088779090"
     },
     "user_tz": 300
    },
    "id": "U1r89JdGBsrD",
    "outputId": "05f4fb0a-b9d8-4562-ce53-39966ee3bbb9"
   },
   "outputs": [
    {
     "data": {
      "text/plain": [
       "3.5949303410563522"
      ]
     },
     "execution_count": 20,
     "metadata": {
      "tags": []
     },
     "output_type": "execute_result"
    }
   ],
   "source": [
    "users[users.usuario_id.isin(resenia[~mask].usuario_id)][\"promedio_estrellas_reseñas\"].mean()"
   ]
  },
  {
   "cell_type": "code",
   "execution_count": null,
   "metadata": {
    "colab": {
     "base_uri": "https://localhost:8080/"
    },
    "executionInfo": {
     "elapsed": 3277,
     "status": "ok",
     "timestamp": 1615325823102,
     "user": {
      "displayName": "Milca Elizabeth Valdez Flores",
      "photoUrl": "",
      "userId": "18058005903088779090"
     },
     "user_tz": 300
    },
    "id": "fsw9jwBFBs1w",
    "outputId": "29f01a3b-ddbf-46bb-bec8-6b99174cdb4a"
   },
   "outputs": [
    {
     "data": {
      "text/plain": [
       "3.7226691417933"
      ]
     },
     "execution_count": 21,
     "metadata": {
      "tags": []
     },
     "output_type": "execute_result"
    }
   ],
   "source": [
    "users[users.usuario_id.isin(resenia[mask].usuario_id)][\"promedio_estrellas_reseñas\"].mean()"
   ]
  },
  {
   "cell_type": "code",
   "execution_count": null,
   "metadata": {
    "id": "tIdygIT0EqSz"
   },
   "outputs": [],
   "source": [
    "# No hay una aberración estadística en las características de los usuarios con comentarios outliers."
   ]
  },
  {
   "cell_type": "code",
   "execution_count": null,
   "metadata": {
    "id": "PUQAFbvsEqb7"
   },
   "outputs": [],
   "source": [
    "# Liberar espacio\n",
    "users = 0"
   ]
  },
  {
   "cell_type": "code",
   "execution_count": null,
   "metadata": {
    "id": "9e4je2kpE0iX"
   },
   "outputs": [],
   "source": []
  },
  {
   "cell_type": "code",
   "execution_count": null,
   "metadata": {
    "id": "50rAFlKCFGeg"
   },
   "outputs": [],
   "source": []
  },
  {
   "cell_type": "markdown",
   "metadata": {
    "id": "T0wkCYAHFHBO"
   },
   "source": [
    "### Preprocesamiento del texto de las reseñas"
   ]
  },
  {
   "cell_type": "code",
   "execution_count": null,
   "metadata": {
    "id": "pzy_JPbyH1A5"
   },
   "outputs": [],
   "source": [
    "import nltk\n",
    "from nltk.corpus import stopwords\n",
    "from nltk.stem.porter import PorterStemmer\n",
    "import string"
   ]
  },
  {
   "cell_type": "code",
   "execution_count": null,
   "metadata": {
    "id": "MyvLj1TxFWGt"
   },
   "outputs": [],
   "source": [
    "# Removin\n",
    "resenia2 = resenia[mask]"
   ]
  },
  {
   "cell_type": "code",
   "execution_count": null,
   "metadata": {
    "id": "JYzCpOkEH0jO"
   },
   "outputs": [],
   "source": []
  },
  {
   "cell_type": "code",
   "execution_count": null,
   "metadata": {
    "colab": {
     "base_uri": "https://localhost:8080/"
    },
    "executionInfo": {
     "elapsed": 6377,
     "status": "ok",
     "timestamp": 1615325889704,
     "user": {
      "displayName": "Milca Elizabeth Valdez Flores",
      "photoUrl": "",
      "userId": "18058005903088779090"
     },
     "user_tz": 300
    },
    "id": "0J_KAjXMHUdn",
    "outputId": "fcea709c-0abc-4b3f-81e9-b2ffc2c79b61"
   },
   "outputs": [
    {
     "name": "stderr",
     "output_type": "stream",
     "text": [
      "/usr/local/lib/python3.7/dist-packages/pandas/core/generic.py:5170: SettingWithCopyWarning: \n",
      "A value is trying to be set on a copy of a slice from a DataFrame.\n",
      "Try using .loc[row_indexer,col_indexer] = value instead\n",
      "\n",
      "See the caveats in the documentation: https://pandas.pydata.org/pandas-docs/stable/user_guide/indexing.html#returning-a-view-versus-a-copy\n",
      "  self[name] = value\n"
     ]
    }
   ],
   "source": [
    "# lowercase\n",
    "resenia2.texto = resenia2.texto.str.lower() "
   ]
  },
  {
   "cell_type": "code",
   "execution_count": null,
   "metadata": {
    "id": "Cgfg_KvmIuRa"
   },
   "outputs": [],
   "source": []
  },
  {
   "cell_type": "code",
   "execution_count": null,
   "metadata": {
    "colab": {
     "base_uri": "https://localhost:8080/"
    },
    "executionInfo": {
     "elapsed": 27963,
     "status": "ok",
     "timestamp": 1615325926492,
     "user": {
      "displayName": "Milca Elizabeth Valdez Flores",
      "photoUrl": "",
      "userId": "18058005903088779090"
     },
     "user_tz": 300
    },
    "id": "oxVvJn-3Hhhj",
    "outputId": "df1e9c3e-c64d-4331-a9d6-81a2d4bb9763"
   },
   "outputs": [
    {
     "name": "stderr",
     "output_type": "stream",
     "text": [
      "/usr/local/lib/python3.7/dist-packages/pandas/core/generic.py:5170: SettingWithCopyWarning: \n",
      "A value is trying to be set on a copy of a slice from a DataFrame.\n",
      "Try using .loc[row_indexer,col_indexer] = value instead\n",
      "\n",
      "See the caveats in the documentation: https://pandas.pydata.org/pandas-docs/stable/user_guide/indexing.html#returning-a-view-versus-a-copy\n",
      "  self[name] = value\n"
     ]
    }
   ],
   "source": [
    "# Removing punctuation\n",
    "def remove_punctuation(s):\n",
    "  for p in string.punctuation:\n",
    "    s = s.replace(p,\" \")\n",
    "    \n",
    "  return s.replace(\"  \", \" \")\n",
    "\n",
    "\n",
    "resenia2.texto = resenia2.texto.apply(lambda t: remove_punctuation(t))"
   ]
  },
  {
   "cell_type": "code",
   "execution_count": null,
   "metadata": {
    "id": "Lc4jsF7TI1qQ"
   },
   "outputs": [],
   "source": []
  },
  {
   "cell_type": "code",
   "execution_count": null,
   "metadata": {
    "id": "3FYJoqT2I86a"
   },
   "outputs": [],
   "source": []
  },
  {
   "cell_type": "code",
   "execution_count": null,
   "metadata": {
    "colab": {
     "base_uri": "https://localhost:8080/"
    },
    "executionInfo": {
     "elapsed": 586,
     "status": "ok",
     "timestamp": 1615325931154,
     "user": {
      "displayName": "Milca Elizabeth Valdez Flores",
      "photoUrl": "",
      "userId": "18058005903088779090"
     },
     "user_tz": 300
    },
    "id": "W8VB2tfKJpcr",
    "outputId": "414e9da9-6129-4b81-cd93-45e08f220ba1"
   },
   "outputs": [
    {
     "name": "stdout",
     "output_type": "stream",
     "text": [
      "[nltk_data] Downloading package stopwords to /root/nltk_data...\n",
      "[nltk_data]   Unzipping corpora/stopwords.zip.\n"
     ]
    },
    {
     "data": {
      "text/plain": [
       "True"
      ]
     },
     "execution_count": 27,
     "metadata": {
      "tags": []
     },
     "output_type": "execute_result"
    }
   ],
   "source": [
    "nltk.download('stopwords')"
   ]
  },
  {
   "cell_type": "code",
   "execution_count": null,
   "metadata": {
    "colab": {
     "base_uri": "https://localhost:8080/"
    },
    "executionInfo": {
     "elapsed": 480310,
     "status": "ok",
     "timestamp": 1615326413777,
     "user": {
      "displayName": "Milca Elizabeth Valdez Flores",
      "photoUrl": "",
      "userId": "18058005903088779090"
     },
     "user_tz": 300
    },
    "id": "zKWKKjOUJFfE",
    "outputId": "782aeb81-9700-43cf-9719-d3c3702aad20"
   },
   "outputs": [
    {
     "name": "stderr",
     "output_type": "stream",
     "text": [
      "/usr/local/lib/python3.7/dist-packages/pandas/core/generic.py:5170: SettingWithCopyWarning: \n",
      "A value is trying to be set on a copy of a slice from a DataFrame.\n",
      "Try using .loc[row_indexer,col_indexer] = value instead\n",
      "\n",
      "See the caveats in the documentation: https://pandas.pydata.org/pandas-docs/stable/user_guide/indexing.html#returning-a-view-versus-a-copy\n",
      "  self[name] = value\n"
     ]
    }
   ],
   "source": [
    "#Corregir\n",
    "#Stopword Filtering\n",
    "stop_words = stopwords.words('english')\n",
    "\n",
    "def remove_sw(s):\n",
    "  s = \" \"+s+\" \"\n",
    "  for sw in stop_words:\n",
    "    s = s.replace(\" \"+ sw +\" \",\" \")\n",
    "    \n",
    "  return s.strip()\n",
    "\n",
    "resenia2.texto = resenia2.texto.apply(lambda t: remove_sw(t))"
   ]
  },
  {
   "cell_type": "code",
   "execution_count": null,
   "metadata": {
    "id": "Ng5gBVugKKw6"
   },
   "outputs": [],
   "source": []
  },
  {
   "cell_type": "code",
   "execution_count": null,
   "metadata": {
    "id": "ou69e6a6KK37"
   },
   "outputs": [],
   "source": []
  },
  {
   "cell_type": "code",
   "execution_count": null,
   "metadata": {
    "id": "ZbFv2XGDKx7h"
   },
   "outputs": [],
   "source": [
    "# Stemming\n",
    "porter = PorterStemmer()\n",
    "def stemming_sentence(s):\n",
    "  L = s.split(\" \")\n",
    "  for i in range(0,len(L)):\n",
    "    L[i] = porter.stem(L[i])\n",
    "  return \" \".join(L)\n",
    "\n",
    "resenia2.texto = resenia2.texto.apply(lambda t: stemming_sentence(t))"
   ]
  },
  {
   "cell_type": "code",
   "execution_count": null,
   "metadata": {
    "id": "8jfFfWlGKXqR"
   },
   "outputs": [],
   "source": []
  },
  {
   "cell_type": "code",
   "execution_count": null,
   "metadata": {
    "id": "CO_Ycyw9VuVg"
   },
   "outputs": [],
   "source": []
  },
  {
   "cell_type": "code",
   "execution_count": null,
   "metadata": {
    "id": "PdlAyqN2LmbH"
   },
   "outputs": [],
   "source": [
    "# Guardar el dataset con texto preprocesado cuando esté listo\n",
    "resenia2.to_csv(consumo_dir+ \"reseña_preprocesada2.csv\", index=False)"
   ]
  },
  {
   "cell_type": "code",
   "execution_count": null,
   "metadata": {
    "id": "8tgoTTFABWma"
   },
   "outputs": [],
   "source": []
  },
  {
   "cell_type": "markdown",
   "metadata": {
    "id": "kvAI_DhC8Gr1"
   },
   "source": [
    "**LDA**"
   ]
  },
  {
   "cell_type": "code",
   "execution_count": 5,
   "metadata": {
    "executionInfo": {
     "elapsed": 919,
     "status": "ok",
     "timestamp": 1615343860485,
     "user": {
      "displayName": "Stefannie Zeas",
      "photoUrl": "https://lh3.googleusercontent.com/a-/AOh14GhDg9aS18L5Q7W0b1SRrZ3IfuRdl5S_uF6U97VrhR0=s64",
      "userId": "04090851217455657032"
     },
     "user_tz": 300
    },
    "id": "7s3gKchl8Js2"
   },
   "outputs": [],
   "source": [
    "import gensim\n",
    "from gensim.utils import simple_preprocess\n",
    "from gensim.parsing.preprocessing import STOPWORDS\n",
    "\n",
    "\n",
    "\n",
    "\n"
   ]
  }
 ],
 "metadata": {
  "colab": {
   "name": "Untitled0.ipynb",
   "provenance": []
  },
  "kernelspec": {
   "display_name": "Python 3",
   "language": "python",
   "name": "python3"
  },
  "language_info": {
   "codemirror_mode": {
    "name": "ipython",
    "version": 3
   },
   "file_extension": ".py",
   "mimetype": "text/x-python",
   "name": "python",
   "nbconvert_exporter": "python",
   "pygments_lexer": "ipython3",
   "version": "3.7.6"
  }
 },
 "nbformat": 4,
 "nbformat_minor": 1
}
