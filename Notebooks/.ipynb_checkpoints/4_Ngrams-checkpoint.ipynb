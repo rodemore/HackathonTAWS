{
 "cells": [
  {
   "cell_type": "markdown",
   "metadata": {
    "id": "QyoIchubPd4I"
   },
   "source": [
    "## Importar Librerias"
   ]
  },
  {
   "cell_type": "code",
   "execution_count": 1,
   "metadata": {
    "executionInfo": {
     "elapsed": 533,
     "status": "ok",
     "timestamp": 1614825957600,
     "user": {
      "displayName": "Milca Elizabeth Valdez Flores",
      "photoUrl": "",
      "userId": "18058005903088779090"
     },
     "user_tz": 300
    },
    "id": "LGa0zQ809wwO"
   },
   "outputs": [],
   "source": [
    "import tarfile\n",
    "import pandas as pd"
   ]
  },
  {
   "cell_type": "markdown",
   "metadata": {
    "id": "5HJCINbcPK2b"
   },
   "source": [
    "## Extraer archivos .tar.gz"
   ]
  },
  {
   "cell_type": "markdown",
   "metadata": {
    "id": "wQOtC5W0Mu3l"
   },
   "source": [
    "fname = \"/content/drive/MyDrive/0AccTeam/Blueberry.tar.gz\""
   ]
  },
  {
   "cell_type": "markdown",
   "metadata": {
    "id": "k9G9x3HFMeMe"
   },
   "source": [
    "if fname.endswith(\"tar.gz\"):\n",
    "    tar = tarfile.open(fname, \"r:gz\")\n",
    "    tar.extractall()\n",
    "    tar.close()"
   ]
  },
  {
   "cell_type": "markdown",
   "metadata": {
    "id": "X-lagVKVPVg0"
   },
   "source": [
    "# Blueberry Inc. Data"
   ]
  },
  {
   "cell_type": "code",
   "execution_count": 2,
   "metadata": {
    "executionInfo": {
     "elapsed": 457,
     "status": "ok",
     "timestamp": 1614825959208,
     "user": {
      "displayName": "Milca Elizabeth Valdez Flores",
      "photoUrl": "",
      "userId": "18058005903088779090"
     },
     "user_tz": 300
    },
    "id": "WJpsxBTfPU3r"
   },
   "outputs": [],
   "source": [
    "# Google colab\n",
    "#root = '/content/drive/MyDrive/0AccTeam/'\n",
    "\n",
    "root = '/Blueberry'\n"
   ]
  },
  {
   "cell_type": "markdown",
   "metadata": {
    "id": "P5e5fDjtQN9M"
   },
   "source": [
    "## Checkin"
   ]
  },
  {
   "cell_type": "code",
   "execution_count": null,
   "metadata": {
    "id": "QnrMoxKpM7i_"
   },
   "outputs": [],
   "source": [
    "checkin = pd.read_csv(root+'checkin.csv')"
   ]
  },
  {
   "cell_type": "code",
   "execution_count": null,
   "metadata": {
    "colab": {
     "base_uri": "https://localhost:8080/",
     "height": 195
    },
    "executionInfo": {
     "elapsed": 480,
     "status": "ok",
     "timestamp": 1614795872928,
     "user": {
      "displayName": "Milca Elizabeth Valdez Flores",
      "photoUrl": "",
      "userId": "18058005903088779090"
     },
     "user_tz": 300
    },
    "id": "CW-168TxR2AQ",
    "outputId": "fe721334-c505-4294-f801-e2d55d4921f6"
   },
   "outputs": [
    {
     "data": {
      "text/html": [
       "<div>\n",
       "<style scoped>\n",
       "    .dataframe tbody tr th:only-of-type {\n",
       "        vertical-align: middle;\n",
       "    }\n",
       "\n",
       "    .dataframe tbody tr th {\n",
       "        vertical-align: top;\n",
       "    }\n",
       "\n",
       "    .dataframe thead th {\n",
       "        text-align: right;\n",
       "    }\n",
       "</style>\n",
       "<table border=\"1\" class=\"dataframe\">\n",
       "  <thead>\n",
       "    <tr style=\"text-align: right;\">\n",
       "      <th></th>\n",
       "      <th>negocio_id</th>\n",
       "      <th>fecha</th>\n",
       "    </tr>\n",
       "  </thead>\n",
       "  <tbody>\n",
       "    <tr>\n",
       "      <th>0</th>\n",
       "      <td>--6MefnULPED_I942VcFNA</td>\n",
       "      <td>2011-06-04 18:22:23, 2011-07-23 23:51:33, 2012...</td>\n",
       "    </tr>\n",
       "    <tr>\n",
       "      <th>1</th>\n",
       "      <td>--7zmmkVg-IMGaXbuVd0SQ</td>\n",
       "      <td>2014-12-29 19:25:50, 2015-01-17 01:49:14, 2015...</td>\n",
       "    </tr>\n",
       "    <tr>\n",
       "      <th>2</th>\n",
       "      <td>--8LPVSo5i0Oo61X01sV9A</td>\n",
       "      <td>2016-07-08 16:43:30</td>\n",
       "    </tr>\n",
       "    <tr>\n",
       "      <th>3</th>\n",
       "      <td>--9QQLMTbFzLJ_oT-ON3Xw</td>\n",
       "      <td>2010-06-26 17:39:07, 2010-08-01 20:06:21, 2010...</td>\n",
       "    </tr>\n",
       "    <tr>\n",
       "      <th>4</th>\n",
       "      <td>--9e1ONYQuAa-CB_Rrw7Tw</td>\n",
       "      <td>2010-02-08 05:56:47, 2010-02-15 04:47:42, 2010...</td>\n",
       "    </tr>\n",
       "  </tbody>\n",
       "</table>\n",
       "</div>"
      ],
      "text/plain": [
       "               negocio_id                                              fecha\n",
       "0  --6MefnULPED_I942VcFNA  2011-06-04 18:22:23, 2011-07-23 23:51:33, 2012...\n",
       "1  --7zmmkVg-IMGaXbuVd0SQ  2014-12-29 19:25:50, 2015-01-17 01:49:14, 2015...\n",
       "2  --8LPVSo5i0Oo61X01sV9A                                2016-07-08 16:43:30\n",
       "3  --9QQLMTbFzLJ_oT-ON3Xw  2010-06-26 17:39:07, 2010-08-01 20:06:21, 2010...\n",
       "4  --9e1ONYQuAa-CB_Rrw7Tw  2010-02-08 05:56:47, 2010-02-15 04:47:42, 2010..."
      ]
     },
     "execution_count": 12,
     "metadata": {
      "tags": []
     },
     "output_type": "execute_result"
    }
   ],
   "source": [
    "checkin.head()"
   ]
  },
  {
   "cell_type": "code",
   "execution_count": null,
   "metadata": {
    "id": "6cLrxoKNTJdX"
   },
   "outputs": [],
   "source": []
  },
  {
   "cell_type": "markdown",
   "metadata": {
    "id": "vi7fxD37RpHI"
   },
   "source": [
    "## Medidas Covid"
   ]
  },
  {
   "cell_type": "code",
   "execution_count": null,
   "metadata": {
    "id": "tjQsa48TRoUo"
   },
   "outputs": [],
   "source": [
    "covid = pd.read_csv(root+'medidas_covid.csv')"
   ]
  },
  {
   "cell_type": "code",
   "execution_count": null,
   "metadata": {
    "colab": {
     "base_uri": "https://localhost:8080/",
     "height": 215
    },
    "executionInfo": {
     "elapsed": 3571,
     "status": "ok",
     "timestamp": 1614789053458,
     "user": {
      "displayName": "Milca Elizabeth Valdez Flores",
      "photoUrl": "",
      "userId": "18058005903088779090"
     },
     "user_tz": 300
    },
    "id": "q7I61mbuP4Cq",
    "outputId": "e84a151b-7f4f-4c34-f7cc-8ef9d3e96d8d"
   },
   "outputs": [
    {
     "data": {
      "text/html": [
       "<div>\n",
       "<style scoped>\n",
       "    .dataframe tbody tr th:only-of-type {\n",
       "        vertical-align: middle;\n",
       "    }\n",
       "\n",
       "    .dataframe tbody tr th {\n",
       "        vertical-align: top;\n",
       "    }\n",
       "\n",
       "    .dataframe thead th {\n",
       "        text-align: right;\n",
       "    }\n",
       "</style>\n",
       "<table border=\"1\" class=\"dataframe\">\n",
       "  <thead>\n",
       "    <tr style=\"text-align: right;\">\n",
       "      <th></th>\n",
       "      <th>negocio_id</th>\n",
       "      <th>insignias</th>\n",
       "      <th>a_domicilio_o_para_llevar</th>\n",
       "      <th>grubhub_habilitado</th>\n",
       "      <th>llamada_a_la_accion_habilitado</th>\n",
       "      <th>solicitar_presupuesto_habilitado</th>\n",
       "      <th>cartel_covid</th>\n",
       "      <th>cerrado_temporalmente_hasta</th>\n",
       "      <th>servicios_virtuales_ofrecidos</th>\n",
       "    </tr>\n",
       "  </thead>\n",
       "  <tbody>\n",
       "    <tr>\n",
       "      <th>0</th>\n",
       "      <td>9kXRUIkwdDtnAPO6tVo51g</td>\n",
       "      <td>FALSE</td>\n",
       "      <td>False</td>\n",
       "      <td>False</td>\n",
       "      <td>False</td>\n",
       "      <td>False</td>\n",
       "      <td>FALSE</td>\n",
       "      <td>FALSE</td>\n",
       "      <td>FALSE</td>\n",
       "    </tr>\n",
       "    <tr>\n",
       "      <th>1</th>\n",
       "      <td>H6D5HOTfMjrZt7r1EObZ1g</td>\n",
       "      <td>FALSE</td>\n",
       "      <td>False</td>\n",
       "      <td>False</td>\n",
       "      <td>False</td>\n",
       "      <td>False</td>\n",
       "      <td>FALSE</td>\n",
       "      <td>FALSE</td>\n",
       "      <td>FALSE</td>\n",
       "    </tr>\n",
       "    <tr>\n",
       "      <th>2</th>\n",
       "      <td>FYddq7fUtzobZcw4jOJgVA</td>\n",
       "      <td>FALSE</td>\n",
       "      <td>False</td>\n",
       "      <td>False</td>\n",
       "      <td>False</td>\n",
       "      <td>False</td>\n",
       "      <td>FALSE</td>\n",
       "      <td>FALSE</td>\n",
       "      <td>FALSE</td>\n",
       "    </tr>\n",
       "    <tr>\n",
       "      <th>3</th>\n",
       "      <td>c75jLTjlgA9q3gImLEGT6w</td>\n",
       "      <td>FALSE</td>\n",
       "      <td>False</td>\n",
       "      <td>False</td>\n",
       "      <td>False</td>\n",
       "      <td>False</td>\n",
       "      <td>FALSE</td>\n",
       "      <td>FALSE</td>\n",
       "      <td>FALSE</td>\n",
       "    </tr>\n",
       "    <tr>\n",
       "      <th>4</th>\n",
       "      <td>HqDRvA64BpGtjnzf9beE4Q</td>\n",
       "      <td>FALSE</td>\n",
       "      <td>False</td>\n",
       "      <td>False</td>\n",
       "      <td>False</td>\n",
       "      <td>False</td>\n",
       "      <td>FALSE</td>\n",
       "      <td>FALSE</td>\n",
       "      <td>FALSE</td>\n",
       "    </tr>\n",
       "  </tbody>\n",
       "</table>\n",
       "</div>"
      ],
      "text/plain": [
       "               negocio_id  ... servicios_virtuales_ofrecidos\n",
       "0  9kXRUIkwdDtnAPO6tVo51g  ...                         FALSE\n",
       "1  H6D5HOTfMjrZt7r1EObZ1g  ...                         FALSE\n",
       "2  FYddq7fUtzobZcw4jOJgVA  ...                         FALSE\n",
       "3  c75jLTjlgA9q3gImLEGT6w  ...                         FALSE\n",
       "4  HqDRvA64BpGtjnzf9beE4Q  ...                         FALSE\n",
       "\n",
       "[5 rows x 9 columns]"
      ]
     },
     "execution_count": 6,
     "metadata": {
      "tags": []
     },
     "output_type": "execute_result"
    }
   ],
   "source": [
    "covid.head()"
   ]
  },
  {
   "cell_type": "code",
   "execution_count": null,
   "metadata": {
    "colab": {
     "base_uri": "https://localhost:8080/"
    },
    "executionInfo": {
     "elapsed": 419,
     "status": "ok",
     "timestamp": 1614789055846,
     "user": {
      "displayName": "Milca Elizabeth Valdez Flores",
      "photoUrl": "",
      "userId": "18058005903088779090"
     },
     "user_tz": 300
    },
    "id": "nvrWRx69YtQf",
    "outputId": "d4f55b2b-9602-43bc-a575-d8892231cbf0"
   },
   "outputs": [
    {
     "data": {
      "text/plain": [
       "(167838, 9)"
      ]
     },
     "execution_count": 7,
     "metadata": {
      "tags": []
     },
     "output_type": "execute_result"
    }
   ],
   "source": [
    "covid.shape"
   ]
  },
  {
   "cell_type": "code",
   "execution_count": null,
   "metadata": {
    "colab": {
     "base_uri": "https://localhost:8080/"
    },
    "executionInfo": {
     "elapsed": 431,
     "status": "ok",
     "timestamp": 1614730021590,
     "user": {
      "displayName": "Milca Elizabeth Valdez Flores",
      "photoUrl": "",
      "userId": "18058005903088779090"
     },
     "user_tz": 300
    },
    "id": "lbjTP9d1YbaY",
    "outputId": "30954ad8-b6c2-4917-f220-36a7393b343d"
   },
   "outputs": [
    {
     "data": {
      "text/plain": [
       "FALSE                              164442\n",
       "offers_virtual_consultations         2012\n",
       "offers_virtual_classes                681\n",
       "offers_virtual_tours                  651\n",
       "offers_virtual_experiences             19\n",
       "offers_virtual_performances            18\n",
       "offers_virtual_tasting_sessions        14\n",
       "offers_virtual_office_space             1\n",
       "Name: servicios_virtuales_ofrecidos, dtype: int64"
      ]
     },
     "execution_count": 35,
     "metadata": {
      "tags": []
     },
     "output_type": "execute_result"
    }
   ],
   "source": [
    "covid['servicios_virtuales_ofrecidos'].value_counts()"
   ]
  },
  {
   "cell_type": "markdown",
   "metadata": {
    "id": "p4cjwEYSR7kv"
   },
   "source": [
    "## Negocio"
   ]
  },
  {
   "cell_type": "code",
   "execution_count": null,
   "metadata": {
    "id": "SI-71-tRInyG"
   },
   "outputs": [],
   "source": [
    "pd.set_option('display.max_colwidth',1000)"
   ]
  },
  {
   "cell_type": "code",
   "execution_count": 5,
   "metadata": {
    "colab": {
     "base_uri": "https://localhost:8080/"
    },
    "executionInfo": {
     "elapsed": 3078,
     "status": "ok",
     "timestamp": 1614826015255,
     "user": {
      "displayName": "Milca Elizabeth Valdez Flores",
      "photoUrl": "",
      "userId": "18058005903088779090"
     },
     "user_tz": 300
    },
    "id": "1-9_-cwiR6Sn",
    "outputId": "a6ac9991-f455-428f-d857-86bfc939eecd"
   },
   "outputs": [
    {
     "name": "stderr",
     "output_type": "stream",
     "text": [
      "/usr/local/lib/python3.7/dist-packages/IPython/core/interactiveshell.py:2718: DtypeWarning: Columns (16,49,52,53,54) have mixed types.Specify dtype option on import or set low_memory=False.\n",
      "  interactivity=interactivity, compiler=compiler, result=result)\n"
     ]
    }
   ],
   "source": [
    "negocio = pd.read_csv(root+'negocio.csv')"
   ]
  },
  {
   "cell_type": "code",
   "execution_count": 6,
   "metadata": {
    "colab": {
     "base_uri": "https://localhost:8080/",
     "height": 618
    },
    "executionInfo": {
     "elapsed": 470,
     "status": "ok",
     "timestamp": 1614826019928,
     "user": {
      "displayName": "Milca Elizabeth Valdez Flores",
      "photoUrl": "",
      "userId": "18058005903088779090"
     },
     "user_tz": 300
    },
    "id": "GY9_qcQsrSF1",
    "outputId": "23b08a9e-93f8-472f-adf2-4cc0968a0a18"
   },
   "outputs": [
    {
     "data": {
      "text/html": [
       "<div>\n",
       "<style scoped>\n",
       "    .dataframe tbody tr th:only-of-type {\n",
       "        vertical-align: middle;\n",
       "    }\n",
       "\n",
       "    .dataframe tbody tr th {\n",
       "        vertical-align: top;\n",
       "    }\n",
       "\n",
       "    .dataframe thead th {\n",
       "        text-align: right;\n",
       "    }\n",
       "</style>\n",
       "<table border=\"1\" class=\"dataframe\">\n",
       "  <thead>\n",
       "    <tr style=\"text-align: right;\">\n",
       "      <th></th>\n",
       "      <th>negocio_id</th>\n",
       "      <th>nombre</th>\n",
       "      <th>direccion</th>\n",
       "      <th>ciudad</th>\n",
       "      <th>estado</th>\n",
       "      <th>codigo_postal</th>\n",
       "      <th>latitud</th>\n",
       "      <th>longitud</th>\n",
       "      <th>estrellas</th>\n",
       "      <th>cantidad_reseñas</th>\n",
       "      <th>abierto</th>\n",
       "      <th>acepta_tarjeta_credito</th>\n",
       "      <th>tiene_parqueo_bicicletas</th>\n",
       "      <th>adecuado_para_niños</th>\n",
       "      <th>parqueo</th>\n",
       "      <th>solo_con_cita</th>\n",
       "      <th>rango_precios</th>\n",
       "      <th>categorias</th>\n",
       "      <th>atencion_lunes</th>\n",
       "      <th>atencion_martes</th>\n",
       "      <th>atencion_miercoles</th>\n",
       "      <th>atencion_jueves</th>\n",
       "      <th>atencion_viernes</th>\n",
       "      <th>atencion_sabado</th>\n",
       "      <th>atencion_domingo</th>\n",
       "      <th>permite_perros</th>\n",
       "      <th>tiene_wifi</th>\n",
       "      <th>codigo_de_vestimenta</th>\n",
       "      <th>para_llevar</th>\n",
       "      <th>nivel_de_ruido</th>\n",
       "      <th>acepta_reservaciones</th>\n",
       "      <th>adecuado_para_grupos</th>\n",
       "      <th>tiene_tv</th>\n",
       "      <th>vende_alcohol</th>\n",
       "      <th>entregas_a_domicilio</th>\n",
       "      <th>mesas_al_aire_libre</th>\n",
       "      <th>tiene_mesero</th>\n",
       "      <th>adecuado_para_sillas_de_ruedas</th>\n",
       "      <th>acepta_seguro</th>\n",
       "      <th>ambiente</th>\n",
       "      <th>adecuado_para_comer</th>\n",
       "      <th>tiene_happy_hour</th>\n",
       "      <th>acepta_bitcoin</th>\n",
       "      <th>acepta_llevar_bebida_propia</th>\n",
       "      <th>adecuado_para_bailar</th>\n",
       "      <th>tiene_guardarropa</th>\n",
       "      <th>mejores_noches</th>\n",
       "      <th>musica</th>\n",
       "      <th>permite_fumar</th>\n",
       "      <th>restriccion_dietas</th>\n",
       "      <th>tiene_drive_thru</th>\n",
       "      <th>especialidades_en_peinado</th>\n",
       "      <th>edad_permitida</th>\n",
       "      <th>servcio_en_la_barra</th>\n",
       "      <th>abierto_24_horas</th>\n",
       "    </tr>\n",
       "  </thead>\n",
       "  <tbody>\n",
       "    <tr>\n",
       "      <th>0</th>\n",
       "      <td>DNk1f9uhKQz9H66weTBHlg</td>\n",
       "      <td>Recordland</td>\n",
       "      <td>1208 9 Ave SE</td>\n",
       "      <td>Calgary</td>\n",
       "      <td>AB</td>\n",
       "      <td>T2G 0T1</td>\n",
       "      <td>51.042107</td>\n",
       "      <td>-114.036257</td>\n",
       "      <td>3.5</td>\n",
       "      <td>21</td>\n",
       "      <td>1</td>\n",
       "      <td>NaN</td>\n",
       "      <td>False</td>\n",
       "      <td>NaN</td>\n",
       "      <td>{'garaje': False, 'en la calle': True, 'valida...</td>\n",
       "      <td>NaN</td>\n",
       "      <td>2</td>\n",
       "      <td>Books, Mags, Music &amp; Video, Shopping, Music &amp; ...</td>\n",
       "      <td>NaN</td>\n",
       "      <td>10:0-18:0</td>\n",
       "      <td>10:0-18:0</td>\n",
       "      <td>10:0-18:0</td>\n",
       "      <td>10:0-18:0</td>\n",
       "      <td>10:0-18:0</td>\n",
       "      <td>11:0-17:0</td>\n",
       "      <td>NaN</td>\n",
       "      <td>NaN</td>\n",
       "      <td>NaN</td>\n",
       "      <td>NaN</td>\n",
       "      <td>NaN</td>\n",
       "      <td>NaN</td>\n",
       "      <td>NaN</td>\n",
       "      <td>NaN</td>\n",
       "      <td>NaN</td>\n",
       "      <td>NaN</td>\n",
       "      <td>NaN</td>\n",
       "      <td>NaN</td>\n",
       "      <td>NaN</td>\n",
       "      <td>NaN</td>\n",
       "      <td>NaN</td>\n",
       "      <td>NaN</td>\n",
       "      <td>NaN</td>\n",
       "      <td>NaN</td>\n",
       "      <td>NaN</td>\n",
       "      <td>NaN</td>\n",
       "      <td>NaN</td>\n",
       "      <td>NaN</td>\n",
       "      <td>NaN</td>\n",
       "      <td>NaN</td>\n",
       "      <td>NaN</td>\n",
       "      <td>NaN</td>\n",
       "      <td>NaN</td>\n",
       "      <td>NaN</td>\n",
       "      <td>NaN</td>\n",
       "      <td>NaN</td>\n",
       "    </tr>\n",
       "    <tr>\n",
       "      <th>1</th>\n",
       "      <td>X3gLwIRbBHZY74yJ4xHnpg</td>\n",
       "      <td>Sheridan Nurseries Etobicoke</td>\n",
       "      <td>2069 Burnhamthorpe Rd E</td>\n",
       "      <td>Mississauga</td>\n",
       "      <td>ON</td>\n",
       "      <td>L4X 2S7</td>\n",
       "      <td>43.637980</td>\n",
       "      <td>-79.587064</td>\n",
       "      <td>4.0</td>\n",
       "      <td>14</td>\n",
       "      <td>1</td>\n",
       "      <td>NaN</td>\n",
       "      <td>True</td>\n",
       "      <td>NaN</td>\n",
       "      <td>{'garaje': False, 'en la calle': False, 'valid...</td>\n",
       "      <td>False</td>\n",
       "      <td>3</td>\n",
       "      <td>Outdoor Furniture Stores, Shopping, Flowers &amp; ...</td>\n",
       "      <td>9:0-18:0</td>\n",
       "      <td>9:0-18:0</td>\n",
       "      <td>9:0-18:0</td>\n",
       "      <td>9:0-20:0</td>\n",
       "      <td>9:0-20:0</td>\n",
       "      <td>9:0-18:0</td>\n",
       "      <td>9:0-17:0</td>\n",
       "      <td>True</td>\n",
       "      <td>NaN</td>\n",
       "      <td>NaN</td>\n",
       "      <td>NaN</td>\n",
       "      <td>NaN</td>\n",
       "      <td>NaN</td>\n",
       "      <td>NaN</td>\n",
       "      <td>NaN</td>\n",
       "      <td>NaN</td>\n",
       "      <td>True</td>\n",
       "      <td>NaN</td>\n",
       "      <td>NaN</td>\n",
       "      <td>True</td>\n",
       "      <td>NaN</td>\n",
       "      <td>NaN</td>\n",
       "      <td>NaN</td>\n",
       "      <td>NaN</td>\n",
       "      <td>NaN</td>\n",
       "      <td>NaN</td>\n",
       "      <td>NaN</td>\n",
       "      <td>NaN</td>\n",
       "      <td>NaN</td>\n",
       "      <td>NaN</td>\n",
       "      <td>NaN</td>\n",
       "      <td>NaN</td>\n",
       "      <td>NaN</td>\n",
       "      <td>NaN</td>\n",
       "      <td>NaN</td>\n",
       "      <td>NaN</td>\n",
       "      <td>NaN</td>\n",
       "    </tr>\n",
       "    <tr>\n",
       "      <th>2</th>\n",
       "      <td>q0wTXSsUsW1Q0IcJj1oYvQ</td>\n",
       "      <td>Ramon Pascua, MD</td>\n",
       "      <td>17100 N 67th Ave, Ste 502</td>\n",
       "      <td>Glendale</td>\n",
       "      <td>AZ</td>\n",
       "      <td>85308</td>\n",
       "      <td>33.639921</td>\n",
       "      <td>-112.204305</td>\n",
       "      <td>2.0</td>\n",
       "      <td>3</td>\n",
       "      <td>1</td>\n",
       "      <td>NaN</td>\n",
       "      <td>NaN</td>\n",
       "      <td>NaN</td>\n",
       "      <td>NaN</td>\n",
       "      <td>NaN</td>\n",
       "      <td>NaN</td>\n",
       "      <td>Family Practice, Health &amp; Medical, Doctors</td>\n",
       "      <td>13:30-17:0</td>\n",
       "      <td>13:30-17:0</td>\n",
       "      <td>13:30-17:0</td>\n",
       "      <td>13:30-17:0</td>\n",
       "      <td>13:30-17:0</td>\n",
       "      <td>NaN</td>\n",
       "      <td>NaN</td>\n",
       "      <td>NaN</td>\n",
       "      <td>NaN</td>\n",
       "      <td>NaN</td>\n",
       "      <td>NaN</td>\n",
       "      <td>NaN</td>\n",
       "      <td>NaN</td>\n",
       "      <td>NaN</td>\n",
       "      <td>NaN</td>\n",
       "      <td>NaN</td>\n",
       "      <td>NaN</td>\n",
       "      <td>NaN</td>\n",
       "      <td>NaN</td>\n",
       "      <td>NaN</td>\n",
       "      <td>NaN</td>\n",
       "      <td>NaN</td>\n",
       "      <td>NaN</td>\n",
       "      <td>NaN</td>\n",
       "      <td>NaN</td>\n",
       "      <td>NaN</td>\n",
       "      <td>NaN</td>\n",
       "      <td>NaN</td>\n",
       "      <td>NaN</td>\n",
       "      <td>NaN</td>\n",
       "      <td>NaN</td>\n",
       "      <td>NaN</td>\n",
       "      <td>NaN</td>\n",
       "      <td>NaN</td>\n",
       "      <td>NaN</td>\n",
       "      <td>NaN</td>\n",
       "      <td>NaN</td>\n",
       "    </tr>\n",
       "    <tr>\n",
       "      <th>3</th>\n",
       "      <td>X5e3xIixJUN3OMagh0_oLQ</td>\n",
       "      <td>Tropical Thai Cuisine</td>\n",
       "      <td>993 Kingston Road</td>\n",
       "      <td>Toronto</td>\n",
       "      <td>ON</td>\n",
       "      <td>M4E 1T3</td>\n",
       "      <td>43.680524</td>\n",
       "      <td>-79.285568</td>\n",
       "      <td>3.5</td>\n",
       "      <td>26</td>\n",
       "      <td>1</td>\n",
       "      <td>NaN</td>\n",
       "      <td>NaN</td>\n",
       "      <td>True</td>\n",
       "      <td>{'garaje': False, 'en la calle': True, 'valida...</td>\n",
       "      <td>NaN</td>\n",
       "      <td>2</td>\n",
       "      <td>Restaurants, Thai, Specialty Food, Food, Ethni...</td>\n",
       "      <td>11:0-15:0</td>\n",
       "      <td>11:0-22:0</td>\n",
       "      <td>11:0-22:0</td>\n",
       "      <td>11:0-22:0</td>\n",
       "      <td>11:0-22:0</td>\n",
       "      <td>14:0-22:0</td>\n",
       "      <td>16:0-22:0</td>\n",
       "      <td>NaN</td>\n",
       "      <td>u'no'</td>\n",
       "      <td>u'casual'</td>\n",
       "      <td>True</td>\n",
       "      <td>u'quiet'</td>\n",
       "      <td>True</td>\n",
       "      <td>True</td>\n",
       "      <td>True</td>\n",
       "      <td>u'none'</td>\n",
       "      <td>True</td>\n",
       "      <td>False</td>\n",
       "      <td>False</td>\n",
       "      <td>False</td>\n",
       "      <td>NaN</td>\n",
       "      <td>{'romantico': False, 'intimo': False, 'con cla...</td>\n",
       "      <td>NaN</td>\n",
       "      <td>NaN</td>\n",
       "      <td>NaN</td>\n",
       "      <td>NaN</td>\n",
       "      <td>NaN</td>\n",
       "      <td>NaN</td>\n",
       "      <td>NaN</td>\n",
       "      <td>NaN</td>\n",
       "      <td>NaN</td>\n",
       "      <td>NaN</td>\n",
       "      <td>NaN</td>\n",
       "      <td>NaN</td>\n",
       "      <td>NaN</td>\n",
       "      <td>NaN</td>\n",
       "      <td>NaN</td>\n",
       "    </tr>\n",
       "    <tr>\n",
       "      <th>4</th>\n",
       "      <td>fNgrhHBGy5VOdJoO0oGA3A</td>\n",
       "      <td>Java Stop Trolley</td>\n",
       "      <td>NaN</td>\n",
       "      <td>Phoenix</td>\n",
       "      <td>AZ</td>\n",
       "      <td>85355</td>\n",
       "      <td>33.555614</td>\n",
       "      <td>-112.441067</td>\n",
       "      <td>5.0</td>\n",
       "      <td>7</td>\n",
       "      <td>0</td>\n",
       "      <td>True</td>\n",
       "      <td>True</td>\n",
       "      <td>NaN</td>\n",
       "      <td>{'garaje': False, 'en la calle': False, 'valid...</td>\n",
       "      <td>NaN</td>\n",
       "      <td>1</td>\n",
       "      <td>Coffee &amp; Tea, Food, Food Trucks</td>\n",
       "      <td>NaN</td>\n",
       "      <td>NaN</td>\n",
       "      <td>NaN</td>\n",
       "      <td>NaN</td>\n",
       "      <td>NaN</td>\n",
       "      <td>NaN</td>\n",
       "      <td>NaN</td>\n",
       "      <td>NaN</td>\n",
       "      <td>u'no'</td>\n",
       "      <td>NaN</td>\n",
       "      <td>True</td>\n",
       "      <td>NaN</td>\n",
       "      <td>NaN</td>\n",
       "      <td>NaN</td>\n",
       "      <td>NaN</td>\n",
       "      <td>u'none'</td>\n",
       "      <td>False</td>\n",
       "      <td>True</td>\n",
       "      <td>True</td>\n",
       "      <td>True</td>\n",
       "      <td>NaN</td>\n",
       "      <td>NaN</td>\n",
       "      <td>{'dessert': False, 'latenight': False, 'lunch'...</td>\n",
       "      <td>NaN</td>\n",
       "      <td>NaN</td>\n",
       "      <td>NaN</td>\n",
       "      <td>NaN</td>\n",
       "      <td>NaN</td>\n",
       "      <td>NaN</td>\n",
       "      <td>NaN</td>\n",
       "      <td>NaN</td>\n",
       "      <td>NaN</td>\n",
       "      <td>NaN</td>\n",
       "      <td>NaN</td>\n",
       "      <td>NaN</td>\n",
       "      <td>NaN</td>\n",
       "      <td>NaN</td>\n",
       "    </tr>\n",
       "  </tbody>\n",
       "</table>\n",
       "</div>"
      ],
      "text/plain": [
       "               negocio_id  ... abierto_24_horas\n",
       "0  DNk1f9uhKQz9H66weTBHlg  ...              NaN\n",
       "1  X3gLwIRbBHZY74yJ4xHnpg  ...              NaN\n",
       "2  q0wTXSsUsW1Q0IcJj1oYvQ  ...              NaN\n",
       "3  X5e3xIixJUN3OMagh0_oLQ  ...              NaN\n",
       "4  fNgrhHBGy5VOdJoO0oGA3A  ...              NaN\n",
       "\n",
       "[5 rows x 55 columns]"
      ]
     },
     "execution_count": 6,
     "metadata": {
      "tags": []
     },
     "output_type": "execute_result"
    }
   ],
   "source": [
    "negocio.head()"
   ]
  },
  {
   "cell_type": "markdown",
   "metadata": {
    "id": "Ynb-mCukSWcK"
   },
   "source": [
    "## Resenia"
   ]
  },
  {
   "cell_type": "code",
   "execution_count": null,
   "metadata": {
    "id": "HwBHyxdfSWIl"
   },
   "outputs": [],
   "source": [
    "resenia = pd.read_csv(root+'reseña.csv')"
   ]
  },
  {
   "cell_type": "code",
   "execution_count": null,
   "metadata": {
    "colab": {
     "base_uri": "https://localhost:8080/",
     "height": 551
    },
    "executionInfo": {
     "elapsed": 726,
     "status": "ok",
     "timestamp": 1614728079420,
     "user": {
      "displayName": "Milca Elizabeth Valdez Flores",
      "photoUrl": "",
      "userId": "18058005903088779090"
     },
     "user_tz": 300
    },
    "id": "f00XSGmjSSUP",
    "outputId": "861c024c-e0ee-4c53-b3d8-16cb563acd03"
   },
   "outputs": [
    {
     "data": {
      "text/html": [
       "<div>\n",
       "<style scoped>\n",
       "    .dataframe tbody tr th:only-of-type {\n",
       "        vertical-align: middle;\n",
       "    }\n",
       "\n",
       "    .dataframe tbody tr th {\n",
       "        vertical-align: top;\n",
       "    }\n",
       "\n",
       "    .dataframe thead th {\n",
       "        text-align: right;\n",
       "    }\n",
       "</style>\n",
       "<table border=\"1\" class=\"dataframe\">\n",
       "  <thead>\n",
       "    <tr style=\"text-align: right;\">\n",
       "      <th></th>\n",
       "      <th>reseña_id</th>\n",
       "      <th>usuario_id</th>\n",
       "      <th>negocio_id</th>\n",
       "      <th>estrellas</th>\n",
       "      <th>util</th>\n",
       "      <th>gracioso</th>\n",
       "      <th>genial</th>\n",
       "      <th>texto</th>\n",
       "      <th>fecha</th>\n",
       "    </tr>\n",
       "  </thead>\n",
       "  <tbody>\n",
       "    <tr>\n",
       "      <th>0</th>\n",
       "      <td>UmFMZ8PyXZTY2QcwzsfQYA</td>\n",
       "      <td>nIJD_7ZXHq-FX8byPMOkMQ</td>\n",
       "      <td>lbrU8StCq3yDfr-QMnGrmQ</td>\n",
       "      <td>1.0</td>\n",
       "      <td>1.0</td>\n",
       "      <td>1.0</td>\n",
       "      <td>0.0</td>\n",
       "      <td>I am actually horrified this place is still in...</td>\n",
       "      <td>2013-12-07 03:16:52</td>\n",
       "    </tr>\n",
       "    <tr>\n",
       "      <th>1</th>\n",
       "      <td>LG2ZaYiOgpr2DK_90pYjNw</td>\n",
       "      <td>V34qejxNsCbcgD8C0HVk-Q</td>\n",
       "      <td>HQl28KMwrEKHqhFrrDqVNQ</td>\n",
       "      <td>5.0</td>\n",
       "      <td>1.0</td>\n",
       "      <td>0.0</td>\n",
       "      <td>0.0</td>\n",
       "      <td>I love Deagan's. I do. I really do. The atmosp...</td>\n",
       "      <td>2015-12-05 03:18:11</td>\n",
       "    </tr>\n",
       "    <tr>\n",
       "      <th>2</th>\n",
       "      <td>L2O_INwlrRuoX05KSjc4eg</td>\n",
       "      <td>5vD2kmE25YBrbayKhykNxQ</td>\n",
       "      <td>nlxHRv1zXGT0c0K51q3jDg</td>\n",
       "      <td>5.0</td>\n",
       "      <td>2.0</td>\n",
       "      <td>0.0</td>\n",
       "      <td>0.0</td>\n",
       "      <td>This is definitely my favorite fast food sub s...</td>\n",
       "      <td>2013-05-07 07:25:25</td>\n",
       "    </tr>\n",
       "    <tr>\n",
       "      <th>3</th>\n",
       "      <td>ZayJ1zWyWgY9S_TRLT_y9Q</td>\n",
       "      <td>aq_ZxGHiri48TUXJlpRkCQ</td>\n",
       "      <td>Pthe4qk5xh4n-ef-9bvMSg</td>\n",
       "      <td>5.0</td>\n",
       "      <td>1.0</td>\n",
       "      <td>0.0</td>\n",
       "      <td>0.0</td>\n",
       "      <td>Really good place with simple decor, amazing f...</td>\n",
       "      <td>2015-11-05 23:11:05</td>\n",
       "    </tr>\n",
       "    <tr>\n",
       "      <th>4</th>\n",
       "      <td>lpFIJYpsvDxyph-kPzZ6aA</td>\n",
       "      <td>dsd-KNYKMpx6ma_sRWCSkQ</td>\n",
       "      <td>FNCJpSn0tL9iqoY3JC73qw</td>\n",
       "      <td>5.0</td>\n",
       "      <td>0.0</td>\n",
       "      <td>0.0</td>\n",
       "      <td>0.0</td>\n",
       "      <td>Awesome office and staff, very professional an...</td>\n",
       "      <td>2017-07-18 18:31:54</td>\n",
       "    </tr>\n",
       "  </tbody>\n",
       "</table>\n",
       "</div>"
      ],
      "text/plain": [
       "                reseña_id  ...                fecha\n",
       "0  UmFMZ8PyXZTY2QcwzsfQYA  ...  2013-12-07 03:16:52\n",
       "1  LG2ZaYiOgpr2DK_90pYjNw  ...  2015-12-05 03:18:11\n",
       "2  L2O_INwlrRuoX05KSjc4eg  ...  2013-05-07 07:25:25\n",
       "3  ZayJ1zWyWgY9S_TRLT_y9Q  ...  2015-11-05 23:11:05\n",
       "4  lpFIJYpsvDxyph-kPzZ6aA  ...  2017-07-18 18:31:54\n",
       "\n",
       "[5 rows x 9 columns]"
      ]
     },
     "execution_count": 19,
     "metadata": {
      "tags": []
     },
     "output_type": "execute_result"
    }
   ],
   "source": [
    "resenia.head()"
   ]
  },
  {
   "cell_type": "code",
   "execution_count": null,
   "metadata": {
    "id": "djwpXs6YahrY"
   },
   "outputs": [],
   "source": [
    "count_ = resenia['fecha'].value_counts()"
   ]
  },
  {
   "cell_type": "code",
   "execution_count": null,
   "metadata": {
    "colab": {
     "base_uri": "https://localhost:8080/"
    },
    "executionInfo": {
     "elapsed": 431,
     "status": "ok",
     "timestamp": 1614737151205,
     "user": {
      "displayName": "Milca Elizabeth Valdez Flores",
      "photoUrl": "",
      "userId": "18058005903088779090"
     },
     "user_tz": 300
    },
    "id": "836AzHT-0wC6",
    "outputId": "284d87f2-1184-4978-d653-fe8cdea4e02b"
   },
   "outputs": [
    {
     "data": {
      "text/plain": [
       "<bound method Series.max of 2014-06-30 12:08:38    6\n",
       "2014-07-28 05:36:33    6\n",
       "2015-04-06 04:31:36    5\n",
       "2011-10-10 13:26:17    5\n",
       "2012-07-09 08:22:43    5\n",
       "                      ..\n",
       "2017-05-24 21:36:16    1\n",
       "2016-04-24 23:25:58    1\n",
       "2019-06-25 17:36:16    1\n",
       "2018-03-12 13:52:20    1\n",
       "2013-05-21 22:10:26    1\n",
       "Name: fecha, Length: 5054651, dtype: int64>"
      ]
     },
     "execution_count": 119,
     "metadata": {
      "tags": []
     },
     "output_type": "execute_result"
    }
   ],
   "source": [
    "count_"
   ]
  },
  {
   "cell_type": "markdown",
   "metadata": {
    "id": "M8NPms7PSgJM"
   },
   "source": [
    "## Sugerencia"
   ]
  },
  {
   "cell_type": "code",
   "execution_count": null,
   "metadata": {
    "id": "Xe4sr0wYSfe9"
   },
   "outputs": [],
   "source": [
    "sug = pd.read_csv(root+'sugerencia.csv')"
   ]
  },
  {
   "cell_type": "code",
   "execution_count": null,
   "metadata": {
    "colab": {
     "base_uri": "https://localhost:8080/",
     "height": 279
    },
    "executionInfo": {
     "elapsed": 4149,
     "status": "ok",
     "timestamp": 1614728082854,
     "user": {
      "displayName": "Milca Elizabeth Valdez Flores",
      "photoUrl": "",
      "userId": "18058005903088779090"
     },
     "user_tz": 300
    },
    "id": "Itas9sf3Ss8X",
    "outputId": "fd722838-402a-4b18-f266-682e47968e9b"
   },
   "outputs": [
    {
     "data": {
      "text/html": [
       "<div>\n",
       "<style scoped>\n",
       "    .dataframe tbody tr th:only-of-type {\n",
       "        vertical-align: middle;\n",
       "    }\n",
       "\n",
       "    .dataframe tbody tr th {\n",
       "        vertical-align: top;\n",
       "    }\n",
       "\n",
       "    .dataframe thead th {\n",
       "        text-align: right;\n",
       "    }\n",
       "</style>\n",
       "<table border=\"1\" class=\"dataframe\">\n",
       "  <thead>\n",
       "    <tr style=\"text-align: right;\">\n",
       "      <th></th>\n",
       "      <th>usuario_id</th>\n",
       "      <th>negocio_id</th>\n",
       "      <th>texto</th>\n",
       "      <th>fecha</th>\n",
       "      <th>cantidad_halagos</th>\n",
       "    </tr>\n",
       "  </thead>\n",
       "  <tbody>\n",
       "    <tr>\n",
       "      <th>0</th>\n",
       "      <td>hf27xTME3EiCp6NL6VtWZQ</td>\n",
       "      <td>UYX5zL_Xj9WEc_Wp-FrqHw</td>\n",
       "      <td>Here for a quick mtg</td>\n",
       "      <td>2013-11-26 18:20:08</td>\n",
       "      <td>0</td>\n",
       "    </tr>\n",
       "    <tr>\n",
       "      <th>1</th>\n",
       "      <td>uEvusDwoSymbJJ0auR3muQ</td>\n",
       "      <td>Ch3HkwQYv1YKw_FO06vBWA</td>\n",
       "      <td>Cucumber strawberry refresher</td>\n",
       "      <td>2014-06-15 22:26:45</td>\n",
       "      <td>0</td>\n",
       "    </tr>\n",
       "    <tr>\n",
       "      <th>2</th>\n",
       "      <td>LltbT_fUMqZ-ZJP-vJ84IQ</td>\n",
       "      <td>GMrwDXRlAZU2zj5nH6l4vQ</td>\n",
       "      <td>8 sandwiches, $24 total...what a bargain!!! An...</td>\n",
       "      <td>2011-04-08 18:12:01</td>\n",
       "      <td>0</td>\n",
       "    </tr>\n",
       "    <tr>\n",
       "      <th>3</th>\n",
       "      <td>HHNBqfbDR8b1iq-QGxu8ww</td>\n",
       "      <td>ALwAlxItASeEs2vYAeLXHA</td>\n",
       "      <td>Great ramen! Not only is the presentation gorg...</td>\n",
       "      <td>2015-05-20 20:17:38</td>\n",
       "      <td>0</td>\n",
       "    </tr>\n",
       "    <tr>\n",
       "      <th>4</th>\n",
       "      <td>2hdR7KYAmnCk2FjTnPFsuw</td>\n",
       "      <td>rcaPajgKOJC2vo_l3xa42A</td>\n",
       "      <td>Kelly is an awesome waitress there!</td>\n",
       "      <td>2012-05-29 02:05:56</td>\n",
       "      <td>0</td>\n",
       "    </tr>\n",
       "  </tbody>\n",
       "</table>\n",
       "</div>"
      ],
      "text/plain": [
       "               usuario_id  ... cantidad_halagos\n",
       "0  hf27xTME3EiCp6NL6VtWZQ  ...                0\n",
       "1  uEvusDwoSymbJJ0auR3muQ  ...                0\n",
       "2  LltbT_fUMqZ-ZJP-vJ84IQ  ...                0\n",
       "3  HHNBqfbDR8b1iq-QGxu8ww  ...                0\n",
       "4  2hdR7KYAmnCk2FjTnPFsuw  ...                0\n",
       "\n",
       "[5 rows x 5 columns]"
      ]
     },
     "execution_count": 21,
     "metadata": {
      "tags": []
     },
     "output_type": "execute_result"
    }
   ],
   "source": [
    "sug.head()"
   ]
  },
  {
   "cell_type": "code",
   "execution_count": null,
   "metadata": {
    "id": "F1Kfd8vl1ekN"
   },
   "outputs": [],
   "source": [
    "count_s = sug['fecha'].value_counts()"
   ]
  },
  {
   "cell_type": "code",
   "execution_count": null,
   "metadata": {
    "colab": {
     "base_uri": "https://localhost:8080/"
    },
    "executionInfo": {
     "elapsed": 542,
     "status": "ok",
     "timestamp": 1614737191253,
     "user": {
      "displayName": "Milca Elizabeth Valdez Flores",
      "photoUrl": "",
      "userId": "18058005903088779090"
     },
     "user_tz": 300
    },
    "id": "_UG-c6Qw1hvD",
    "outputId": "1aa5310b-b5eb-468c-dc91-aeeb8876535e"
   },
   "outputs": [
    {
     "data": {
      "text/plain": [
       "<bound method Series.max of 2015-04-16 11:46:42    4\n",
       "2016-02-26 22:43:31    3\n",
       "2017-07-29 02:22:28    3\n",
       "2016-11-18 03:44:33    3\n",
       "2014-03-26 14:21:09    3\n",
       "                      ..\n",
       "2019-10-13 00:22:08    1\n",
       "2013-07-29 21:19:36    1\n",
       "2018-08-23 14:39:07    1\n",
       "2011-06-26 16:24:44    1\n",
       "2013-04-06 18:00:05    1\n",
       "Name: fecha, Length: 843639, dtype: int64>"
      ]
     },
     "execution_count": 121,
     "metadata": {
      "tags": []
     },
     "output_type": "execute_result"
    }
   ],
   "source": [
    "count_s.max"
   ]
  },
  {
   "cell_type": "markdown",
   "metadata": {
    "id": "JE0-1R6lSwWw"
   },
   "source": [
    "## Usuario"
   ]
  },
  {
   "cell_type": "code",
   "execution_count": null,
   "metadata": {
    "id": "kYaWFBBFSuUn"
   },
   "outputs": [],
   "source": [
    "user = pd.read_csv(root+'usuario.csv')"
   ]
  },
  {
   "cell_type": "code",
   "execution_count": null,
   "metadata": {
    "colab": {
     "base_uri": "https://localhost:8080/"
    },
    "executionInfo": {
     "elapsed": 272,
     "status": "ok",
     "timestamp": 1614739212695,
     "user": {
      "displayName": "Milca Elizabeth Valdez Flores",
      "photoUrl": "",
      "userId": "18058005903088779090"
     },
     "user_tz": 300
    },
    "id": "wiqvYevI9PxJ",
    "outputId": "75de3abf-2841-4452-f819-b7399fee2af4"
   },
   "outputs": [
    {
     "data": {
      "text/plain": [
       "(1574962, 21)"
      ]
     },
     "execution_count": 126,
     "metadata": {
      "tags": []
     },
     "output_type": "execute_result"
    }
   ],
   "source": [
    "user.shape"
   ]
  },
  {
   "cell_type": "code",
   "execution_count": null,
   "metadata": {
    "colab": {
     "base_uri": "https://localhost:8080/",
     "height": 316
    },
    "executionInfo": {
     "elapsed": 681,
     "status": "ok",
     "timestamp": 1614728140496,
     "user": {
      "displayName": "Milca Elizabeth Valdez Flores",
      "photoUrl": "",
      "userId": "18058005903088779090"
     },
     "user_tz": 300
    },
    "id": "efOBzRs_S4wQ",
    "outputId": "ce54da6c-c924-4c7e-8796-3f75b7e4e84a"
   },
   "outputs": [
    {
     "data": {
      "text/html": [
       "<div>\n",
       "<style scoped>\n",
       "    .dataframe tbody tr th:only-of-type {\n",
       "        vertical-align: middle;\n",
       "    }\n",
       "\n",
       "    .dataframe tbody tr th {\n",
       "        vertical-align: top;\n",
       "    }\n",
       "\n",
       "    .dataframe thead th {\n",
       "        text-align: right;\n",
       "    }\n",
       "</style>\n",
       "<table border=\"1\" class=\"dataframe\">\n",
       "  <thead>\n",
       "    <tr style=\"text-align: right;\">\n",
       "      <th></th>\n",
       "      <th>usuario_id</th>\n",
       "      <th>nombre</th>\n",
       "      <th>cantidad_reseñas</th>\n",
       "      <th>usuario_desde</th>\n",
       "      <th>votos_utiles</th>\n",
       "      <th>votos_graciosos</th>\n",
       "      <th>votos_geniales</th>\n",
       "      <th>amigos</th>\n",
       "      <th>cantidad_fans</th>\n",
       "      <th>promedio_estrellas_reseñas</th>\n",
       "      <th>halagos_hot</th>\n",
       "      <th>halagos_mas</th>\n",
       "      <th>halagos_perfil</th>\n",
       "      <th>halagos_adorable</th>\n",
       "      <th>halagos_lista</th>\n",
       "      <th>halagos_nota</th>\n",
       "      <th>halagos_simple</th>\n",
       "      <th>halagos_genial</th>\n",
       "      <th>halagos_gracioso</th>\n",
       "      <th>halagos_escritor</th>\n",
       "      <th>halagos_foto</th>\n",
       "    </tr>\n",
       "  </thead>\n",
       "  <tbody>\n",
       "    <tr>\n",
       "      <th>0</th>\n",
       "      <td>lq2rz2uc-mFj43x3v4LLCQ</td>\n",
       "      <td>Keith</td>\n",
       "      <td>20</td>\n",
       "      <td>2015-04-07 16:33:56</td>\n",
       "      <td>3</td>\n",
       "      <td>0</td>\n",
       "      <td>0</td>\n",
       "      <td>None</td>\n",
       "      <td>0</td>\n",
       "      <td>4.70</td>\n",
       "      <td>0</td>\n",
       "      <td>0</td>\n",
       "      <td>0</td>\n",
       "      <td>0</td>\n",
       "      <td>0</td>\n",
       "      <td>0</td>\n",
       "      <td>0</td>\n",
       "      <td>0</td>\n",
       "      <td>0</td>\n",
       "      <td>0</td>\n",
       "      <td>0</td>\n",
       "    </tr>\n",
       "    <tr>\n",
       "      <th>1</th>\n",
       "      <td>xgaE5jSGfIsVrajcTdXrBw</td>\n",
       "      <td>Mala</td>\n",
       "      <td>47</td>\n",
       "      <td>2010-06-19 02:12:52</td>\n",
       "      <td>18</td>\n",
       "      <td>4</td>\n",
       "      <td>3</td>\n",
       "      <td>v0yNu7sT8mBKvE-Pu0C-bw, NfU0zDaTMEQ4-X9dbQWd9A...</td>\n",
       "      <td>1</td>\n",
       "      <td>3.68</td>\n",
       "      <td>0</td>\n",
       "      <td>0</td>\n",
       "      <td>0</td>\n",
       "      <td>0</td>\n",
       "      <td>0</td>\n",
       "      <td>0</td>\n",
       "      <td>1</td>\n",
       "      <td>0</td>\n",
       "      <td>0</td>\n",
       "      <td>0</td>\n",
       "      <td>0</td>\n",
       "    </tr>\n",
       "    <tr>\n",
       "      <th>2</th>\n",
       "      <td>h6eV6DcLwAZ3FVqbtSo8PQ</td>\n",
       "      <td>Joan</td>\n",
       "      <td>3</td>\n",
       "      <td>2015-10-07 15:47:57</td>\n",
       "      <td>0</td>\n",
       "      <td>0</td>\n",
       "      <td>0</td>\n",
       "      <td>None</td>\n",
       "      <td>0</td>\n",
       "      <td>5.00</td>\n",
       "      <td>0</td>\n",
       "      <td>0</td>\n",
       "      <td>0</td>\n",
       "      <td>0</td>\n",
       "      <td>0</td>\n",
       "      <td>0</td>\n",
       "      <td>0</td>\n",
       "      <td>0</td>\n",
       "      <td>0</td>\n",
       "      <td>0</td>\n",
       "      <td>0</td>\n",
       "    </tr>\n",
       "    <tr>\n",
       "      <th>3</th>\n",
       "      <td>11cvSJ9Y9GrX3IRB3Z69yA</td>\n",
       "      <td>LuAnn</td>\n",
       "      <td>32</td>\n",
       "      <td>2009-03-04 23:40:28</td>\n",
       "      <td>34</td>\n",
       "      <td>5</td>\n",
       "      <td>7</td>\n",
       "      <td>rHAutRVuZDxlWryUSaYA6Q, 1WjELNfVDCFqdB7i2C9Ccg...</td>\n",
       "      <td>1</td>\n",
       "      <td>3.69</td>\n",
       "      <td>0</td>\n",
       "      <td>0</td>\n",
       "      <td>0</td>\n",
       "      <td>0</td>\n",
       "      <td>0</td>\n",
       "      <td>0</td>\n",
       "      <td>0</td>\n",
       "      <td>0</td>\n",
       "      <td>0</td>\n",
       "      <td>0</td>\n",
       "      <td>0</td>\n",
       "    </tr>\n",
       "    <tr>\n",
       "      <th>4</th>\n",
       "      <td>nLCMDP9L9hGzU5TWBkth4A</td>\n",
       "      <td>Dan</td>\n",
       "      <td>23</td>\n",
       "      <td>2011-11-24 06:28:31</td>\n",
       "      <td>3</td>\n",
       "      <td>1</td>\n",
       "      <td>2</td>\n",
       "      <td>None</td>\n",
       "      <td>0</td>\n",
       "      <td>4.70</td>\n",
       "      <td>0</td>\n",
       "      <td>0</td>\n",
       "      <td>0</td>\n",
       "      <td>0</td>\n",
       "      <td>0</td>\n",
       "      <td>0</td>\n",
       "      <td>0</td>\n",
       "      <td>0</td>\n",
       "      <td>0</td>\n",
       "      <td>0</td>\n",
       "      <td>0</td>\n",
       "    </tr>\n",
       "  </tbody>\n",
       "</table>\n",
       "</div>"
      ],
      "text/plain": [
       "               usuario_id nombre  ...  halagos_escritor halagos_foto\n",
       "0  lq2rz2uc-mFj43x3v4LLCQ  Keith  ...                 0            0\n",
       "1  xgaE5jSGfIsVrajcTdXrBw   Mala  ...                 0            0\n",
       "2  h6eV6DcLwAZ3FVqbtSo8PQ   Joan  ...                 0            0\n",
       "3  11cvSJ9Y9GrX3IRB3Z69yA  LuAnn  ...                 0            0\n",
       "4  nLCMDP9L9hGzU5TWBkth4A    Dan  ...                 0            0\n",
       "\n",
       "[5 rows x 21 columns]"
      ]
     },
     "execution_count": 23,
     "metadata": {
      "tags": []
     },
     "output_type": "execute_result"
    }
   ],
   "source": [
    "user.head()"
   ]
  },
  {
   "cell_type": "code",
   "execution_count": null,
   "metadata": {
    "id": "hNo0aMplS5qk"
   },
   "outputs": [],
   "source": []
  }
 ],
 "metadata": {
  "colab": {
   "authorship_tag": "ABX9TyNjPTIN6wgw8H+VJsV/ZIb6",
   "collapsed_sections": [
    "5HJCINbcPK2b",
    "P5e5fDjtQN9M",
    "vi7fxD37RpHI",
    "Ynb-mCukSWcK",
    "M8NPms7PSgJM",
    "JE0-1R6lSwWw"
   ],
   "mount_file_id": "1oHu-1FKKjU_U4WRlzPKL_vpmE16Dhz2s",
   "name": "Copia de blueberry.ipynb",
   "provenance": [],
   "toc_visible": true
  },
  "kernelspec": {
   "display_name": "Python 3",
   "language": "python",
   "name": "python3"
  },
  "language_info": {
   "codemirror_mode": {
    "name": "ipython",
    "version": 3
   },
   "file_extension": ".py",
   "mimetype": "text/x-python",
   "name": "python",
   "nbconvert_exporter": "python",
   "pygments_lexer": "ipython3",
   "version": "3.7.6"
  }
 },
 "nbformat": 4,
 "nbformat_minor": 1
}
