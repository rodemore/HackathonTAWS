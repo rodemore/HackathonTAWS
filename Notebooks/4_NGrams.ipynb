{
 "cells": [
  {
   "cell_type": "markdown",
   "metadata": {
    "id": "QyoIchubPd4I"
   },
   "source": [
    "## Importar Librerias"
   ]
  },
  {
   "cell_type": "code",
   "execution_count": null,
   "metadata": {
    "id": "LGa0zQ809wwO"
   },
   "outputs": [],
   "source": [
    "%load_ext google.colab.data_table\n",
    "import tarfile\n",
    "import pandas as pd\n",
    "from bokeh.io import output_notebook\n",
    "import missingno as msno\n",
    "import matplotlib.pyplot as plt\n",
    "import seaborn as sns\n",
    "output_notebook()"
   ]
  },
  {
   "cell_type": "code",
   "execution_count": null,
   "metadata": {
    "id": "swLF-F6QTNVf"
   },
   "outputs": [],
   "source": [
    "def insert_row(idx, df, df_insert):\n",
    "    dfA = df.iloc[:idx, ]\n",
    "    dfB = df.iloc[idx:, ]\n",
    "\n",
    "    df = dfA.append(df_insert).append(dfB).reset_index(drop = True)\n",
    "\n",
    "    return df"
   ]
  },
  {
   "cell_type": "markdown",
   "metadata": {
    "id": "VOZqFw55vl_K"
   },
   "source": [
    "##  !!!!!!WORDCLOUD PILASSS"
   ]
  },
  {
   "cell_type": "markdown",
   "metadata": {
    "id": "q5rid15QOmGL"
   },
   "source": [
    "## Data Resenia_procesada"
   ]
  },
  {
   "cell_type": "code",
   "execution_count": 1,
   "metadata": {
    "executionInfo": {
     "elapsed": 2181,
     "status": "ok",
     "timestamp": 1615404855850,
     "user": {
      "displayName": "Milca Elizabeth Valdez Flores",
      "photoUrl": "",
      "userId": "18058005903088779090"
     },
     "user_tz": 300
    },
    "id": "L4ZlCYlZVt1a"
   },
   "outputs": [],
   "source": [
    "from nltk.tokenize import word_tokenize\n",
    "from nltk.corpus import stopwords\n",
    "from nltk import ngrams\n",
    "import pandas as pd"
   ]
  },
  {
   "cell_type": "code",
   "execution_count": null,
   "metadata": {},
   "outputs": [],
   "source": []
  },
  {
   "cell_type": "code",
   "execution_count": 4,
   "metadata": {
    "colab": {
     "base_uri": "https://localhost:8080/"
    },
    "executionInfo": {
     "elapsed": 38550,
     "status": "ok",
     "timestamp": 1615389386268,
     "user": {
      "displayName": "Milca Elizabeth Valdez Flores",
      "photoUrl": "",
      "userId": "18058005903088779090"
     },
     "user_tz": 300
    },
    "id": "G26JRTPPOlHY",
    "outputId": "3b806ba9-6857-47ab-cb17-56303efd18dd"
   },
   "outputs": [
    {
     "name": "stderr",
     "output_type": "stream",
     "text": [
      "/usr/local/lib/python3.7/dist-packages/IPython/core/interactiveshell.py:2718: DtypeWarning: Columns (1,2,4,5) have mixed types.Specify dtype option on import or set low_memory=False.\n",
      "  interactivity=interactivity, compiler=compiler, result=result)\n"
     ]
    }
   ],
   "source": [
    "# Google colab\n",
    "#root = '/content/drive/MyDrive/0AccTeam/'\n",
    "#r_pro = pd.read_csv('/content/drive/MyDrive/0AccTeam/datasets_consumo/reseña_preprocesada2.csv')\n",
    "\n",
    "r_pro = pd.read_csv('./reseña_preprocesada2.csv')"
   ]
  },
  {
   "cell_type": "code",
   "execution_count": 5,
   "metadata": {
    "executionInfo": {
     "elapsed": 3881,
     "status": "ok",
     "timestamp": 1615389400184,
     "user": {
      "displayName": "Milca Elizabeth Valdez Flores",
      "photoUrl": "",
      "userId": "18058005903088779090"
     },
     "user_tz": 300
    },
    "id": "z4G0ni-zlTqm"
   },
   "outputs": [],
   "source": [
    "r_pro = r_pro[r_pro['texto'].notna()]\n",
    "size_ = round((r_pro.shape[0]*40)/100)\n",
    "sample_ = r_pro.sample(n=size_)\n",
    "r_pro=0"
   ]
  },
  {
   "cell_type": "code",
   "execution_count": 6,
   "metadata": {
    "executionInfo": {
     "elapsed": 46536,
     "status": "ok",
     "timestamp": 1615389450686,
     "user": {
      "displayName": "Milca Elizabeth Valdez Flores",
      "photoUrl": "",
      "userId": "18058005903088779090"
     },
     "user_tz": 300
    },
    "id": "sxDNksX-PkxK"
   },
   "outputs": [],
   "source": [
    "#Bigrams\n",
    "n = 2\n",
    "bigrams = ngrams(\" \".join(sample_.texto).split(), n)\n",
    "bigrams = pd.Series(bigrams)"
   ]
  },
  {
   "cell_type": "code",
   "execution_count": 7,
   "metadata": {
    "executionInfo": {
     "elapsed": 131368,
     "status": "ok",
     "timestamp": 1615389536034,
     "user": {
      "displayName": "Milca Elizabeth Valdez Flores",
      "photoUrl": "",
      "userId": "18058005903088779090"
     },
     "user_tz": 300
    },
    "id": "-R_u4o00uvuc"
   },
   "outputs": [],
   "source": [
    "pd.DataFrame(bigrams.value_counts()).to_csv('bigrams1.csv')"
   ]
  },
  {
   "cell_type": "code",
   "execution_count": 8,
   "metadata": {
    "executionInfo": {
     "elapsed": 6057,
     "status": "ok",
     "timestamp": 1615390983532,
     "user": {
      "displayName": "Milca Elizabeth Valdez Flores",
      "photoUrl": "",
      "userId": "18058005903088779090"
     },
     "user_tz": 300
    },
    "id": "YBGZJ4vuzgzm"
   },
   "outputs": [],
   "source": [
    "bigrams=0"
   ]
  },
  {
   "cell_type": "code",
   "execution_count": 9,
   "metadata": {
    "executionInfo": {
     "elapsed": 49972,
     "status": "ok",
     "timestamp": 1615393166179,
     "user": {
      "displayName": "Milca Elizabeth Valdez Flores",
      "photoUrl": "",
      "userId": "18058005903088779090"
     },
     "user_tz": 300
    },
    "id": "4Mud_1emnkmT"
   },
   "outputs": [],
   "source": [
    "#3grams\n",
    "n = 3\n",
    "trigrams = ngrams(\" \".join(sample_.texto).split(), n)\n",
    "trigrams = pd.Series(trigrams)"
   ]
  },
  {
   "cell_type": "code",
   "execution_count": 10,
   "metadata": {
    "executionInfo": {
     "elapsed": 253505,
     "status": "ok",
     "timestamp": 1615393423664,
     "user": {
      "displayName": "Milca Elizabeth Valdez Flores",
      "photoUrl": "",
      "userId": "18058005903088779090"
     },
     "user_tz": 300
    },
    "id": "XeIXjOjRtGru"
   },
   "outputs": [],
   "source": [
    "pd.DataFrame(trigrams.value_counts()).to_csv('trigrams1.csv')"
   ]
  },
  {
   "cell_type": "code",
   "execution_count": 11,
   "metadata": {
    "executionInfo": {
     "elapsed": 4230,
     "status": "ok",
     "timestamp": 1615393459994,
     "user": {
      "displayName": "Milca Elizabeth Valdez Flores",
      "photoUrl": "",
      "userId": "18058005903088779090"
     },
     "user_tz": 300
    },
    "id": "sGb1jiqZ80ys"
   },
   "outputs": [],
   "source": [
    "trigrams=0"
   ]
  },
  {
   "cell_type": "code",
   "execution_count": 12,
   "metadata": {
    "executionInfo": {
     "elapsed": 46496,
     "status": "ok",
     "timestamp": 1615393532853,
     "user": {
      "displayName": "Milca Elizabeth Valdez Flores",
      "photoUrl": "",
      "userId": "18058005903088779090"
     },
     "user_tz": 300
    },
    "id": "GgVNksyHw6_9"
   },
   "outputs": [],
   "source": [
    "#4grams\n",
    "n = 4\n",
    "fograms = ngrams(\" \".join(sample_.texto).split(), n)\n",
    "fograms = pd.Series(fograms)"
   ]
  },
  {
   "cell_type": "code",
   "execution_count": 13,
   "metadata": {
    "executionInfo": {
     "elapsed": 318694,
     "status": "ok",
     "timestamp": 1615393851585,
     "user": {
      "displayName": "Milca Elizabeth Valdez Flores",
      "photoUrl": "",
      "userId": "18058005903088779090"
     },
     "user_tz": 300
    },
    "id": "LOD-iiMehUBD"
   },
   "outputs": [],
   "source": [
    "pd.DataFrame(fograms.value_counts()).to_csv('fograms1.csv')"
   ]
  },
  {
   "cell_type": "code",
   "execution_count": 14,
   "metadata": {
    "executionInfo": {
     "elapsed": 290775,
     "status": "ok",
     "timestamp": 1615393853877,
     "user": {
      "displayName": "Milca Elizabeth Valdez Flores",
      "photoUrl": "",
      "userId": "18058005903088779090"
     },
     "user_tz": 300
    },
    "id": "BXC_2Zyv9JP0"
   },
   "outputs": [],
   "source": [
    "fograms=0"
   ]
  },
  {
   "cell_type": "code",
   "execution_count": 15,
   "metadata": {
    "executionInfo": {
     "elapsed": 51057,
     "status": "ok",
     "timestamp": 1615393904952,
     "user": {
      "displayName": "Milca Elizabeth Valdez Flores",
      "photoUrl": "",
      "userId": "18058005903088779090"
     },
     "user_tz": 300
    },
    "id": "2OjIto3fxMfu"
   },
   "outputs": [],
   "source": [
    "#5grams\n",
    "n = 5\n",
    "figrams = ngrams(\" \".join(sample_.texto).split(), n)\n",
    "figrams = pd.Series(figrams)"
   ]
  },
  {
   "cell_type": "code",
   "execution_count": 16,
   "metadata": {
    "executionInfo": {
     "elapsed": 399564,
     "status": "ok",
     "timestamp": 1615394253480,
     "user": {
      "displayName": "Milca Elizabeth Valdez Flores",
      "photoUrl": "",
      "userId": "18058005903088779090"
     },
     "user_tz": 300
    },
    "id": "TVj0SLpYar_G"
   },
   "outputs": [],
   "source": [
    "pd.DataFrame(figrams.value_counts()).to_csv('figrams1.csv')"
   ]
  },
  {
   "cell_type": "code",
   "execution_count": null,
   "metadata": {
    "id": "zTiwSxtFj4T6"
   },
   "outputs": [],
   "source": [
    "Bigram = pd.read_csv('bigram.csv',chunksize=100)\n",
    "Bigram."
   ]
  }
 ],
 "metadata": {
  "colab": {
   "authorship_tag": "ABX9TyOBHE8MkcpWR/2sg76hdxql",
   "collapsed_sections": [],
   "mount_file_id": "1IkRGMDdpA5lew2ubv7ZvhwCyoTaEEeRC",
   "name": "blueberry.ipynb",
   "provenance": [],
   "toc_visible": true
  },
  "kernelspec": {
   "display_name": "Python 3",
   "language": "python",
   "name": "python3"
  },
  "language_info": {
   "codemirror_mode": {
    "name": "ipython",
    "version": 3
   },
   "file_extension": ".py",
   "mimetype": "text/x-python",
   "name": "python",
   "nbconvert_exporter": "python",
   "pygments_lexer": "ipython3",
   "version": "3.7.6"
  }
 },
 "nbformat": 4,
 "nbformat_minor": 1
}
