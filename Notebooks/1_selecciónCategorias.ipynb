{
 "cells": [
  {
   "cell_type": "code",
   "execution_count": null,
   "metadata": {
    "id": "wkT8sQ4NFF9t"
   },
   "outputs": [],
   "source": [
    "import pandas as pd\n",
    "import seaborn as sns\n",
    "import matplotlib.pyplot as plt\n",
    "import math\n",
    "import matplotlib.ticker as mtick\n",
    "%matplotlib inline"
   ]
  },
  {
   "cell_type": "code",
   "execution_count": null,
   "metadata": {
    "id": "_4I2BPjHHEwj"
   },
   "outputs": [],
   "source": []
  },
  {
   "cell_type": "markdown",
   "metadata": {
    "id": "mUfLJ6X7HGYS"
   },
   "source": [
    "### Lectura de archivos"
   ]
  },
  {
   "cell_type": "code",
   "execution_count": null,
   "metadata": {
    "colab": {
     "base_uri": "https://localhost:8080/"
    },
    "executionInfo": {
     "elapsed": 46953,
     "status": "ok",
     "timestamp": 1614826113177,
     "user": {
      "displayName": "Robert Denilson Moreno Carrillo",
      "photoUrl": "https://lh3.googleusercontent.com/a-/AOh14Gh_NNO6BQE7t-VQ_S1KgEL5kb5JfpWvhBVvEcZS=s64",
      "userId": "16720048605800441930"
     },
     "user_tz": 300
    },
    "id": "6ZEq1vjWIXU_",
    "outputId": "7d69a21f-34f4-442c-ea45-06fa3de36553"
   },
   "outputs": [],
   "source": [
    "#Google colab\n",
    "#from google.colab import drive\n",
    "#drive.mount('/content/drive')\n",
    "#root = '/content/drive/MyDrive/0AccTeam/'"
   ]
  },
  {
   "cell_type": "code",
   "execution_count": null,
   "metadata": {},
   "outputs": [],
   "source": [
    "root = './Blueberry'"
   ]
  },
  {
   "cell_type": "code",
   "execution_count": null,
   "metadata": {
    "id": "7p1duo7YFF-A"
   },
   "outputs": [],
   "source": [
    "review_data = pd.read_csv(root+\"reseña.csv\")"
   ]
  },
  {
   "cell_type": "code",
   "execution_count": null,
   "metadata": {
    "id": "popiJRz4HV1O"
   },
   "outputs": [],
   "source": [
    "#Eliminar el texto para liberar memoria, ya que este análisis no utilizará el texto\n",
    "del review_data[\"texto\"]"
   ]
  },
  {
   "cell_type": "code",
   "execution_count": null,
   "metadata": {
    "colab": {
     "base_uri": "https://localhost:8080/"
    },
    "executionInfo": {
     "elapsed": 3323,
     "status": "ok",
     "timestamp": 1614826263599,
     "user": {
      "displayName": "Robert Denilson Moreno Carrillo",
      "photoUrl": "https://lh3.googleusercontent.com/a-/AOh14Gh_NNO6BQE7t-VQ_S1KgEL5kb5JfpWvhBVvEcZS=s64",
      "userId": "16720048605800441930"
     },
     "user_tz": 300
    },
    "id": "A5FwcUJwFF-B",
    "outputId": "3250f057-e956-4ad5-a5d0-6d74fbef8bd8"
   },
   "outputs": [
    {
     "name": "stderr",
     "output_type": "stream",
     "text": [
      "/usr/local/lib/python3.7/dist-packages/IPython/core/interactiveshell.py:2718: DtypeWarning: Columns (16,49,52,53,54) have mixed types.Specify dtype option on import or set low_memory=False.\n",
      "  interactivity=interactivity, compiler=compiler, result=result)\n"
     ]
    }
   ],
   "source": [
    "negocio_data = pd.read_csv(root+'negocio.csv')"
   ]
  },
  {
   "cell_type": "code",
   "execution_count": null,
   "metadata": {
    "colab": {
     "base_uri": "https://localhost:8080/"
    },
    "executionInfo": {
     "elapsed": 427,
     "status": "ok",
     "timestamp": 1614826267691,
     "user": {
      "displayName": "Robert Denilson Moreno Carrillo",
      "photoUrl": "https://lh3.googleusercontent.com/a-/AOh14Gh_NNO6BQE7t-VQ_S1KgEL5kb5JfpWvhBVvEcZS=s64",
      "userId": "16720048605800441930"
     },
     "user_tz": 300
    },
    "id": "KiGoeqGdFF-C",
    "outputId": "84555962-cd75-4920-dd5f-9400e504fc8b"
   },
   "outputs": [
    {
     "data": {
      "text/plain": [
       "Index(['negocio_id', 'nombre', 'direccion', 'ciudad', 'estado',\n",
       "       'codigo_postal', 'latitud', 'longitud', 'estrellas', 'cantidad_reseñas',\n",
       "       'abierto', 'acepta_tarjeta_credito', 'tiene_parqueo_bicicletas',\n",
       "       'adecuado_para_niños', 'parqueo', 'solo_con_cita', 'rango_precios',\n",
       "       'categorias', 'atencion_lunes', 'atencion_martes', 'atencion_miercoles',\n",
       "       'atencion_jueves', 'atencion_viernes', 'atencion_sabado',\n",
       "       'atencion_domingo', 'permite_perros', 'tiene_wifi',\n",
       "       'codigo_de_vestimenta', 'para_llevar', 'nivel_de_ruido',\n",
       "       'acepta_reservaciones', 'adecuado_para_grupos', 'tiene_tv',\n",
       "       'vende_alcohol', 'entregas_a_domicilio', 'mesas_al_aire_libre',\n",
       "       'tiene_mesero', 'adecuado_para_sillas_de_ruedas', 'acepta_seguro',\n",
       "       'ambiente', 'adecuado_para_comer', 'tiene_happy_hour', 'acepta_bitcoin',\n",
       "       'acepta_llevar_bebida_propia', 'adecuado_para_bailar',\n",
       "       'tiene_guardarropa', 'mejores_noches', 'musica', 'permite_fumar',\n",
       "       'restriccion_dietas', 'tiene_drive_thru', 'especialidades_en_peinado',\n",
       "       'edad_permitida', 'servcio_en_la_barra', 'abierto_24_horas'],\n",
       "      dtype='object')"
      ]
     },
     "execution_count": 15,
     "metadata": {
      "tags": []
     },
     "output_type": "execute_result"
    }
   ],
   "source": [
    "negocio_data.columns"
   ]
  },
  {
   "cell_type": "code",
   "execution_count": null,
   "metadata": {
    "id": "576MrklSFF-F"
   },
   "outputs": [],
   "source": [
    "#Categorías extraidas de la plataforma\n",
    "categories = [\"Active Life\",\n",
    "              \"Arts & Entertainment\",\n",
    "              \"Automotive\",\"Education\",\n",
    "              \"Event Planning & Services\",\n",
    "              \"Food\",\n",
    "              \"Local Flavour\",\n",
    "              \"Local Flavor\",\n",
    "              \"Local Services\",\n",
    "              \"Nightlife\",\n",
    "              \"Pets\",\n",
    "              \"Professional Services\",\n",
    "              \"Public Services & Government\",\n",
    "              \"Restaurants\",\n",
    "              \"Shopping\",\n",
    "              \"Beauty & Spas\",\n",
    "              \"Financial Services\",\n",
    "              \"Health & Medical\",\n",
    "              \"Home Services\",\n",
    "              \"Hotels & Travel\",\n",
    "              \"Mass Media\",\n",
    "              \"Real Estate\",\n",
    "              \"Religious Organizations\"]"
   ]
  },
  {
   "cell_type": "code",
   "execution_count": null,
   "metadata": {
    "id": "CzH_cALEFF-G"
   },
   "outputs": [],
   "source": [
    "def getCategorie(categorie_string):\n",
    "    categories_set =  set(categorie_string.split(\", \")) if type(categorie_string) == str else set()\n",
    "    intersection = categories_set.intersection(set(categories))\n",
    "    return \"Other\" if len(intersection) == 0 else intersection.pop()"
   ]
  },
  {
   "cell_type": "code",
   "execution_count": null,
   "metadata": {
    "id": "TcQ_7y_zFF-G"
   },
   "outputs": [],
   "source": [
    "cateogories_data[\"categoria\"] = cateogories_data.categorias.apply(getCategorie)"
   ]
  },
  {
   "cell_type": "code",
   "execution_count": null,
   "metadata": {
    "id": "ekYQIoCwJtas"
   },
   "outputs": [],
   "source": [
    "pd.to_csv(root+'negocio_categorias.csv')"
   ]
  },
  {
   "cell_type": "code",
   "execution_count": null,
   "metadata": {
    "id": "cuvEGsezKGfK"
   },
   "outputs": [],
   "source": []
  },
  {
   "cell_type": "markdown",
   "metadata": {
    "id": "IHpMit1qKHJH"
   },
   "source": [
    "### Análisis de Tipo de NEGOCIOS"
   ]
  },
  {
   "cell_type": "code",
   "execution_count": null,
   "metadata": {
    "colab": {
     "base_uri": "https://localhost:8080/"
    },
    "executionInfo": {
     "elapsed": 2467,
     "status": "ok",
     "timestamp": 1614826492858,
     "user": {
      "displayName": "Robert Denilson Moreno Carrillo",
      "photoUrl": "https://lh3.googleusercontent.com/a-/AOh14Gh_NNO6BQE7t-VQ_S1KgEL5kb5JfpWvhBVvEcZS=s64",
      "userId": "16720048605800441930"
     },
     "user_tz": 300
    },
    "id": "TA879iLKJtnh",
    "outputId": "57fe449e-22f0-4623-f17b-f06acf10da77"
   },
   "outputs": [
    {
     "name": "stderr",
     "output_type": "stream",
     "text": [
      "/usr/local/lib/python3.7/dist-packages/IPython/core/interactiveshell.py:2718: DtypeWarning: Columns (16,49,52,53,54) have mixed types.Specify dtype option on import or set low_memory=False.\n",
      "  interactivity=interactivity, compiler=compiler, result=result)\n"
     ]
    }
   ],
   "source": [
    "cateogories_data = pd.read_csv(root+'negocio_categorias.csv')"
   ]
  },
  {
   "cell_type": "code",
   "execution_count": null,
   "metadata": {
    "id": "B24sGzOxFF-H"
   },
   "outputs": [],
   "source": []
  },
  {
   "cell_type": "code",
   "execution_count": null,
   "metadata": {
    "id": "jDDc2Dk9FF-I"
   },
   "outputs": [],
   "source": [
    "grouped_categories = ((cateogories_data.groupby(\"categoria\").count()/n)*100).sort_values(by=\"negocio_id\",ascending=False)"
   ]
  },
  {
   "cell_type": "code",
   "execution_count": null,
   "metadata": {
    "id": "wZhTJKzyFF-I"
   },
   "outputs": [],
   "source": [
    "n = cateogories_data.shape[0]"
   ]
  },
  {
   "cell_type": "code",
   "execution_count": null,
   "metadata": {
    "id": "9ON1OxpSKgza"
   },
   "outputs": [],
   "source": [
    "# Agregar el porcentaje a las barras\n",
    "# Agrupar las 3 categorías a elegir\n",
    "# Agrupar las 10 últimas categorías como OTRAS\n",
    "# Agregar título"
   ]
  },
  {
   "cell_type": "code",
   "execution_count": null,
   "metadata": {
    "colab": {
     "base_uri": "https://localhost:8080/",
     "height": 514
    },
    "executionInfo": {
     "elapsed": 991,
     "status": "ok",
     "timestamp": 1614826635865,
     "user": {
      "displayName": "Robert Denilson Moreno Carrillo",
      "photoUrl": "https://lh3.googleusercontent.com/a-/AOh14Gh_NNO6BQE7t-VQ_S1KgEL5kb5JfpWvhBVvEcZS=s64",
      "userId": "16720048605800441930"
     },
     "user_tz": 300
    },
    "id": "htD0Gi8cFF-J",
    "outputId": "615702fd-dfa4-43b4-fbf9-d78408c2b36b",
    "scrolled": false
   },
   "outputs": [
    {
     "data": {
      "text/plain": [
       "Text(0.5, 0, 'Porcentajes')"
      ]
     },
     "execution_count": 34,
     "metadata": {
      "tags": []
     },
     "output_type": "execute_result"
    },
    {
     "data": {
      "image/png": "[encoded data removed]",
      "text/plain": [
       "<Figure size 864x576 with 1 Axes>"
      ]
     },
     "metadata": {
      "needs_background": "light",
      "tags": []
     },
     "output_type": "display_data"
    }
   ],
   "source": [
    "plt.figure(figsize=(12,8))\n",
    "plt.xlim([0, 100])\n",
    "fmt = \"%.0f%%\"\n",
    "xticks = mtick.FormatStrFormatter(fmt)\n",
    "ax = sns.barplot(y=\"categoria\", x=\"negocio_id\", data=grouped_categories.reset_index())\n",
    "ax.xaxis.set_major_formatter(xticks)\n",
    "ax.set_ylabel(\"Categorias\")\n",
    "ax.set_xlabel(\"Porcentajes\")"
   ]
  },
  {
   "cell_type": "code",
   "execution_count": null,
   "metadata": {
    "colab": {
     "base_uri": "https://localhost:8080/"
    },
    "executionInfo": {
     "elapsed": 489,
     "status": "ok",
     "timestamp": 1614827617268,
     "user": {
      "displayName": "Robert Denilson Moreno Carrillo",
      "photoUrl": "https://lh3.googleusercontent.com/a-/AOh14Gh_NNO6BQE7t-VQ_S1KgEL5kb5JfpWvhBVvEcZS=s64",
      "userId": "16720048605800441930"
     },
     "user_tz": 300
    },
    "id": "lpAMTh1XFF-Q",
    "outputId": "b546f274-f3af-4a3b-90f3-914bd36fe726"
   },
   "outputs": [
    {
     "data": {
      "text/plain": [
       "38.204567976407944"
      ]
     },
     "execution_count": 56,
     "metadata": {
      "tags": []
     },
     "output_type": "execute_result"
    }
   ],
   "source": [
    "# quesesto\n",
    "grouped_categories.loc[[\"Restaurants\",\"Food\", \"Nightlife\"]].sum()[0]"
   ]
  },
  {
   "cell_type": "code",
   "execution_count": null,
   "metadata": {
    "id": "MS2VB0hAQcUA"
   },
   "outputs": [],
   "source": [
    "negocios_consumo = cateogories_data[cateogories_data.categoria.isin([\"Restaurants\",\"Food\", \"Nightlife\"])].negocio_id"
   ]
  },
  {
   "cell_type": "code",
   "execution_count": null,
   "metadata": {},
   "outputs": [],
   "source": []
  },
  {
   "cell_type": "code",
   "execution_count": null,
   "metadata": {
    "colab": {
     "base_uri": "https://localhost:8080/"
    },
    "executionInfo": {
     "elapsed": 612,
     "status": "ok",
     "timestamp": 1614828280568,
     "user": {
      "displayName": "Robert Denilson Moreno Carrillo",
      "photoUrl": "https://lh3.googleusercontent.com/a-/AOh14Gh_NNO6BQE7t-VQ_S1KgEL5kb5JfpWvhBVvEcZS=s64",
      "userId": "16720048605800441930"
     },
     "user_tz": 300
    },
    "id": "eXiUIWhTPk23",
    "outputId": "a9952570-1299-40d6-c7cb-36c7d1bceab2"
   },
   "outputs": [
    {
     "data": {
      "text/plain": [
       "5124441"
      ]
     },
     "execution_count": 71,
     "metadata": {
      "tags": []
     },
     "output_type": "execute_result"
    }
   ],
   "source": [
    "# cantidad de negocios\n",
    "review_data.negocio_id.count()"
   ]
  },
  {
   "cell_type": "code",
   "execution_count": null,
   "metadata": {
    "id": "e9byFV4aQ3Tc"
   },
   "outputs": [],
   "source": [
    "review_data_consumo = review_data[review_data.negocio_id.isin(negocios_consumo)]"
   ]
  },
  {
   "cell_type": "code",
   "execution_count": null,
   "metadata": {
    "colab": {
     "base_uri": "https://localhost:8080/"
    },
    "executionInfo": {
     "elapsed": 581,
     "status": "ok",
     "timestamp": 1614828355002,
     "user": {
      "displayName": "Robert Denilson Moreno Carrillo",
      "photoUrl": "https://lh3.googleusercontent.com/a-/AOh14Gh_NNO6BQE7t-VQ_S1KgEL5kb5JfpWvhBVvEcZS=s64",
      "userId": "16720048605800441930"
     },
     "user_tz": 300
    },
    "id": "6_QN7d5PPnXF",
    "outputId": "89594f3c-4d40-4be8-8a50-4365279385cd"
   },
   "outputs": [
    {
     "data": {
      "text/plain": [
       "3505934"
      ]
     },
     "execution_count": 77,
     "metadata": {
      "tags": []
     },
     "output_type": "execute_result"
    }
   ],
   "source": [
    "# cantidad de negocios de consumo\n",
    "review_data_consumo.negocio_id.count()"
   ]
  },
  {
   "cell_type": "code",
   "execution_count": 1,
   "metadata": {
    "colab": {
     "base_uri": "https://localhost:8080/"
    },
    "executionInfo": {
     "elapsed": 477,
     "status": "ok",
     "timestamp": 1614828375528,
     "user": {
      "displayName": "Robert Denilson Moreno Carrillo",
      "photoUrl": "https://lh3.googleusercontent.com/a-/AOh14Gh_NNO6BQE7t-VQ_S1KgEL5kb5JfpWvhBVvEcZS=s64",
      "userId": "16720048605800441930"
     },
     "user_tz": 300
    },
    "id": "Xec5UCyBRSA8",
    "outputId": "0bfc4e13-4dd2-4b0b-854d-5f2acf1af6f0"
   },
   "outputs": [
    {
     "data": {
      "text/plain": [
       "68.41593063516586"
      ]
     },
     "execution_count": 1,
     "metadata": {},
     "output_type": "execute_result"
    }
   ],
   "source": [
    "# porcentaje de negocios de consumo \n",
    "(3505934 / 5124441) *100"
   ]
  },
  {
   "cell_type": "code",
   "execution_count": null,
   "metadata": {
    "id": "pw6EUnm3NA9A"
   },
   "outputs": [],
   "source": [
    "#Google colab\n",
    "#consumo_dir = '/content/drive/MyDrive/0AccTeam/datasets_consumo/'\n",
    "\n",
    "consumo_dir = './datasets_consumo'"
   ]
  },
  {
   "cell_type": "markdown",
   "metadata": {
    "id": "Ely2z3wER-7o"
   },
   "source": [
    "* 3 de 23 categorías. \n",
    "* Estas 3 categorías representan el 38% de los negocios  \n",
    "* Estas 3 categorías representan el 68% de las reseñas\n"
   ]
  },
  {
   "cell_type": "code",
   "execution_count": null,
   "metadata": {
    "id": "9jBly5M5R8W7"
   },
   "outputs": [],
   "source": [
    "review_data = review_data[review_data.negocio_id.isin(negocios_consumo)]"
   ]
  },
  {
   "cell_type": "code",
   "execution_count": null,
   "metadata": {
    "id": "lN88Nu0KPGXj"
   },
   "outputs": [],
   "source": [
    "review_data.to_csv(consumo_dir+ \"reseña_consumo.csv\", index=False)"
   ]
  },
  {
   "cell_type": "code",
   "execution_count": null,
   "metadata": {
    "id": "p393pY6ISI5c"
   },
   "outputs": [],
   "source": [
    "review_data_consumo.to_csv(consumo_dir+ \"reseña_sin_comentario_consumo.csv\", index=False)"
   ]
  },
  {
   "cell_type": "code",
   "execution_count": null,
   "metadata": {
    "id": "PBV5KH5BUnmF"
   },
   "outputs": [],
   "source": [
    "cateogories_data[cateogories_data.negocio_id.isin(negocios_consumo)].to_csv(consumo_dir+ \"negocio_consumo.csv\", index=False)"
   ]
  },
  {
   "cell_type": "markdown",
   "metadata": {},
   "source": [
    "### !!!!!!!!!! Obtener el porcentaje de reseñas de la categorías de consumo"
   ]
  },
  {
   "cell_type": "code",
   "execution_count": null,
   "metadata": {
    "id": "JLQ1UqEjSJYn"
   },
   "outputs": [],
   "source": [
    "cateogories_data = 0"
   ]
  },
  {
   "cell_type": "code",
   "execution_count": null,
   "metadata": {
    "colab": {
     "base_uri": "https://localhost:8080/",
     "height": 281
    },
    "executionInfo": {
     "elapsed": 1039,
     "status": "ok",
     "timestamp": 1614826978075,
     "user": {
      "displayName": "Robert Denilson Moreno Carrillo",
      "photoUrl": "https://lh3.googleusercontent.com/a-/AOh14Gh_NNO6BQE7t-VQ_S1KgEL5kb5JfpWvhBVvEcZS=s64",
      "userId": "16720048605800441930"
     },
     "user_tz": 300
    },
    "id": "FtPlPk2JK9Q6",
    "outputId": "422a1c10-e594-4efc-dd6b-d4faf7070303"
   },
   "outputs": [
    {
     "data": {
      "image/png": "[encoded data removed]",
      "text/plain": [
       "<Figure size 432x288 with 1 Axes>"
      ]
     },
     "metadata": {
      "needs_background": "light",
      "tags": []
     },
     "output_type": "display_data"
    }
   ],
   "source": [
    "%matplotlib \n",
    "negocio_data[[\"negocio_id\", \"nombre\"]].groupby(\"nombre\").count().hist(bins=(2,4,8,16,32,64,128,256,512))\n",
    "plt.show()"
   ]
  },
  {
   "cell_type": "code",
   "execution_count": null,
   "metadata": {
    "id": "mMUHrFdeFF-S"
   },
   "outputs": [],
   "source": [
    "x = negocio_data.groupby(['nombre']).count()[negocio_data.groupby(['nombre']).count().negocio_id > 0].sort_values(by=\"negocio_id\",ascending=False).reset_index()"
   ]
  },
  {
   "cell_type": "code",
   "execution_count": null,
   "metadata": {
    "id": "SM-Yy-KyFF-S",
    "outputId": "6baea332-9261-4e1d-b444-f6996b218d73"
   },
   "outputs": [
    {
     "data": {
      "text/plain": [
       "<matplotlib.axes._subplots.AxesSubplot at 0x1a2c8228eb0>"
      ]
     },
     "execution_count": 215,
     "metadata": {
      "tags": []
     },
     "output_type": "execute_result"
    },
    {
     "data": {
      "image/png": "[encoded data removed]",
      "text/plain": [
       "<Figure size 1080x576 with 1 Axes>"
      ]
     },
     "metadata": {
      "needs_background": "light",
      "tags": []
     },
     "output_type": "display_data"
    }
   ],
   "source": [
    "plt.figure(figsize=(15,8))\n",
    "sns.boxplot(x=x[\"negocio_id\"])"
   ]
  },
  {
   "cell_type": "code",
   "execution_count": null,
   "metadata": {
    "id": "AKLHiXGDFF-T",
    "outputId": "a092c7f1-9907-40cf-a856-1966d52e140c",
    "scrolled": false
   },
   "outputs": [
    {
     "data": {
      "text/plain": [
       "<seaborn.axisgrid.FacetGrid at 0x1a2c60ed1c0>"
      ]
     },
     "execution_count": 222,
     "metadata": {
      "tags": []
     },
     "output_type": "execute_result"
    },
    {
     "data": {
      "image/png": "[encoded data removed]",
      "text/plain": [
       "<Figure size 360x360 with 1 Axes>"
      ]
     },
     "metadata": {
      "needs_background": "light",
      "tags": []
     },
     "output_type": "display_data"
    }
   ],
   "source": [
    "sns.displot(data=x, x=\"negocio_id\")"
   ]
  },
  {
   "cell_type": "code",
   "execution_count": null,
   "metadata": {
    "id": "bPKKBl1oFF-V"
   },
   "outputs": [],
   "source": [
    "negocio_data[\"categoria\"] = negocio_data.categorias.apply(getCategorie)"
   ]
  },
  {
   "cell_type": "code",
   "execution_count": null,
   "metadata": {
    "id": "SXwDISnZFF-X"
   },
   "outputs": [],
   "source": [
    "negocio_data.to_csv(\"negocio_categorias.csv\",index=False)"
   ]
  },
  {
   "cell_type": "code",
   "execution_count": null,
   "metadata": {
    "id": "foTUrN-CFF-Y",
    "outputId": "26b7bdad-c802-4b0a-ffbc-714c35e08bb7"
   },
   "outputs": [
    {
     "data": {
      "text/html": [
       "<div>\n",
       "<style scoped>\n",
       "    .dataframe tbody tr th:only-of-type {\n",
       "        vertical-align: middle;\n",
       "    }\n",
       "\n",
       "    .dataframe tbody tr th {\n",
       "        vertical-align: top;\n",
       "    }\n",
       "\n",
       "    .dataframe thead th {\n",
       "        text-align: right;\n",
       "    }\n",
       "</style>\n",
       "<table border=\"1\" class=\"dataframe\">\n",
       "  <thead>\n",
       "    <tr style=\"text-align: right;\">\n",
       "      <th></th>\n",
       "      <th>reseña_id</th>\n",
       "      <th>usuario_id</th>\n",
       "      <th>negocio_id</th>\n",
       "      <th>estrellas</th>\n",
       "      <th>util</th>\n",
       "      <th>gracioso</th>\n",
       "      <th>genial</th>\n",
       "      <th>fecha</th>\n",
       "    </tr>\n",
       "  </thead>\n",
       "  <tbody>\n",
       "    <tr>\n",
       "      <th>0</th>\n",
       "      <td>UmFMZ8PyXZTY2QcwzsfQYA</td>\n",
       "      <td>nIJD_7ZXHq-FX8byPMOkMQ</td>\n",
       "      <td>lbrU8StCq3yDfr-QMnGrmQ</td>\n",
       "      <td>1.0</td>\n",
       "      <td>1.0</td>\n",
       "      <td>1.0</td>\n",
       "      <td>0.0</td>\n",
       "      <td>2013-12-07 03:16:52</td>\n",
       "    </tr>\n",
       "    <tr>\n",
       "      <th>1</th>\n",
       "      <td>LG2ZaYiOgpr2DK_90pYjNw</td>\n",
       "      <td>V34qejxNsCbcgD8C0HVk-Q</td>\n",
       "      <td>HQl28KMwrEKHqhFrrDqVNQ</td>\n",
       "      <td>5.0</td>\n",
       "      <td>1.0</td>\n",
       "      <td>0.0</td>\n",
       "      <td>0.0</td>\n",
       "      <td>2015-12-05 03:18:11</td>\n",
       "    </tr>\n",
       "    <tr>\n",
       "      <th>2</th>\n",
       "      <td>L2O_INwlrRuoX05KSjc4eg</td>\n",
       "      <td>5vD2kmE25YBrbayKhykNxQ</td>\n",
       "      <td>nlxHRv1zXGT0c0K51q3jDg</td>\n",
       "      <td>5.0</td>\n",
       "      <td>2.0</td>\n",
       "      <td>0.0</td>\n",
       "      <td>0.0</td>\n",
       "      <td>2013-05-07 07:25:25</td>\n",
       "    </tr>\n",
       "    <tr>\n",
       "      <th>3</th>\n",
       "      <td>ZayJ1zWyWgY9S_TRLT_y9Q</td>\n",
       "      <td>aq_ZxGHiri48TUXJlpRkCQ</td>\n",
       "      <td>Pthe4qk5xh4n-ef-9bvMSg</td>\n",
       "      <td>5.0</td>\n",
       "      <td>1.0</td>\n",
       "      <td>0.0</td>\n",
       "      <td>0.0</td>\n",
       "      <td>2015-11-05 23:11:05</td>\n",
       "    </tr>\n",
       "    <tr>\n",
       "      <th>4</th>\n",
       "      <td>lpFIJYpsvDxyph-kPzZ6aA</td>\n",
       "      <td>dsd-KNYKMpx6ma_sRWCSkQ</td>\n",
       "      <td>FNCJpSn0tL9iqoY3JC73qw</td>\n",
       "      <td>5.0</td>\n",
       "      <td>0.0</td>\n",
       "      <td>0.0</td>\n",
       "      <td>0.0</td>\n",
       "      <td>2017-07-18 18:31:54</td>\n",
       "    </tr>\n",
       "    <tr>\n",
       "      <th>...</th>\n",
       "      <td>...</td>\n",
       "      <td>...</td>\n",
       "      <td>...</td>\n",
       "      <td>...</td>\n",
       "      <td>...</td>\n",
       "      <td>...</td>\n",
       "      <td>...</td>\n",
       "      <td>...</td>\n",
       "    </tr>\n",
       "    <tr>\n",
       "      <th>5124438</th>\n",
       "      <td>43ugcDASS-mGv0eYozge_g</td>\n",
       "      <td>kyxGYZpa4UNmA7Q0gmQmYA</td>\n",
       "      <td>H85um1dDQHAeUJ6AqYIqww</td>\n",
       "      <td>1.0</td>\n",
       "      <td>0.0</td>\n",
       "      <td>0.0</td>\n",
       "      <td>0.0</td>\n",
       "      <td>2019-12-10 12:07:55</td>\n",
       "    </tr>\n",
       "    <tr>\n",
       "      <th>5124439</th>\n",
       "      <td>LAzw2u1ucY722ryLEXHdgg</td>\n",
       "      <td>6DMFD3BRp-MVzDQelRx5UQ</td>\n",
       "      <td>XW2kaXdahICaJ27A0dhGHg</td>\n",
       "      <td>1.0</td>\n",
       "      <td>1.0</td>\n",
       "      <td>0.0</td>\n",
       "      <td>1.0</td>\n",
       "      <td>2019-12-11 01:07:06</td>\n",
       "    </tr>\n",
       "    <tr>\n",
       "      <th>5124440</th>\n",
       "      <td>gMDU14Fa_DVIcPvsKtubJA</td>\n",
       "      <td>_g6P8H3-qfbz1FxbffS68g</td>\n",
       "      <td>IsoLzudHC50oJLiEWpwV-w</td>\n",
       "      <td>3.0</td>\n",
       "      <td>1.0</td>\n",
       "      <td>3.0</td>\n",
       "      <td>1.0</td>\n",
       "      <td>2019-12-10 04:15:00</td>\n",
       "    </tr>\n",
       "    <tr>\n",
       "      <th>5124441</th>\n",
       "      <td>-z_MM0pAf9RtZbyPlphTlA</td>\n",
       "      <td>lBuAACBEThaQHQGMzAlKpg</td>\n",
       "      <td>VKVDDHKtsdrnigeIf9S8RA</td>\n",
       "      <td>3.0</td>\n",
       "      <td>2.0</td>\n",
       "      <td>0.0</td>\n",
       "      <td>0.0</td>\n",
       "      <td>2018-07-05 18:45:21</td>\n",
       "    </tr>\n",
       "    <tr>\n",
       "      <th>5124442</th>\n",
       "      <td>nK0JGgr8aO4mcFPU4pDOEA</td>\n",
       "      <td>fiA6ztHPONUkmX6yKIXyHg</td>\n",
       "      <td>2SbyRgHWuWNlq18eHAx95Q</td>\n",
       "      <td>5.0</td>\n",
       "      <td>2.0</td>\n",
       "      <td>0.0</td>\n",
       "      <td>2.0</td>\n",
       "      <td>2019-12-07 00:29:55</td>\n",
       "    </tr>\n",
       "  </tbody>\n",
       "</table>\n",
       "<p>5124443 rows × 8 columns</p>\n",
       "</div>"
      ],
      "text/plain": [
       "                      reseña_id              usuario_id  \\\n",
       "0        UmFMZ8PyXZTY2QcwzsfQYA  nIJD_7ZXHq-FX8byPMOkMQ   \n",
       "1        LG2ZaYiOgpr2DK_90pYjNw  V34qejxNsCbcgD8C0HVk-Q   \n",
       "2        L2O_INwlrRuoX05KSjc4eg  5vD2kmE25YBrbayKhykNxQ   \n",
       "3        ZayJ1zWyWgY9S_TRLT_y9Q  aq_ZxGHiri48TUXJlpRkCQ   \n",
       "4        lpFIJYpsvDxyph-kPzZ6aA  dsd-KNYKMpx6ma_sRWCSkQ   \n",
       "...                         ...                     ...   \n",
       "5124438  43ugcDASS-mGv0eYozge_g  kyxGYZpa4UNmA7Q0gmQmYA   \n",
       "5124439  LAzw2u1ucY722ryLEXHdgg  6DMFD3BRp-MVzDQelRx5UQ   \n",
       "5124440  gMDU14Fa_DVIcPvsKtubJA  _g6P8H3-qfbz1FxbffS68g   \n",
       "5124441  -z_MM0pAf9RtZbyPlphTlA  lBuAACBEThaQHQGMzAlKpg   \n",
       "5124442  nK0JGgr8aO4mcFPU4pDOEA  fiA6ztHPONUkmX6yKIXyHg   \n",
       "\n",
       "                     negocio_id  estrellas  util  gracioso  genial  \\\n",
       "0        lbrU8StCq3yDfr-QMnGrmQ        1.0   1.0       1.0     0.0   \n",
       "1        HQl28KMwrEKHqhFrrDqVNQ        5.0   1.0       0.0     0.0   \n",
       "2        nlxHRv1zXGT0c0K51q3jDg        5.0   2.0       0.0     0.0   \n",
       "3        Pthe4qk5xh4n-ef-9bvMSg        5.0   1.0       0.0     0.0   \n",
       "4        FNCJpSn0tL9iqoY3JC73qw        5.0   0.0       0.0     0.0   \n",
       "...                         ...        ...   ...       ...     ...   \n",
       "5124438  H85um1dDQHAeUJ6AqYIqww        1.0   0.0       0.0     0.0   \n",
       "5124439  XW2kaXdahICaJ27A0dhGHg        1.0   1.0       0.0     1.0   \n",
       "5124440  IsoLzudHC50oJLiEWpwV-w        3.0   1.0       3.0     1.0   \n",
       "5124441  VKVDDHKtsdrnigeIf9S8RA        3.0   2.0       0.0     0.0   \n",
       "5124442  2SbyRgHWuWNlq18eHAx95Q        5.0   2.0       0.0     2.0   \n",
       "\n",
       "                       fecha  \n",
       "0        2013-12-07 03:16:52  \n",
       "1        2015-12-05 03:18:11  \n",
       "2        2013-05-07 07:25:25  \n",
       "3        2015-11-05 23:11:05  \n",
       "4        2017-07-18 18:31:54  \n",
       "...                      ...  \n",
       "5124438  2019-12-10 12:07:55  \n",
       "5124439  2019-12-11 01:07:06  \n",
       "5124440  2019-12-10 04:15:00  \n",
       "5124441  2018-07-05 18:45:21  \n",
       "5124442  2019-12-07 00:29:55  \n",
       "\n",
       "[5124443 rows x 8 columns]"
      ]
     },
     "execution_count": 8,
     "metadata": {
      "tags": []
     },
     "output_type": "execute_result"
    }
   ],
   "source": [
    "review_data"
   ]
  },
  {
   "cell_type": "code",
   "execution_count": null,
   "metadata": {
    "id": "65jUR9ECFF-c"
   },
   "outputs": [],
   "source": [
    "usuario_data = pd.read_csv(\"usuario.csv\")"
   ]
  },
  {
   "cell_type": "code",
   "execution_count": null,
   "metadata": {
    "id": "VaZeiz83FF-h",
    "outputId": "42ad1d7f-3980-44f5-d6de-19e6a92eb63f"
   },
   "outputs": [
    {
     "data": {
      "text/plain": [
       "(1574962, 21)"
      ]
     },
     "execution_count": 12,
     "metadata": {
      "tags": []
     },
     "output_type": "execute_result"
    }
   ],
   "source": [
    "usuario_data.shape"
   ]
  },
  {
   "cell_type": "code",
   "execution_count": null,
   "metadata": {
    "id": "1avwpjpkFF-i"
   },
   "outputs": [],
   "source": []
  }
 ],
 "metadata": {
  "colab": {
   "name": "Camilo.ipynb",
   "provenance": []
  },
  "kernelspec": {
   "display_name": "Python 3",
   "language": "python",
   "name": "python3"
  },
  "language_info": {
   "codemirror_mode": {
    "name": "ipython",
    "version": 3
   },
   "file_extension": ".py",
   "mimetype": "text/x-python",
   "name": "python",
   "nbconvert_exporter": "python",
   "pygments_lexer": "ipython3",
   "version": "3.7.6"
  }
 },
 "nbformat": 4,
 "nbformat_minor": 1
}
